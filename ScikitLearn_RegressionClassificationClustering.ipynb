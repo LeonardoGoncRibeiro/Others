{
  "nbformat": 4,
  "nbformat_minor": 0,
  "metadata": {
    "colab": {
      "name": "ScikitLearn_RegressionClassificationClustering.ipynb",
      "provenance": [],
      "collapsed_sections": [],
      "authorship_tag": "ABX9TyMq5eNY/l+MlINXI/irRZmF",
      "include_colab_link": true
    },
    "kernelspec": {
      "name": "python3",
      "display_name": "Python 3"
    },
    "language_info": {
      "name": "python"
    }
  },
  "cells": [
    {
      "cell_type": "markdown",
      "metadata": {
        "id": "view-in-github",
        "colab_type": "text"
      },
      "source": [
        "<a href=\"https://colab.research.google.com/github/LeonardoGoncRibeiro/Others/blob/SKLearn_Introduction/ScikitLearn_RegressionClassificationClustering.ipynb\" target=\"_parent\"><img src=\"https://colab.research.google.com/assets/colab-badge.svg\" alt=\"Open In Colab\"/></a>"
      ]
    },
    {
      "cell_type": "markdown",
      "source": [
        "# Scikit-Learn: Working with regression, classification and clustering\n",
        "\n",
        "In this course, we will understand how the sci-kit learn library can be used to perform predictions using Python. We will perform some applications of supervised and non-supervised learning using different methods.\n",
        "\n",
        "First, we will understand our dataset, and create training and test sets. Then, we will fit a classification algorithm, and try to make a prediction based on our classification model. After that, we will show how to use a regression model, and how these are able to provide predictions for continuous variables. Finally, we will use another dataset to work with clustering, and we will understand how to cluster our data in different types using an unsupervised learning algorithm.\n",
        "\n",
        "## Machine learning\n",
        "\n",
        "Machine learning is a field where users try to make machines learn from previous data. Machines learn **more** when they have **more data** to be based on. \n",
        "\n",
        "Our machine will be trained until it can, by itself, perform some action or procedure.\n",
        "\n",
        "Some examples of applications of machine learning:\n",
        "\n",
        "*   Fraud alert\n",
        "*   Face recognition\n",
        "*   Recomendation algorithm\n",
        "*   Spam detector\n",
        "\n",
        "There are two main types of Machine Learning algorithms, which are applied to very different problems: supervised and unsupervised learning.\n",
        "\n",
        "1.   Supervised learning: Data has a target column. Thus, we usually want to predict a given target on a given data point. For instance, such algorithm can be used for classification of data.\n",
        "2.   Unsupervised learning: There is no target in our data. Usually, these algorithms try to cluster data in a specific and smart manner. For instance, such algorithms can be used for spam detection or fraud alert.\n",
        "\n",
        "The accuracy of a model can be assessed in different ways. For supervised learning, we can have a test set, and then test if prediction in these points is the same as their targets. For unsupervised learning, however, since we have no target, we have to analyze which is the best metric to measure accuracy."
      ],
      "metadata": {
        "id": "E5hPt4ltd0UO"
      }
    },
    {
      "cell_type": "markdown",
      "source": [
        "## Sci-kit learn\n",
        "\n",
        "Sci-kit learn is a strong tool to use Machine Learning algorithms in Python. This library already has multiple models implemented, and we do not need to implement the most common algorithms.\n",
        "\n",
        "To use the library, we simply have to do:"
      ],
      "metadata": {
        "id": "047mAul14RRG"
      }
    },
    {
      "cell_type": "code",
      "execution_count": 1,
      "metadata": {
        "id": "OQYNPpC5dj5o"
      },
      "outputs": [],
      "source": [
        "import sklearn;"
      ]
    },
    {
      "cell_type": "markdown",
      "source": [
        "We can see more about the library documentation from: https://scikit-learn.org/stable/"
      ],
      "metadata": {
        "id": "l93G2HGf4jHs"
      }
    },
    {
      "cell_type": "markdown",
      "source": [
        "## Datasets\n",
        "\n",
        "Sci-kit learn already has multiple toy and real-world datasets for the user to play and test with (https://scikit-learn.org/stable/datasets/toy_dataset.html). One example is the iris dataset (https://archive.ics.uci.edu/ml/datasets/iris). To import it, we simply do:"
      ],
      "metadata": {
        "id": "xYP5ShsT4nHf"
      }
    },
    {
      "cell_type": "code",
      "source": [
        "from sklearn import datasets;\n",
        "\n",
        "iris = datasets.load_iris;"
      ],
      "metadata": {
        "id": "z0wnfQOM4WaN"
      },
      "execution_count": 2,
      "outputs": []
    },
    {
      "cell_type": "markdown",
      "source": [
        "We can find a repository with multiple datasets in: https://archive.ics.uci.edu/ml/index.php"
      ],
      "metadata": {
        "id": "01eZbfC48h7f"
      }
    },
    {
      "cell_type": "markdown",
      "source": [
        "In this course, however, we will use three different datasets. To import those, we will use the Pandas library. The first dataset will be related to diabetes tests performed in different people.\n",
        "\n",
        "We can import our data set using:"
      ],
      "metadata": {
        "id": "5swtjoY05KL9"
      }
    },
    {
      "cell_type": "code",
      "source": [
        "import pandas as pd;\n",
        "\n",
        "diabetes_dataset = pd.read_csv('diabetes.csv');"
      ],
      "metadata": {
        "id": "Yb07mPeT46JZ"
      },
      "execution_count": 4,
      "outputs": []
    },
    {
      "cell_type": "markdown",
      "source": [
        "Let's take a look at the 5 first rows from this table:"
      ],
      "metadata": {
        "id": "RnA_NN0n5xRt"
      }
    },
    {
      "cell_type": "code",
      "source": [
        "diabetes_dataset.head( )"
      ],
      "metadata": {
        "colab": {
          "base_uri": "https://localhost:8080/",
          "height": 206
        },
        "id": "but4xQBQ5q_F",
        "outputId": "e99f90c1-a2c8-4b43-f389-19e8e5d8d2d9"
      },
      "execution_count": 6,
      "outputs": [
        {
          "output_type": "execute_result",
          "data": {
            "text/plain": [
              "   quantidade_gravidez  concentracao_glicose  pressao  espessura_triceps  \\\n",
              "0                    6                   148       72                 35   \n",
              "1                    1                    85       66                 29   \n",
              "2                    8                   183       64                  0   \n",
              "3                    1                    89       66                 23   \n",
              "4                    0                   137       40                 35   \n",
              "\n",
              "   insulina   imc  diabetes_pedigree  idade         resultado  \n",
              "0         0  33.6              0.627     50  testado_positivo  \n",
              "1         0  26.6              0.351     31  testado_negativo  \n",
              "2         0  23.3              0.672     32  testado_positivo  \n",
              "3        94  28.1              0.167     21  testado_negativo  \n",
              "4       168  43.1              2.288     33  testado_positivo  "
            ],
            "text/html": [
              "\n",
              "  <div id=\"df-326b40e3-fe65-451c-a465-49c182c51029\">\n",
              "    <div class=\"colab-df-container\">\n",
              "      <div>\n",
              "<style scoped>\n",
              "    .dataframe tbody tr th:only-of-type {\n",
              "        vertical-align: middle;\n",
              "    }\n",
              "\n",
              "    .dataframe tbody tr th {\n",
              "        vertical-align: top;\n",
              "    }\n",
              "\n",
              "    .dataframe thead th {\n",
              "        text-align: right;\n",
              "    }\n",
              "</style>\n",
              "<table border=\"1\" class=\"dataframe\">\n",
              "  <thead>\n",
              "    <tr style=\"text-align: right;\">\n",
              "      <th></th>\n",
              "      <th>quantidade_gravidez</th>\n",
              "      <th>concentracao_glicose</th>\n",
              "      <th>pressao</th>\n",
              "      <th>espessura_triceps</th>\n",
              "      <th>insulina</th>\n",
              "      <th>imc</th>\n",
              "      <th>diabetes_pedigree</th>\n",
              "      <th>idade</th>\n",
              "      <th>resultado</th>\n",
              "    </tr>\n",
              "  </thead>\n",
              "  <tbody>\n",
              "    <tr>\n",
              "      <th>0</th>\n",
              "      <td>6</td>\n",
              "      <td>148</td>\n",
              "      <td>72</td>\n",
              "      <td>35</td>\n",
              "      <td>0</td>\n",
              "      <td>33.6</td>\n",
              "      <td>0.627</td>\n",
              "      <td>50</td>\n",
              "      <td>testado_positivo</td>\n",
              "    </tr>\n",
              "    <tr>\n",
              "      <th>1</th>\n",
              "      <td>1</td>\n",
              "      <td>85</td>\n",
              "      <td>66</td>\n",
              "      <td>29</td>\n",
              "      <td>0</td>\n",
              "      <td>26.6</td>\n",
              "      <td>0.351</td>\n",
              "      <td>31</td>\n",
              "      <td>testado_negativo</td>\n",
              "    </tr>\n",
              "    <tr>\n",
              "      <th>2</th>\n",
              "      <td>8</td>\n",
              "      <td>183</td>\n",
              "      <td>64</td>\n",
              "      <td>0</td>\n",
              "      <td>0</td>\n",
              "      <td>23.3</td>\n",
              "      <td>0.672</td>\n",
              "      <td>32</td>\n",
              "      <td>testado_positivo</td>\n",
              "    </tr>\n",
              "    <tr>\n",
              "      <th>3</th>\n",
              "      <td>1</td>\n",
              "      <td>89</td>\n",
              "      <td>66</td>\n",
              "      <td>23</td>\n",
              "      <td>94</td>\n",
              "      <td>28.1</td>\n",
              "      <td>0.167</td>\n",
              "      <td>21</td>\n",
              "      <td>testado_negativo</td>\n",
              "    </tr>\n",
              "    <tr>\n",
              "      <th>4</th>\n",
              "      <td>0</td>\n",
              "      <td>137</td>\n",
              "      <td>40</td>\n",
              "      <td>35</td>\n",
              "      <td>168</td>\n",
              "      <td>43.1</td>\n",
              "      <td>2.288</td>\n",
              "      <td>33</td>\n",
              "      <td>testado_positivo</td>\n",
              "    </tr>\n",
              "  </tbody>\n",
              "</table>\n",
              "</div>\n",
              "      <button class=\"colab-df-convert\" onclick=\"convertToInteractive('df-326b40e3-fe65-451c-a465-49c182c51029')\"\n",
              "              title=\"Convert this dataframe to an interactive table.\"\n",
              "              style=\"display:none;\">\n",
              "        \n",
              "  <svg xmlns=\"http://www.w3.org/2000/svg\" height=\"24px\"viewBox=\"0 0 24 24\"\n",
              "       width=\"24px\">\n",
              "    <path d=\"M0 0h24v24H0V0z\" fill=\"none\"/>\n",
              "    <path d=\"M18.56 5.44l.94 2.06.94-2.06 2.06-.94-2.06-.94-.94-2.06-.94 2.06-2.06.94zm-11 1L8.5 8.5l.94-2.06 2.06-.94-2.06-.94L8.5 2.5l-.94 2.06-2.06.94zm10 10l.94 2.06.94-2.06 2.06-.94-2.06-.94-.94-2.06-.94 2.06-2.06.94z\"/><path d=\"M17.41 7.96l-1.37-1.37c-.4-.4-.92-.59-1.43-.59-.52 0-1.04.2-1.43.59L10.3 9.45l-7.72 7.72c-.78.78-.78 2.05 0 2.83L4 21.41c.39.39.9.59 1.41.59.51 0 1.02-.2 1.41-.59l7.78-7.78 2.81-2.81c.8-.78.8-2.07 0-2.86zM5.41 20L4 18.59l7.72-7.72 1.47 1.35L5.41 20z\"/>\n",
              "  </svg>\n",
              "      </button>\n",
              "      \n",
              "  <style>\n",
              "    .colab-df-container {\n",
              "      display:flex;\n",
              "      flex-wrap:wrap;\n",
              "      gap: 12px;\n",
              "    }\n",
              "\n",
              "    .colab-df-convert {\n",
              "      background-color: #E8F0FE;\n",
              "      border: none;\n",
              "      border-radius: 50%;\n",
              "      cursor: pointer;\n",
              "      display: none;\n",
              "      fill: #1967D2;\n",
              "      height: 32px;\n",
              "      padding: 0 0 0 0;\n",
              "      width: 32px;\n",
              "    }\n",
              "\n",
              "    .colab-df-convert:hover {\n",
              "      background-color: #E2EBFA;\n",
              "      box-shadow: 0px 1px 2px rgba(60, 64, 67, 0.3), 0px 1px 3px 1px rgba(60, 64, 67, 0.15);\n",
              "      fill: #174EA6;\n",
              "    }\n",
              "\n",
              "    [theme=dark] .colab-df-convert {\n",
              "      background-color: #3B4455;\n",
              "      fill: #D2E3FC;\n",
              "    }\n",
              "\n",
              "    [theme=dark] .colab-df-convert:hover {\n",
              "      background-color: #434B5C;\n",
              "      box-shadow: 0px 1px 3px 1px rgba(0, 0, 0, 0.15);\n",
              "      filter: drop-shadow(0px 1px 2px rgba(0, 0, 0, 0.3));\n",
              "      fill: #FFFFFF;\n",
              "    }\n",
              "  </style>\n",
              "\n",
              "      <script>\n",
              "        const buttonEl =\n",
              "          document.querySelector('#df-326b40e3-fe65-451c-a465-49c182c51029 button.colab-df-convert');\n",
              "        buttonEl.style.display =\n",
              "          google.colab.kernel.accessAllowed ? 'block' : 'none';\n",
              "\n",
              "        async function convertToInteractive(key) {\n",
              "          const element = document.querySelector('#df-326b40e3-fe65-451c-a465-49c182c51029');\n",
              "          const dataTable =\n",
              "            await google.colab.kernel.invokeFunction('convertToInteractive',\n",
              "                                                     [key], {});\n",
              "          if (!dataTable) return;\n",
              "\n",
              "          const docLinkHtml = 'Like what you see? Visit the ' +\n",
              "            '<a target=\"_blank\" href=https://colab.research.google.com/notebooks/data_table.ipynb>data table notebook</a>'\n",
              "            + ' to learn more about interactive tables.';\n",
              "          element.innerHTML = '';\n",
              "          dataTable['output_type'] = 'display_data';\n",
              "          await google.colab.output.renderOutput(dataTable, element);\n",
              "          const docLink = document.createElement('div');\n",
              "          docLink.innerHTML = docLinkHtml;\n",
              "          element.appendChild(docLink);\n",
              "        }\n",
              "      </script>\n",
              "    </div>\n",
              "  </div>\n",
              "  "
            ]
          },
          "metadata": {},
          "execution_count": 6
        }
      ]
    },
    {
      "cell_type": "markdown",
      "source": [
        "Nice! Everything worked out. In this dataset, we have information about:\n",
        "\n",
        "\n",
        "*   Number of times the patient got pregnant.\n",
        "*   Glucose concentration\n",
        "*   Blood pressure\n",
        "*   Triceps thickness\n",
        "*   Insulin\n",
        "*   IMC\n",
        "*   Diabetes pedigree (likelihood of diabetes based on family history)\n",
        "*   Age\n",
        "\n",
        "Also, we have a target:\n",
        "\n",
        "* Test result (positive or negative)\n",
        "\n"
      ],
      "metadata": {
        "id": "a7e7qaMM53pc"
      }
    },
    {
      "cell_type": "markdown",
      "source": [
        "Let's now import our second dataset, now related to heart rate:"
      ],
      "metadata": {
        "id": "H1zD-PuI6rUU"
      }
    },
    {
      "cell_type": "code",
      "source": [
        "batimentos_dataset = pd.read_csv('batimentos cardiacos.csv')\n",
        "\n",
        "batimentos_dataset.head( )"
      ],
      "metadata": {
        "colab": {
          "base_uri": "https://localhost:8080/",
          "height": 206
        },
        "id": "PXafkXbz51Oz",
        "outputId": "7e575a6c-9e11-4abc-d94d-968f634afa6e"
      },
      "execution_count": 7,
      "outputs": [
        {
          "output_type": "execute_result",
          "data": {
            "text/plain": [
              "       Idade        Peso  Horas de atividade  Batimentos cardiacos\n",
              "0  44.247295   53.591343            3.397836             82.307425\n",
              "1  81.427930  172.569375           33.142344            179.045377\n",
              "2  50.807130   74.582817            8.645704            103.522796\n",
              "3  55.778712   90.491878           12.622969            114.239779\n",
              "4  53.790400   84.129280           11.032320            107.184063"
            ],
            "text/html": [
              "\n",
              "  <div id=\"df-f4e7e9f0-6015-41df-a1a2-6f468998a724\">\n",
              "    <div class=\"colab-df-container\">\n",
              "      <div>\n",
              "<style scoped>\n",
              "    .dataframe tbody tr th:only-of-type {\n",
              "        vertical-align: middle;\n",
              "    }\n",
              "\n",
              "    .dataframe tbody tr th {\n",
              "        vertical-align: top;\n",
              "    }\n",
              "\n",
              "    .dataframe thead th {\n",
              "        text-align: right;\n",
              "    }\n",
              "</style>\n",
              "<table border=\"1\" class=\"dataframe\">\n",
              "  <thead>\n",
              "    <tr style=\"text-align: right;\">\n",
              "      <th></th>\n",
              "      <th>Idade</th>\n",
              "      <th>Peso</th>\n",
              "      <th>Horas de atividade</th>\n",
              "      <th>Batimentos cardiacos</th>\n",
              "    </tr>\n",
              "  </thead>\n",
              "  <tbody>\n",
              "    <tr>\n",
              "      <th>0</th>\n",
              "      <td>44.247295</td>\n",
              "      <td>53.591343</td>\n",
              "      <td>3.397836</td>\n",
              "      <td>82.307425</td>\n",
              "    </tr>\n",
              "    <tr>\n",
              "      <th>1</th>\n",
              "      <td>81.427930</td>\n",
              "      <td>172.569375</td>\n",
              "      <td>33.142344</td>\n",
              "      <td>179.045377</td>\n",
              "    </tr>\n",
              "    <tr>\n",
              "      <th>2</th>\n",
              "      <td>50.807130</td>\n",
              "      <td>74.582817</td>\n",
              "      <td>8.645704</td>\n",
              "      <td>103.522796</td>\n",
              "    </tr>\n",
              "    <tr>\n",
              "      <th>3</th>\n",
              "      <td>55.778712</td>\n",
              "      <td>90.491878</td>\n",
              "      <td>12.622969</td>\n",
              "      <td>114.239779</td>\n",
              "    </tr>\n",
              "    <tr>\n",
              "      <th>4</th>\n",
              "      <td>53.790400</td>\n",
              "      <td>84.129280</td>\n",
              "      <td>11.032320</td>\n",
              "      <td>107.184063</td>\n",
              "    </tr>\n",
              "  </tbody>\n",
              "</table>\n",
              "</div>\n",
              "      <button class=\"colab-df-convert\" onclick=\"convertToInteractive('df-f4e7e9f0-6015-41df-a1a2-6f468998a724')\"\n",
              "              title=\"Convert this dataframe to an interactive table.\"\n",
              "              style=\"display:none;\">\n",
              "        \n",
              "  <svg xmlns=\"http://www.w3.org/2000/svg\" height=\"24px\"viewBox=\"0 0 24 24\"\n",
              "       width=\"24px\">\n",
              "    <path d=\"M0 0h24v24H0V0z\" fill=\"none\"/>\n",
              "    <path d=\"M18.56 5.44l.94 2.06.94-2.06 2.06-.94-2.06-.94-.94-2.06-.94 2.06-2.06.94zm-11 1L8.5 8.5l.94-2.06 2.06-.94-2.06-.94L8.5 2.5l-.94 2.06-2.06.94zm10 10l.94 2.06.94-2.06 2.06-.94-2.06-.94-.94-2.06-.94 2.06-2.06.94z\"/><path d=\"M17.41 7.96l-1.37-1.37c-.4-.4-.92-.59-1.43-.59-.52 0-1.04.2-1.43.59L10.3 9.45l-7.72 7.72c-.78.78-.78 2.05 0 2.83L4 21.41c.39.39.9.59 1.41.59.51 0 1.02-.2 1.41-.59l7.78-7.78 2.81-2.81c.8-.78.8-2.07 0-2.86zM5.41 20L4 18.59l7.72-7.72 1.47 1.35L5.41 20z\"/>\n",
              "  </svg>\n",
              "      </button>\n",
              "      \n",
              "  <style>\n",
              "    .colab-df-container {\n",
              "      display:flex;\n",
              "      flex-wrap:wrap;\n",
              "      gap: 12px;\n",
              "    }\n",
              "\n",
              "    .colab-df-convert {\n",
              "      background-color: #E8F0FE;\n",
              "      border: none;\n",
              "      border-radius: 50%;\n",
              "      cursor: pointer;\n",
              "      display: none;\n",
              "      fill: #1967D2;\n",
              "      height: 32px;\n",
              "      padding: 0 0 0 0;\n",
              "      width: 32px;\n",
              "    }\n",
              "\n",
              "    .colab-df-convert:hover {\n",
              "      background-color: #E2EBFA;\n",
              "      box-shadow: 0px 1px 2px rgba(60, 64, 67, 0.3), 0px 1px 3px 1px rgba(60, 64, 67, 0.15);\n",
              "      fill: #174EA6;\n",
              "    }\n",
              "\n",
              "    [theme=dark] .colab-df-convert {\n",
              "      background-color: #3B4455;\n",
              "      fill: #D2E3FC;\n",
              "    }\n",
              "\n",
              "    [theme=dark] .colab-df-convert:hover {\n",
              "      background-color: #434B5C;\n",
              "      box-shadow: 0px 1px 3px 1px rgba(0, 0, 0, 0.15);\n",
              "      filter: drop-shadow(0px 1px 2px rgba(0, 0, 0, 0.3));\n",
              "      fill: #FFFFFF;\n",
              "    }\n",
              "  </style>\n",
              "\n",
              "      <script>\n",
              "        const buttonEl =\n",
              "          document.querySelector('#df-f4e7e9f0-6015-41df-a1a2-6f468998a724 button.colab-df-convert');\n",
              "        buttonEl.style.display =\n",
              "          google.colab.kernel.accessAllowed ? 'block' : 'none';\n",
              "\n",
              "        async function convertToInteractive(key) {\n",
              "          const element = document.querySelector('#df-f4e7e9f0-6015-41df-a1a2-6f468998a724');\n",
              "          const dataTable =\n",
              "            await google.colab.kernel.invokeFunction('convertToInteractive',\n",
              "                                                     [key], {});\n",
              "          if (!dataTable) return;\n",
              "\n",
              "          const docLinkHtml = 'Like what you see? Visit the ' +\n",
              "            '<a target=\"_blank\" href=https://colab.research.google.com/notebooks/data_table.ipynb>data table notebook</a>'\n",
              "            + ' to learn more about interactive tables.';\n",
              "          element.innerHTML = '';\n",
              "          dataTable['output_type'] = 'display_data';\n",
              "          await google.colab.output.renderOutput(dataTable, element);\n",
              "          const docLink = document.createElement('div');\n",
              "          docLink.innerHTML = docLinkHtml;\n",
              "          element.appendChild(docLink);\n",
              "        }\n",
              "      </script>\n",
              "    </div>\n",
              "  </div>\n",
              "  "
            ]
          },
          "metadata": {},
          "execution_count": 7
        }
      ]
    },
    {
      "cell_type": "markdown",
      "source": [
        "This time, we have information about:\n",
        "\n",
        "\n",
        "*   Age\n",
        "*   Weight\n",
        "*   Activity hours\n",
        "\n",
        "And, as a target, we have:\n",
        "\n",
        "\n",
        "\n",
        "*   Heart rate\n",
        "\n",
        "\n",
        "\n"
      ],
      "metadata": {
        "id": "d6Qthg6e7ClL"
      }
    },
    {
      "cell_type": "markdown",
      "source": [
        "Our final dataset is related to cholesterol:"
      ],
      "metadata": {
        "id": "x8Gnfy5b7N4D"
      }
    },
    {
      "cell_type": "code",
      "source": [
        "colesterol_dataset = pd.read_csv('colesterol.csv')\n",
        "\n",
        "colesterol_dataset.head( )"
      ],
      "metadata": {
        "colab": {
          "base_uri": "https://localhost:8080/",
          "height": 270
        },
        "id": "sjq9uprG7B1Y",
        "outputId": "b0fdac2a-3e39-4981-cb68-c8a85f3d732d"
      },
      "execution_count": 8,
      "outputs": [
        {
          "output_type": "execute_result",
          "data": {
            "text/plain": [
              "   idade  genero  tipo_dor_peito  pressao_sanguinea_repouso  acucar_jejum  \\\n",
              "0     63       1               1                        145             1   \n",
              "1     67       1               4                        160             0   \n",
              "2     67       1               4                        120             0   \n",
              "3     37       1               3                        130             0   \n",
              "4     41       0               2                        130             0   \n",
              "\n",
              "   resultado_eletrocardio  freq_cardio_max  angina_exercicio  \\\n",
              "0                       2              150                 0   \n",
              "1                       2              108                 1   \n",
              "2                       2              129                 1   \n",
              "3                       0              187                 0   \n",
              "4                       2              172                 0   \n",
              "\n",
              "   depressao_induzida_exercicio  inclinacao num_princ_vasos thal  \\\n",
              "0                           2.3           3               0    6   \n",
              "1                           1.5           2               3    3   \n",
              "2                           2.6           2               2    7   \n",
              "3                           3.5           3               0    3   \n",
              "4                           1.4           1               0    3   \n",
              "\n",
              "   diag_doenca_cardiaca  colesterol  \n",
              "0                     0         233  \n",
              "1                     2         286  \n",
              "2                     1         229  \n",
              "3                     0         250  \n",
              "4                     0         204  "
            ],
            "text/html": [
              "\n",
              "  <div id=\"df-97315ad9-2cd0-4a02-ba38-5b6a5a5ac852\">\n",
              "    <div class=\"colab-df-container\">\n",
              "      <div>\n",
              "<style scoped>\n",
              "    .dataframe tbody tr th:only-of-type {\n",
              "        vertical-align: middle;\n",
              "    }\n",
              "\n",
              "    .dataframe tbody tr th {\n",
              "        vertical-align: top;\n",
              "    }\n",
              "\n",
              "    .dataframe thead th {\n",
              "        text-align: right;\n",
              "    }\n",
              "</style>\n",
              "<table border=\"1\" class=\"dataframe\">\n",
              "  <thead>\n",
              "    <tr style=\"text-align: right;\">\n",
              "      <th></th>\n",
              "      <th>idade</th>\n",
              "      <th>genero</th>\n",
              "      <th>tipo_dor_peito</th>\n",
              "      <th>pressao_sanguinea_repouso</th>\n",
              "      <th>acucar_jejum</th>\n",
              "      <th>resultado_eletrocardio</th>\n",
              "      <th>freq_cardio_max</th>\n",
              "      <th>angina_exercicio</th>\n",
              "      <th>depressao_induzida_exercicio</th>\n",
              "      <th>inclinacao</th>\n",
              "      <th>num_princ_vasos</th>\n",
              "      <th>thal</th>\n",
              "      <th>diag_doenca_cardiaca</th>\n",
              "      <th>colesterol</th>\n",
              "    </tr>\n",
              "  </thead>\n",
              "  <tbody>\n",
              "    <tr>\n",
              "      <th>0</th>\n",
              "      <td>63</td>\n",
              "      <td>1</td>\n",
              "      <td>1</td>\n",
              "      <td>145</td>\n",
              "      <td>1</td>\n",
              "      <td>2</td>\n",
              "      <td>150</td>\n",
              "      <td>0</td>\n",
              "      <td>2.3</td>\n",
              "      <td>3</td>\n",
              "      <td>0</td>\n",
              "      <td>6</td>\n",
              "      <td>0</td>\n",
              "      <td>233</td>\n",
              "    </tr>\n",
              "    <tr>\n",
              "      <th>1</th>\n",
              "      <td>67</td>\n",
              "      <td>1</td>\n",
              "      <td>4</td>\n",
              "      <td>160</td>\n",
              "      <td>0</td>\n",
              "      <td>2</td>\n",
              "      <td>108</td>\n",
              "      <td>1</td>\n",
              "      <td>1.5</td>\n",
              "      <td>2</td>\n",
              "      <td>3</td>\n",
              "      <td>3</td>\n",
              "      <td>2</td>\n",
              "      <td>286</td>\n",
              "    </tr>\n",
              "    <tr>\n",
              "      <th>2</th>\n",
              "      <td>67</td>\n",
              "      <td>1</td>\n",
              "      <td>4</td>\n",
              "      <td>120</td>\n",
              "      <td>0</td>\n",
              "      <td>2</td>\n",
              "      <td>129</td>\n",
              "      <td>1</td>\n",
              "      <td>2.6</td>\n",
              "      <td>2</td>\n",
              "      <td>2</td>\n",
              "      <td>7</td>\n",
              "      <td>1</td>\n",
              "      <td>229</td>\n",
              "    </tr>\n",
              "    <tr>\n",
              "      <th>3</th>\n",
              "      <td>37</td>\n",
              "      <td>1</td>\n",
              "      <td>3</td>\n",
              "      <td>130</td>\n",
              "      <td>0</td>\n",
              "      <td>0</td>\n",
              "      <td>187</td>\n",
              "      <td>0</td>\n",
              "      <td>3.5</td>\n",
              "      <td>3</td>\n",
              "      <td>0</td>\n",
              "      <td>3</td>\n",
              "      <td>0</td>\n",
              "      <td>250</td>\n",
              "    </tr>\n",
              "    <tr>\n",
              "      <th>4</th>\n",
              "      <td>41</td>\n",
              "      <td>0</td>\n",
              "      <td>2</td>\n",
              "      <td>130</td>\n",
              "      <td>0</td>\n",
              "      <td>2</td>\n",
              "      <td>172</td>\n",
              "      <td>0</td>\n",
              "      <td>1.4</td>\n",
              "      <td>1</td>\n",
              "      <td>0</td>\n",
              "      <td>3</td>\n",
              "      <td>0</td>\n",
              "      <td>204</td>\n",
              "    </tr>\n",
              "  </tbody>\n",
              "</table>\n",
              "</div>\n",
              "      <button class=\"colab-df-convert\" onclick=\"convertToInteractive('df-97315ad9-2cd0-4a02-ba38-5b6a5a5ac852')\"\n",
              "              title=\"Convert this dataframe to an interactive table.\"\n",
              "              style=\"display:none;\">\n",
              "        \n",
              "  <svg xmlns=\"http://www.w3.org/2000/svg\" height=\"24px\"viewBox=\"0 0 24 24\"\n",
              "       width=\"24px\">\n",
              "    <path d=\"M0 0h24v24H0V0z\" fill=\"none\"/>\n",
              "    <path d=\"M18.56 5.44l.94 2.06.94-2.06 2.06-.94-2.06-.94-.94-2.06-.94 2.06-2.06.94zm-11 1L8.5 8.5l.94-2.06 2.06-.94-2.06-.94L8.5 2.5l-.94 2.06-2.06.94zm10 10l.94 2.06.94-2.06 2.06-.94-2.06-.94-.94-2.06-.94 2.06-2.06.94z\"/><path d=\"M17.41 7.96l-1.37-1.37c-.4-.4-.92-.59-1.43-.59-.52 0-1.04.2-1.43.59L10.3 9.45l-7.72 7.72c-.78.78-.78 2.05 0 2.83L4 21.41c.39.39.9.59 1.41.59.51 0 1.02-.2 1.41-.59l7.78-7.78 2.81-2.81c.8-.78.8-2.07 0-2.86zM5.41 20L4 18.59l7.72-7.72 1.47 1.35L5.41 20z\"/>\n",
              "  </svg>\n",
              "      </button>\n",
              "      \n",
              "  <style>\n",
              "    .colab-df-container {\n",
              "      display:flex;\n",
              "      flex-wrap:wrap;\n",
              "      gap: 12px;\n",
              "    }\n",
              "\n",
              "    .colab-df-convert {\n",
              "      background-color: #E8F0FE;\n",
              "      border: none;\n",
              "      border-radius: 50%;\n",
              "      cursor: pointer;\n",
              "      display: none;\n",
              "      fill: #1967D2;\n",
              "      height: 32px;\n",
              "      padding: 0 0 0 0;\n",
              "      width: 32px;\n",
              "    }\n",
              "\n",
              "    .colab-df-convert:hover {\n",
              "      background-color: #E2EBFA;\n",
              "      box-shadow: 0px 1px 2px rgba(60, 64, 67, 0.3), 0px 1px 3px 1px rgba(60, 64, 67, 0.15);\n",
              "      fill: #174EA6;\n",
              "    }\n",
              "\n",
              "    [theme=dark] .colab-df-convert {\n",
              "      background-color: #3B4455;\n",
              "      fill: #D2E3FC;\n",
              "    }\n",
              "\n",
              "    [theme=dark] .colab-df-convert:hover {\n",
              "      background-color: #434B5C;\n",
              "      box-shadow: 0px 1px 3px 1px rgba(0, 0, 0, 0.15);\n",
              "      filter: drop-shadow(0px 1px 2px rgba(0, 0, 0, 0.3));\n",
              "      fill: #FFFFFF;\n",
              "    }\n",
              "  </style>\n",
              "\n",
              "      <script>\n",
              "        const buttonEl =\n",
              "          document.querySelector('#df-97315ad9-2cd0-4a02-ba38-5b6a5a5ac852 button.colab-df-convert');\n",
              "        buttonEl.style.display =\n",
              "          google.colab.kernel.accessAllowed ? 'block' : 'none';\n",
              "\n",
              "        async function convertToInteractive(key) {\n",
              "          const element = document.querySelector('#df-97315ad9-2cd0-4a02-ba38-5b6a5a5ac852');\n",
              "          const dataTable =\n",
              "            await google.colab.kernel.invokeFunction('convertToInteractive',\n",
              "                                                     [key], {});\n",
              "          if (!dataTable) return;\n",
              "\n",
              "          const docLinkHtml = 'Like what you see? Visit the ' +\n",
              "            '<a target=\"_blank\" href=https://colab.research.google.com/notebooks/data_table.ipynb>data table notebook</a>'\n",
              "            + ' to learn more about interactive tables.';\n",
              "          element.innerHTML = '';\n",
              "          dataTable['output_type'] = 'display_data';\n",
              "          await google.colab.output.renderOutput(dataTable, element);\n",
              "          const docLink = document.createElement('div');\n",
              "          docLink.innerHTML = docLinkHtml;\n",
              "          element.appendChild(docLink);\n",
              "        }\n",
              "      </script>\n",
              "    </div>\n",
              "  </div>\n",
              "  "
            ]
          },
          "metadata": {},
          "execution_count": 8
        }
      ]
    },
    {
      "cell_type": "markdown",
      "source": [
        "Here, we have information about:\n",
        "\n",
        "*   Age\n",
        "*   Gender\n",
        "*   Type of chest pain\n",
        "*   Blood pressure (when resting)\n",
        "*   Sugar (fasting)\n",
        "*   ECG\n",
        "*   Maximum heart rate \n",
        "*   Presence of angina\n",
        "*   Induced depression\n",
        "*   Inclination\n",
        "*   Number of vases \n",
        "*   Thal\n",
        "*   Heart diseases\n",
        "*   Cholesterol\n",
        "\n",
        "Here, we will use a clustering method to identify each type of person\n",
        "\n"
      ],
      "metadata": {
        "id": "IT9JOlFw7j0D"
      }
    },
    {
      "cell_type": "markdown",
      "source": [
        "## Separation of data\n",
        "\n",
        "When using Machine Learning models, it is advised that we consider two different datasets: a training and a test set.\n",
        "\n",
        "The training set will be used to fit our model, so that it can represent our real world problem.\n",
        "\n",
        "The test set, on the other hand, will be used to test our model, and check if it is bringing good predictions (model accuracy).\n",
        "\n",
        "We can separate our dataset into training and test sets using the *train_test_split( )* function. For instance, separating a train and test set for the diabetes dataset:"
      ],
      "metadata": {
        "id": "HgtIrmqQ8sjc"
      }
    },
    {
      "cell_type": "code",
      "source": [
        "from sklearn.model_selection import train_test_split\n",
        "\n",
        "x = diabetes_dataset['idade']; y = diabetes_dataset['resultado'];\n",
        "\n",
        "X_train, X_test, y_train, y_test = train_test_split(x, y)"
      ],
      "metadata": {
        "id": "elKzSceT7jFg"
      },
      "execution_count": 9,
      "outputs": []
    },
    {
      "cell_type": "markdown",
      "source": [
        "Note that, here, we considered that only the age is being considered to train the model. However, we could have considered different or even multiple columns. Also, by default, 75% of the data goes to the training set and 25% goes to the test set."
      ],
      "metadata": {
        "id": "7cm6dW_i9838"
      }
    },
    {
      "cell_type": "markdown",
      "source": [
        "In this course, we will see how to use classification, regression and clustering models. First, we will start with a classification model."
      ],
      "metadata": {
        "id": "2la23e70-f_b"
      }
    },
    {
      "cell_type": "markdown",
      "source": [
        "# Classification\n",
        "\n",
        "First, we will deal with a classification problem. In classification problems, we often have multiple attributes (features), and we need to classify (label) and entry based on those attributes. A real-world example of this algorithm is spam detection. \n",
        "\n",
        "Usually, the labels are mapped to an integer. For instance, in the case of spam detection, we can consider that:\n",
        "\n",
        "*   0 - Not spam\n",
        "*   1 - Spam\n"
      ],
      "metadata": {
        "id": "94HejDIP-dUf"
      }
    },
    {
      "cell_type": "markdown",
      "source": [
        "Let's try to use a classification model in our diabetes dataset. Here, our target is 'resultado', which can be:"
      ],
      "metadata": {
        "id": "s0ZEAtvk_e0y"
      }
    },
    {
      "cell_type": "code",
      "source": [
        "diabetes_dataset['resultado'].unique( )"
      ],
      "metadata": {
        "colab": {
          "base_uri": "https://localhost:8080/"
        },
        "id": "bOTpzSci96nO",
        "outputId": "ca545033-e022-41f6-ce74-bfbb13629665"
      },
      "execution_count": 15,
      "outputs": [
        {
          "output_type": "execute_result",
          "data": {
            "text/plain": [
              "array(['testado_positivo', 'testado_negativo'], dtype=object)"
            ]
          },
          "metadata": {},
          "execution_count": 15
        }
      ]
    },
    {
      "cell_type": "markdown",
      "source": [
        "Ok. In our dataframe we have 768 entries, and there are no null entries. "
      ],
      "metadata": {
        "id": "kJV9AxpP_3Uz"
      }
    },
    {
      "cell_type": "code",
      "source": [
        "diabetes_dataset.info( )"
      ],
      "metadata": {
        "colab": {
          "base_uri": "https://localhost:8080/"
        },
        "id": "pJ9_EJt4_vVh",
        "outputId": "df40323d-9b82-4652-cb16-a6fc7b14b9dc"
      },
      "execution_count": 17,
      "outputs": [
        {
          "output_type": "stream",
          "name": "stdout",
          "text": [
            "<class 'pandas.core.frame.DataFrame'>\n",
            "RangeIndex: 768 entries, 0 to 767\n",
            "Data columns (total 9 columns):\n",
            " #   Column                Non-Null Count  Dtype  \n",
            "---  ------                --------------  -----  \n",
            " 0   quantidade_gravidez   768 non-null    int64  \n",
            " 1   concentracao_glicose  768 non-null    int64  \n",
            " 2   pressao               768 non-null    int64  \n",
            " 3   espessura_triceps     768 non-null    int64  \n",
            " 4   insulina              768 non-null    int64  \n",
            " 5   imc                   768 non-null    float64\n",
            " 6   diabetes_pedigree     768 non-null    float64\n",
            " 7   idade                 768 non-null    int64  \n",
            " 8   resultado             768 non-null    object \n",
            "dtypes: float64(2), int64(6), object(1)\n",
            "memory usage: 54.1+ KB\n"
          ]
        }
      ]
    },
    {
      "cell_type": "markdown",
      "source": [
        "Also, from our 768 entries, 500 show a negative result, and 268 show a positive result."
      ],
      "metadata": {
        "id": "uVzmWjqWAYTD"
      }
    },
    {
      "cell_type": "code",
      "source": [
        "diabetes_dataset['resultado'].value_counts( )"
      ],
      "metadata": {
        "colab": {
          "base_uri": "https://localhost:8080/"
        },
        "id": "Wit2_4A9_7DE",
        "outputId": "b76c8d69-d015-44fc-999a-4ecd935b6084"
      },
      "execution_count": 19,
      "outputs": [
        {
          "output_type": "execute_result",
          "data": {
            "text/plain": [
              "testado_negativo    500\n",
              "testado_positivo    268\n",
              "Name: resultado, dtype: int64"
            ]
          },
          "metadata": {},
          "execution_count": 19
        }
      ]
    },
    {
      "cell_type": "markdown",
      "source": [
        "Let's try to fit our model considering all possible features (excluding the test result itself). So, we can do:"
      ],
      "metadata": {
        "id": "fA6H6mNvAjYa"
      }
    },
    {
      "cell_type": "code",
      "source": [
        "x = diabetes_dataset.drop('resultado', axis = 1)\n",
        "\n",
        "x.head( )"
      ],
      "metadata": {
        "colab": {
          "base_uri": "https://localhost:8080/",
          "height": 206
        },
        "id": "zZ5wjADsASP9",
        "outputId": "3d0ffb2a-f947-48bf-bf4a-b6fd6733cc85"
      },
      "execution_count": 21,
      "outputs": [
        {
          "output_type": "execute_result",
          "data": {
            "text/plain": [
              "   quantidade_gravidez  concentracao_glicose  pressao  espessura_triceps  \\\n",
              "0                    6                   148       72                 35   \n",
              "1                    1                    85       66                 29   \n",
              "2                    8                   183       64                  0   \n",
              "3                    1                    89       66                 23   \n",
              "4                    0                   137       40                 35   \n",
              "\n",
              "   insulina   imc  diabetes_pedigree  idade  \n",
              "0         0  33.6              0.627     50  \n",
              "1         0  26.6              0.351     31  \n",
              "2         0  23.3              0.672     32  \n",
              "3        94  28.1              0.167     21  \n",
              "4       168  43.1              2.288     33  "
            ],
            "text/html": [
              "\n",
              "  <div id=\"df-e9d30f12-40fb-45a1-8c54-229497b504fe\">\n",
              "    <div class=\"colab-df-container\">\n",
              "      <div>\n",
              "<style scoped>\n",
              "    .dataframe tbody tr th:only-of-type {\n",
              "        vertical-align: middle;\n",
              "    }\n",
              "\n",
              "    .dataframe tbody tr th {\n",
              "        vertical-align: top;\n",
              "    }\n",
              "\n",
              "    .dataframe thead th {\n",
              "        text-align: right;\n",
              "    }\n",
              "</style>\n",
              "<table border=\"1\" class=\"dataframe\">\n",
              "  <thead>\n",
              "    <tr style=\"text-align: right;\">\n",
              "      <th></th>\n",
              "      <th>quantidade_gravidez</th>\n",
              "      <th>concentracao_glicose</th>\n",
              "      <th>pressao</th>\n",
              "      <th>espessura_triceps</th>\n",
              "      <th>insulina</th>\n",
              "      <th>imc</th>\n",
              "      <th>diabetes_pedigree</th>\n",
              "      <th>idade</th>\n",
              "    </tr>\n",
              "  </thead>\n",
              "  <tbody>\n",
              "    <tr>\n",
              "      <th>0</th>\n",
              "      <td>6</td>\n",
              "      <td>148</td>\n",
              "      <td>72</td>\n",
              "      <td>35</td>\n",
              "      <td>0</td>\n",
              "      <td>33.6</td>\n",
              "      <td>0.627</td>\n",
              "      <td>50</td>\n",
              "    </tr>\n",
              "    <tr>\n",
              "      <th>1</th>\n",
              "      <td>1</td>\n",
              "      <td>85</td>\n",
              "      <td>66</td>\n",
              "      <td>29</td>\n",
              "      <td>0</td>\n",
              "      <td>26.6</td>\n",
              "      <td>0.351</td>\n",
              "      <td>31</td>\n",
              "    </tr>\n",
              "    <tr>\n",
              "      <th>2</th>\n",
              "      <td>8</td>\n",
              "      <td>183</td>\n",
              "      <td>64</td>\n",
              "      <td>0</td>\n",
              "      <td>0</td>\n",
              "      <td>23.3</td>\n",
              "      <td>0.672</td>\n",
              "      <td>32</td>\n",
              "    </tr>\n",
              "    <tr>\n",
              "      <th>3</th>\n",
              "      <td>1</td>\n",
              "      <td>89</td>\n",
              "      <td>66</td>\n",
              "      <td>23</td>\n",
              "      <td>94</td>\n",
              "      <td>28.1</td>\n",
              "      <td>0.167</td>\n",
              "      <td>21</td>\n",
              "    </tr>\n",
              "    <tr>\n",
              "      <th>4</th>\n",
              "      <td>0</td>\n",
              "      <td>137</td>\n",
              "      <td>40</td>\n",
              "      <td>35</td>\n",
              "      <td>168</td>\n",
              "      <td>43.1</td>\n",
              "      <td>2.288</td>\n",
              "      <td>33</td>\n",
              "    </tr>\n",
              "  </tbody>\n",
              "</table>\n",
              "</div>\n",
              "      <button class=\"colab-df-convert\" onclick=\"convertToInteractive('df-e9d30f12-40fb-45a1-8c54-229497b504fe')\"\n",
              "              title=\"Convert this dataframe to an interactive table.\"\n",
              "              style=\"display:none;\">\n",
              "        \n",
              "  <svg xmlns=\"http://www.w3.org/2000/svg\" height=\"24px\"viewBox=\"0 0 24 24\"\n",
              "       width=\"24px\">\n",
              "    <path d=\"M0 0h24v24H0V0z\" fill=\"none\"/>\n",
              "    <path d=\"M18.56 5.44l.94 2.06.94-2.06 2.06-.94-2.06-.94-.94-2.06-.94 2.06-2.06.94zm-11 1L8.5 8.5l.94-2.06 2.06-.94-2.06-.94L8.5 2.5l-.94 2.06-2.06.94zm10 10l.94 2.06.94-2.06 2.06-.94-2.06-.94-.94-2.06-.94 2.06-2.06.94z\"/><path d=\"M17.41 7.96l-1.37-1.37c-.4-.4-.92-.59-1.43-.59-.52 0-1.04.2-1.43.59L10.3 9.45l-7.72 7.72c-.78.78-.78 2.05 0 2.83L4 21.41c.39.39.9.59 1.41.59.51 0 1.02-.2 1.41-.59l7.78-7.78 2.81-2.81c.8-.78.8-2.07 0-2.86zM5.41 20L4 18.59l7.72-7.72 1.47 1.35L5.41 20z\"/>\n",
              "  </svg>\n",
              "      </button>\n",
              "      \n",
              "  <style>\n",
              "    .colab-df-container {\n",
              "      display:flex;\n",
              "      flex-wrap:wrap;\n",
              "      gap: 12px;\n",
              "    }\n",
              "\n",
              "    .colab-df-convert {\n",
              "      background-color: #E8F0FE;\n",
              "      border: none;\n",
              "      border-radius: 50%;\n",
              "      cursor: pointer;\n",
              "      display: none;\n",
              "      fill: #1967D2;\n",
              "      height: 32px;\n",
              "      padding: 0 0 0 0;\n",
              "      width: 32px;\n",
              "    }\n",
              "\n",
              "    .colab-df-convert:hover {\n",
              "      background-color: #E2EBFA;\n",
              "      box-shadow: 0px 1px 2px rgba(60, 64, 67, 0.3), 0px 1px 3px 1px rgba(60, 64, 67, 0.15);\n",
              "      fill: #174EA6;\n",
              "    }\n",
              "\n",
              "    [theme=dark] .colab-df-convert {\n",
              "      background-color: #3B4455;\n",
              "      fill: #D2E3FC;\n",
              "    }\n",
              "\n",
              "    [theme=dark] .colab-df-convert:hover {\n",
              "      background-color: #434B5C;\n",
              "      box-shadow: 0px 1px 3px 1px rgba(0, 0, 0, 0.15);\n",
              "      filter: drop-shadow(0px 1px 2px rgba(0, 0, 0, 0.3));\n",
              "      fill: #FFFFFF;\n",
              "    }\n",
              "  </style>\n",
              "\n",
              "      <script>\n",
              "        const buttonEl =\n",
              "          document.querySelector('#df-e9d30f12-40fb-45a1-8c54-229497b504fe button.colab-df-convert');\n",
              "        buttonEl.style.display =\n",
              "          google.colab.kernel.accessAllowed ? 'block' : 'none';\n",
              "\n",
              "        async function convertToInteractive(key) {\n",
              "          const element = document.querySelector('#df-e9d30f12-40fb-45a1-8c54-229497b504fe');\n",
              "          const dataTable =\n",
              "            await google.colab.kernel.invokeFunction('convertToInteractive',\n",
              "                                                     [key], {});\n",
              "          if (!dataTable) return;\n",
              "\n",
              "          const docLinkHtml = 'Like what you see? Visit the ' +\n",
              "            '<a target=\"_blank\" href=https://colab.research.google.com/notebooks/data_table.ipynb>data table notebook</a>'\n",
              "            + ' to learn more about interactive tables.';\n",
              "          element.innerHTML = '';\n",
              "          dataTable['output_type'] = 'display_data';\n",
              "          await google.colab.output.renderOutput(dataTable, element);\n",
              "          const docLink = document.createElement('div');\n",
              "          docLink.innerHTML = docLinkHtml;\n",
              "          element.appendChild(docLink);\n",
              "        }\n",
              "      </script>\n",
              "    </div>\n",
              "  </div>\n",
              "  "
            ]
          },
          "metadata": {},
          "execution_count": 21
        }
      ]
    },
    {
      "cell_type": "code",
      "source": [
        "y = diabetes_dataset['resultado']\n",
        "\n",
        "y.head( )"
      ],
      "metadata": {
        "colab": {
          "base_uri": "https://localhost:8080/"
        },
        "id": "3vn0U48IAudQ",
        "outputId": "2b5a80b9-1f23-4c80-8963-b0422d0b09fc"
      },
      "execution_count": 22,
      "outputs": [
        {
          "output_type": "execute_result",
          "data": {
            "text/plain": [
              "0    testado_positivo\n",
              "1    testado_negativo\n",
              "2    testado_positivo\n",
              "3    testado_negativo\n",
              "4    testado_positivo\n",
              "Name: resultado, dtype: object"
            ]
          },
          "metadata": {},
          "execution_count": 22
        }
      ]
    },
    {
      "cell_type": "markdown",
      "source": [
        "Ok. Now let's do the set spliting."
      ],
      "metadata": {
        "id": "UWKO3iP3A21y"
      }
    },
    {
      "cell_type": "code",
      "source": [
        "from sklearn.model_selection import train_test_split\n",
        "\n",
        "SEED = 4121988\n",
        "\n",
        "X_train, X_test, y_train, y_test = train_test_split(x, y)"
      ],
      "metadata": {
        "id": "F2KFK30yA0y8"
      },
      "execution_count": 23,
      "outputs": []
    },
    {
      "cell_type": "markdown",
      "source": [
        "Using sklearn, we have a multitude of classification methods to use. We can see all of them in: https://scikit-learn.org/stable/supervised_learning.html#supervised-learning\n",
        "\n",
        "Here, we will use a decision tree."
      ],
      "metadata": {
        "id": "h0_GpJNZBPZ5"
      }
    },
    {
      "cell_type": "markdown",
      "source": [
        "## Decision tree"
      ],
      "metadata": {
        "id": "BkEC8fPnCtxa"
      }
    },
    {
      "cell_type": "markdown",
      "source": [
        "A decision tree is a classification machine learning algorithm. Decision trees are defined by multiple nodes, where, at each node, we make a decision. In its final branches, we have the targets. Thus, depending on the decision taken in each node, which is based on our features, we end up with different targets.\n",
        "\n",
        "The main parameter of a decision tree is the tree depth. Usually, when we have a higher depth, our tree can better fit our training set.\n",
        "\n",
        "However, if we have a very high tree depth, our model becomes prone to overfitting, where it represents well the training set, but not the test set.\n",
        "\n",
        "More about the decision tree can be found in:\n",
        "https://en.wikipedia.org/wiki/Decision_tree#:~:text=A%20decision%20tree%20is%20a,only%20contains%20conditional%20control%20statements."
      ],
      "metadata": {
        "id": "bi0s8GNiCy1T"
      }
    },
    {
      "cell_type": "markdown",
      "source": [
        "## Decision tree using sklearn"
      ],
      "metadata": {
        "id": "gqydGoVuCvgb"
      }
    },
    {
      "cell_type": "code",
      "source": [
        "from sklearn.tree import DecisionTreeClassifier\n",
        "\n",
        "clf_tree = DecisionTreeClassifier(random_state = SEED, max_depth = 3)"
      ],
      "metadata": {
        "id": "jlxySkQdBHc1"
      },
      "execution_count": 24,
      "outputs": []
    },
    {
      "cell_type": "markdown",
      "source": [
        "To fit our decision tree model, we can do:"
      ],
      "metadata": {
        "id": "eeSOkdOvBtIz"
      }
    },
    {
      "cell_type": "code",
      "source": [
        "clf_tree.fit(X_train, y_train)"
      ],
      "metadata": {
        "colab": {
          "base_uri": "https://localhost:8080/"
        },
        "id": "vGXkt-2GBnj4",
        "outputId": "821e8c6b-24ae-4492-9d70-6795bca10ad4"
      },
      "execution_count": 25,
      "outputs": [
        {
          "output_type": "execute_result",
          "data": {
            "text/plain": [
              "DecisionTreeClassifier(max_depth=3, random_state=4121988)"
            ]
          },
          "metadata": {},
          "execution_count": 25
        }
      ]
    },
    {
      "cell_type": "markdown",
      "source": [
        "Nice! Now, to visualize our decision tree, we can make:"
      ],
      "metadata": {
        "id": "OmI2xURyGOxb"
      }
    },
    {
      "cell_type": "code",
      "source": [
        "from sklearn import tree\n",
        "import matplotlib.pyplot as plt\n",
        "\n",
        "fig, ax = plt.subplots(figsize = (15, 10))\n",
        "tree.plot_tree(clf_tree, \n",
        "               feature_names = diabetes_dataset.columns, \n",
        "               fontsize = 10, \n",
        "               class_names = ['0', '1'],\n",
        "               filled = True)\n",
        "\n",
        "plt.show( )"
      ],
      "metadata": {
        "colab": {
          "base_uri": "https://localhost:8080/",
          "height": 575
        },
        "id": "1UjS6qnYGw5W",
        "outputId": "bfc8a8a2-8896-48c4-9509-bb7573972b67"
      },
      "execution_count": 38,
      "outputs": [
        {
          "output_type": "display_data",
          "data": {
            "text/plain": [
              "<Figure size 1080x720 with 1 Axes>"
            ],
            "image/png": "[encoded data removed]"
          },
          "metadata": {
            "needs_background": "light"
          }
        }
      ]
    },
    {
      "cell_type": "markdown",
      "source": [
        "Now that we understood our trained model, let's test our tree. For that end, we can simply do:"
      ],
      "metadata": {
        "id": "Atvb3BchBxJs"
      }
    },
    {
      "cell_type": "code",
      "source": [
        "clf_tree.score(X_test, y_test)"
      ],
      "metadata": {
        "colab": {
          "base_uri": "https://localhost:8080/"
        },
        "id": "FVcpMxhXBsbP",
        "outputId": "ffdcb242-e823-441f-c052-ebb35ceece15"
      },
      "execution_count": 29,
      "outputs": [
        {
          "output_type": "execute_result",
          "data": {
            "text/plain": [
              "0.75"
            ]
          },
          "metadata": {},
          "execution_count": 29
        }
      ]
    },
    {
      "cell_type": "markdown",
      "source": [
        "Our classifier was able to find the correct value in 75% of cases. However, how do we know if this is a good or a bad accuracy?\n",
        "\n",
        "For that end, we can use a benchmark model. For instance, we can use a dummy classifier:"
      ],
      "metadata": {
        "id": "bsPv_T63B50r"
      }
    },
    {
      "cell_type": "code",
      "source": [
        "from sklearn.dummy import DummyClassifier\n",
        "\n",
        "clf_dummy = DummyClassifier(strategy = 'most_frequent')\n",
        "clf_dummy.fit(X_train, y_train)\n",
        "\n",
        "clf_dummy.score(X_test, y_test)"
      ],
      "metadata": {
        "colab": {
          "base_uri": "https://localhost:8080/"
        },
        "id": "KiQoM4H2B2OR",
        "outputId": "4b38cdd1-6a0a-4123-84d0-52db1173f80a"
      },
      "execution_count": 30,
      "outputs": [
        {
          "output_type": "execute_result",
          "data": {
            "text/plain": [
              "0.6822916666666666"
            ]
          },
          "metadata": {},
          "execution_count": 30
        }
      ]
    },
    {
      "cell_type": "markdown",
      "source": [
        "So, our decision tree showed an accuracy slightly better than the dummy classifier."
      ],
      "metadata": {
        "id": "X-I8YMnlCn8v"
      }
    },
    {
      "cell_type": "markdown",
      "source": [
        "Finally, let's use a confusion matrix to understand how was the accuracy of our classification model. Our test set has 192 unique entries:"
      ],
      "metadata": {
        "id": "nzmq03PfI1vT"
      }
    },
    {
      "cell_type": "code",
      "source": [
        "len(y_test)"
      ],
      "metadata": {
        "colab": {
          "base_uri": "https://localhost:8080/"
        },
        "id": "Nb1SlWwkI_3j",
        "outputId": "30260214-5809-4c67-a05b-26fe5a5922d6"
      },
      "execution_count": 46,
      "outputs": [
        {
          "output_type": "execute_result",
          "data": {
            "text/plain": [
              "192"
            ]
          },
          "metadata": {},
          "execution_count": 46
        }
      ]
    },
    {
      "cell_type": "markdown",
      "source": [
        "So, drawing a confusion matrix:"
      ],
      "metadata": {
        "id": "IMZoDdiAJIIs"
      }
    },
    {
      "cell_type": "code",
      "source": [
        "from sklearn.metrics import confusion_matrix\n",
        "import numpy as np\n",
        "import seaborn as sns\n",
        "\n",
        "y_test_predict = clf_tree.predict(X_test)\n",
        "\n",
        "conf_matrix = confusion_matrix(y_test, y_test_predict)\n",
        "\n",
        "ax = sns.heatmap(conf_matrix, cmap='Blues', annot = True, fmt = 'd')\n",
        "\n",
        "ax.set_title('Seaborn Confusion Matrix with labels\\n\\n');\n",
        "ax.set_xlabel('\\nPredicted Values')\n",
        "ax.set_ylabel('Actual Values');\n",
        "\n",
        "## Ticket labels - List must be in alphabetical order\n",
        "ax.xaxis.set_ticklabels(['False','True'])\n",
        "ax.yaxis.set_ticklabels(['False','True'])\n",
        "\n",
        "## Display the visualization of the Confusion Matrix.\n",
        "plt.show()"
      ],
      "metadata": {
        "colab": {
          "base_uri": "https://localhost:8080/",
          "height": 337
        },
        "id": "wFAhfZwAISE-",
        "outputId": "1dcb6133-8039-48e4-c3a9-4478c9070cb4"
      },
      "execution_count": 53,
      "outputs": [
        {
          "output_type": "display_data",
          "data": {
            "text/plain": [
              "<Figure size 432x288 with 2 Axes>"
            ],
            "image/png": "[encoded data removed]"
          },
          "metadata": {
            "needs_background": "light"
          }
        }
      ]
    },
    {
      "cell_type": "markdown",
      "source": [
        "So, in our test set with 192 entries, we got 28 false negatives and 20 false positives."
      ],
      "metadata": {
        "id": "HT5D6wthKB_U"
      }
    },
    {
      "cell_type": "markdown",
      "source": [
        "Another simple models to solve classification problems is Logistic regression (binary or one vs all): https://en.wikipedia.org/wiki/Logistic_regression\n",
        "\n",
        "\n"
      ],
      "metadata": {
        "id": "vgvRFIa8LtP7"
      }
    },
    {
      "cell_type": "markdown",
      "source": [
        "# Regression\n",
        "\n",
        "When our target is given by specific (discrete) labels, we use classification models. However, when our target is given by a continuous variable, we should use a regression model to estimate it.\n",
        "\n",
        "There are a multitude of regression models, but the most simple (and popular) model is the linear regression. This model assumes that the target responses are related with the features by a linear function.\n",
        "\n",
        "https://en.wikipedia.org/wiki/Linear_regression\n",
        "\n",
        "All regression models implemented in Scikit learn can be found in:\n",
        "\n",
        "https://scikit-learn.org/stable/supervised_learning.html#supervised-learning"
      ],
      "metadata": {
        "id": "tk2piFbWNTU1"
      }
    },
    {
      "cell_type": "markdown",
      "source": [
        "We will apply Linear Regression to estimate the heart rate using our previous dataset *batimentos_dataset*.\n",
        "\n",
        "First, let's try to visualize how each variable alone is related to the target."
      ],
      "metadata": {
        "id": "B_AUBOW3O5Li"
      }
    },
    {
      "cell_type": "code",
      "source": [
        "plt.figure(figsize=(100,50))\n",
        "\n",
        "sns.lmplot(x = 'Peso', y = 'Batimentos cardiacos', data = batimentos_dataset, line_kws = {'color':'red'})\n",
        "plt.show( )"
      ],
      "metadata": {
        "colab": {
          "base_uri": "https://localhost:8080/",
          "height": 386
        },
        "id": "dNhdxXtQMIdQ",
        "outputId": "70c922bc-395e-4638-b5df-5ebe5579777e"
      },
      "execution_count": 56,
      "outputs": [
        {
          "output_type": "display_data",
          "data": {
            "text/plain": [
              "<Figure size 7200x3600 with 0 Axes>"
            ]
          },
          "metadata": {}
        },
        {
          "output_type": "display_data",
          "data": {
            "text/plain": [
              "<Figure size 360x360 with 1 Axes>"
            ],
            "image/png": "[encoded data removed]"
          },
          "metadata": {
            "needs_background": "light"
          }
        }
      ]
    },
    {
      "cell_type": "code",
      "source": [
        "plt.figure(figsize=(100,50))\n",
        "\n",
        "sns.lmplot(x = 'Idade', y = 'Batimentos cardiacos', data = batimentos_dataset, line_kws = {'color':'red'})\n",
        "plt.show( )"
      ],
      "metadata": {
        "colab": {
          "base_uri": "https://localhost:8080/",
          "height": 386
        },
        "id": "TTbG2zBcPTML",
        "outputId": "eef2651d-2de5-40bf-e1a0-3bef01868d44"
      },
      "execution_count": 57,
      "outputs": [
        {
          "output_type": "display_data",
          "data": {
            "text/plain": [
              "<Figure size 7200x3600 with 0 Axes>"
            ]
          },
          "metadata": {}
        },
        {
          "output_type": "display_data",
          "data": {
            "text/plain": [
              "<Figure size 360x360 with 1 Axes>"
            ],
            "image/png": "[encoded data removed]"
          },
          "metadata": {
            "needs_background": "light"
          }
        }
      ]
    },
    {
      "cell_type": "code",
      "source": [
        "plt.figure(figsize=(100,50))\n",
        "\n",
        "sns.lmplot(x = 'Horas de atividade', y = 'Batimentos cardiacos', data = batimentos_dataset, line_kws = {'color':'red'})\n",
        "plt.show( )"
      ],
      "metadata": {
        "colab": {
          "base_uri": "https://localhost:8080/",
          "height": 386
        },
        "id": "nqrkE_M-PiH1",
        "outputId": "62791daf-c4a8-457c-e06d-d66b2262cebb"
      },
      "execution_count": 58,
      "outputs": [
        {
          "output_type": "display_data",
          "data": {
            "text/plain": [
              "<Figure size 7200x3600 with 0 Axes>"
            ]
          },
          "metadata": {}
        },
        {
          "output_type": "display_data",
          "data": {
            "text/plain": [
              "<Figure size 360x360 with 1 Axes>"
            ],
            "image/png": "[encoded data removed]"
          },
          "metadata": {
            "needs_background": "light"
          }
        }
      ]
    },
    {
      "cell_type": "markdown",
      "source": [
        "So, our three features seem to represent very well our target! Note that a linear relationship is able to capture the general behavior of the data."
      ],
      "metadata": {
        "id": "nadpQfm8PpKj"
      }
    },
    {
      "cell_type": "markdown",
      "source": [
        "So, let's use sklearn to build a multivariate regression model:"
      ],
      "metadata": {
        "id": "vdLm-aVOP55A"
      }
    },
    {
      "cell_type": "code",
      "source": [
        "x = batimentos_dataset.drop('Batimentos cardiacos', axis = 1)\n",
        "y = batimentos_dataset['Batimentos cardiacos']\n",
        "\n",
        "SEED = 4500\n",
        "\n",
        "X_train, X_test, y_train, y_test = train_test_split(x, y, random_state = SEED)"
      ],
      "metadata": {
        "id": "gwaRwCm_PoPC"
      },
      "execution_count": 77,
      "outputs": []
    },
    {
      "cell_type": "markdown",
      "source": [
        "Now, let's fit our linear model:"
      ],
      "metadata": {
        "id": "xE8PHK91QVkW"
      }
    },
    {
      "cell_type": "code",
      "source": [
        "from sklearn import linear_model"
      ],
      "metadata": {
        "id": "J328NnkXQJgF"
      },
      "execution_count": 78,
      "outputs": []
    },
    {
      "cell_type": "markdown",
      "source": [
        "In general, models benefit from previous normalization and standardization of our data.\n",
        "\n",
        "https://scikit-learn.org/stable/modules/preprocessing.html\n",
        "\n",
        "Let's standardize our features:"
      ],
      "metadata": {
        "id": "COb-XV96Q6_h"
      }
    },
    {
      "cell_type": "code",
      "source": [
        "from sklearn.pipeline import make_pipeline\n",
        "from sklearn import preprocessing\n",
        "\n",
        "scaler = preprocessing.StandardScaler().fit(X_train)\n",
        "X_train_scaled = scaler.transform(X_train)\n",
        "\n",
        "scaler = preprocessing.StandardScaler().fit(X_test)\n",
        "X_test_scaled = scaler.transform(X_test)"
      ],
      "metadata": {
        "id": "JhovBzwzQ6tp"
      },
      "execution_count": 79,
      "outputs": []
    },
    {
      "cell_type": "markdown",
      "source": [
        "Then, we can do:"
      ],
      "metadata": {
        "id": "EwvjTojdRDP1"
      }
    },
    {
      "cell_type": "code",
      "source": [
        "lin_rgs = linear_model.LinearRegression( )\n",
        "lin_rgs.fit(X_train_scaled, y_train)"
      ],
      "metadata": {
        "colab": {
          "base_uri": "https://localhost:8080/"
        },
        "id": "xsp1knFHQYxr",
        "outputId": "193cbe06-efe0-48ae-a048-3d4f320b7449"
      },
      "execution_count": 80,
      "outputs": [
        {
          "output_type": "execute_result",
          "data": {
            "text/plain": [
              "LinearRegression()"
            ]
          },
          "metadata": {},
          "execution_count": 80
        }
      ]
    },
    {
      "cell_type": "markdown",
      "source": [
        "Now, let's get the average accuracy of our model:"
      ],
      "metadata": {
        "id": "c1fF-4QnSHD1"
      }
    },
    {
      "cell_type": "code",
      "source": [
        "lin_rgs.score(X_test_scaled, y_test)"
      ],
      "metadata": {
        "colab": {
          "base_uri": "https://localhost:8080/"
        },
        "id": "2Z-ckw9lQuz0",
        "outputId": "2e1ac7c9-59b2-4732-99f0-145d6b47cf70"
      },
      "execution_count": 81,
      "outputs": [
        {
          "output_type": "execute_result",
          "data": {
            "text/plain": [
              "0.9850317229130476"
            ]
          },
          "metadata": {},
          "execution_count": 81
        }
      ]
    },
    {
      "cell_type": "markdown",
      "source": [
        "Nice! Our model has an outstanding accuracy of 98%. That is expected, since we saw that our data has a linear behavior."
      ],
      "metadata": {
        "id": "I7Q59SaeSPBR"
      }
    },
    {
      "cell_type": "markdown",
      "source": [
        "# Clustering\n",
        "\n",
        "On clustering models, we want to group data in a specific way. Custering is an unsupervised learning algorithm. Here, we try to find similarity in the data set.\n",
        "\n",
        "A group is a very subjetive concept. Usually, it is not clear to the user how the algorithm grouped the data. \n",
        "\n",
        "Sometimes, we may want to cluster our data, so that latter we can use supervised algorithms in different clusters (or groups).\n",
        "\n",
        "An overview over different clustering methods implemented in Sci-kit learn can be found in:\n",
        "\n",
        "https://scikit-learn.org/stable/modules/clustering.html#clustering"
      ],
      "metadata": {
        "id": "TR4S0LT1UZGC"
      }
    },
    {
      "cell_type": "markdown",
      "source": [
        "To help us visualize our data, we will first consider only two variables: blood pressure (during rest) and cholesterol."
      ],
      "metadata": {
        "id": "EkYEzrH4VUHM"
      }
    },
    {
      "cell_type": "code",
      "source": [
        "sns.scatterplot(x = 'pressao_sanguinea_repouso', y = 'colesterol', data = colesterol_dataset)"
      ],
      "metadata": {
        "colab": {
          "base_uri": "https://localhost:8080/",
          "height": 297
        },
        "id": "mK1W4FllSNuA",
        "outputId": "fb2e3a9f-eb94-454f-805a-1a4abce71187"
      },
      "execution_count": 104,
      "outputs": [
        {
          "output_type": "execute_result",
          "data": {
            "text/plain": [
              "<matplotlib.axes._subplots.AxesSubplot at 0x7fe80a0fdf90>"
            ]
          },
          "metadata": {},
          "execution_count": 104
        },
        {
          "output_type": "display_data",
          "data": {
            "text/plain": [
              "<Figure size 432x288 with 1 Axes>"
            ],
            "image/png": "[encoded data removed]"
          },
          "metadata": {
            "needs_background": "light"
          }
        }
      ]
    },
    {
      "cell_type": "markdown",
      "source": [
        "We see that it is very hard to make an inference over this data. So, to cluster our data, we will use a very well-known algorithm: K-Means"
      ],
      "metadata": {
        "id": "hqRJjMmFWBPp"
      }
    },
    {
      "cell_type": "code",
      "source": [
        "from sklearn.cluster import KMeans\n",
        "\n",
        "SEED = 9\n",
        "\n",
        "kmeans = KMeans(n_clusters = 2, random_state = SEED)"
      ],
      "metadata": {
        "id": "kRLSMn4mVhyi"
      },
      "execution_count": 84,
      "outputs": []
    },
    {
      "cell_type": "markdown",
      "source": [
        "On unsupervised algotihms, we have no target value. Thus, we only have a set of features:"
      ],
      "metadata": {
        "id": "29UvfFeVWdiB"
      }
    },
    {
      "cell_type": "code",
      "source": [
        "x = colesterol_dataset"
      ],
      "metadata": {
        "id": "6mNNr7oVWRUJ"
      },
      "execution_count": 85,
      "outputs": []
    },
    {
      "cell_type": "markdown",
      "source": [
        "Using sklearn, this algorithm only works when our features are given by numeric values. If we take a look at our dataset, all of our features are indeed numeric:"
      ],
      "metadata": {
        "id": "bXgavhisW590"
      }
    },
    {
      "cell_type": "code",
      "source": [
        "x.head( )"
      ],
      "metadata": {
        "colab": {
          "base_uri": "https://localhost:8080/",
          "height": 270
        },
        "id": "exprlNyPWrO1",
        "outputId": "71279e75-caeb-4259-b7e2-683dbcb51da6"
      },
      "execution_count": 88,
      "outputs": [
        {
          "output_type": "execute_result",
          "data": {
            "text/plain": [
              "   idade  genero  tipo_dor_peito  pressao_sanguinea_repouso  acucar_jejum  \\\n",
              "0     63       1               1                        145             1   \n",
              "1     67       1               4                        160             0   \n",
              "2     67       1               4                        120             0   \n",
              "3     37       1               3                        130             0   \n",
              "4     41       0               2                        130             0   \n",
              "\n",
              "   resultado_eletrocardio  freq_cardio_max  angina_exercicio  \\\n",
              "0                       2              150                 0   \n",
              "1                       2              108                 1   \n",
              "2                       2              129                 1   \n",
              "3                       0              187                 0   \n",
              "4                       2              172                 0   \n",
              "\n",
              "   depressao_induzida_exercicio  inclinacao num_princ_vasos thal  \\\n",
              "0                           2.3           3               0    6   \n",
              "1                           1.5           2               3    3   \n",
              "2                           2.6           2               2    7   \n",
              "3                           3.5           3               0    3   \n",
              "4                           1.4           1               0    3   \n",
              "\n",
              "   diag_doenca_cardiaca  colesterol  \n",
              "0                     0         233  \n",
              "1                     2         286  \n",
              "2                     1         229  \n",
              "3                     0         250  \n",
              "4                     0         204  "
            ],
            "text/html": [
              "\n",
              "  <div id=\"df-ceda8fc4-e23d-420f-a37c-91a14250a875\">\n",
              "    <div class=\"colab-df-container\">\n",
              "      <div>\n",
              "<style scoped>\n",
              "    .dataframe tbody tr th:only-of-type {\n",
              "        vertical-align: middle;\n",
              "    }\n",
              "\n",
              "    .dataframe tbody tr th {\n",
              "        vertical-align: top;\n",
              "    }\n",
              "\n",
              "    .dataframe thead th {\n",
              "        text-align: right;\n",
              "    }\n",
              "</style>\n",
              "<table border=\"1\" class=\"dataframe\">\n",
              "  <thead>\n",
              "    <tr style=\"text-align: right;\">\n",
              "      <th></th>\n",
              "      <th>idade</th>\n",
              "      <th>genero</th>\n",
              "      <th>tipo_dor_peito</th>\n",
              "      <th>pressao_sanguinea_repouso</th>\n",
              "      <th>acucar_jejum</th>\n",
              "      <th>resultado_eletrocardio</th>\n",
              "      <th>freq_cardio_max</th>\n",
              "      <th>angina_exercicio</th>\n",
              "      <th>depressao_induzida_exercicio</th>\n",
              "      <th>inclinacao</th>\n",
              "      <th>num_princ_vasos</th>\n",
              "      <th>thal</th>\n",
              "      <th>diag_doenca_cardiaca</th>\n",
              "      <th>colesterol</th>\n",
              "    </tr>\n",
              "  </thead>\n",
              "  <tbody>\n",
              "    <tr>\n",
              "      <th>0</th>\n",
              "      <td>63</td>\n",
              "      <td>1</td>\n",
              "      <td>1</td>\n",
              "      <td>145</td>\n",
              "      <td>1</td>\n",
              "      <td>2</td>\n",
              "      <td>150</td>\n",
              "      <td>0</td>\n",
              "      <td>2.3</td>\n",
              "      <td>3</td>\n",
              "      <td>0</td>\n",
              "      <td>6</td>\n",
              "      <td>0</td>\n",
              "      <td>233</td>\n",
              "    </tr>\n",
              "    <tr>\n",
              "      <th>1</th>\n",
              "      <td>67</td>\n",
              "      <td>1</td>\n",
              "      <td>4</td>\n",
              "      <td>160</td>\n",
              "      <td>0</td>\n",
              "      <td>2</td>\n",
              "      <td>108</td>\n",
              "      <td>1</td>\n",
              "      <td>1.5</td>\n",
              "      <td>2</td>\n",
              "      <td>3</td>\n",
              "      <td>3</td>\n",
              "      <td>2</td>\n",
              "      <td>286</td>\n",
              "    </tr>\n",
              "    <tr>\n",
              "      <th>2</th>\n",
              "      <td>67</td>\n",
              "      <td>1</td>\n",
              "      <td>4</td>\n",
              "      <td>120</td>\n",
              "      <td>0</td>\n",
              "      <td>2</td>\n",
              "      <td>129</td>\n",
              "      <td>1</td>\n",
              "      <td>2.6</td>\n",
              "      <td>2</td>\n",
              "      <td>2</td>\n",
              "      <td>7</td>\n",
              "      <td>1</td>\n",
              "      <td>229</td>\n",
              "    </tr>\n",
              "    <tr>\n",
              "      <th>3</th>\n",
              "      <td>37</td>\n",
              "      <td>1</td>\n",
              "      <td>3</td>\n",
              "      <td>130</td>\n",
              "      <td>0</td>\n",
              "      <td>0</td>\n",
              "      <td>187</td>\n",
              "      <td>0</td>\n",
              "      <td>3.5</td>\n",
              "      <td>3</td>\n",
              "      <td>0</td>\n",
              "      <td>3</td>\n",
              "      <td>0</td>\n",
              "      <td>250</td>\n",
              "    </tr>\n",
              "    <tr>\n",
              "      <th>4</th>\n",
              "      <td>41</td>\n",
              "      <td>0</td>\n",
              "      <td>2</td>\n",
              "      <td>130</td>\n",
              "      <td>0</td>\n",
              "      <td>2</td>\n",
              "      <td>172</td>\n",
              "      <td>0</td>\n",
              "      <td>1.4</td>\n",
              "      <td>1</td>\n",
              "      <td>0</td>\n",
              "      <td>3</td>\n",
              "      <td>0</td>\n",
              "      <td>204</td>\n",
              "    </tr>\n",
              "  </tbody>\n",
              "</table>\n",
              "</div>\n",
              "      <button class=\"colab-df-convert\" onclick=\"convertToInteractive('df-ceda8fc4-e23d-420f-a37c-91a14250a875')\"\n",
              "              title=\"Convert this dataframe to an interactive table.\"\n",
              "              style=\"display:none;\">\n",
              "        \n",
              "  <svg xmlns=\"http://www.w3.org/2000/svg\" height=\"24px\"viewBox=\"0 0 24 24\"\n",
              "       width=\"24px\">\n",
              "    <path d=\"M0 0h24v24H0V0z\" fill=\"none\"/>\n",
              "    <path d=\"M18.56 5.44l.94 2.06.94-2.06 2.06-.94-2.06-.94-.94-2.06-.94 2.06-2.06.94zm-11 1L8.5 8.5l.94-2.06 2.06-.94-2.06-.94L8.5 2.5l-.94 2.06-2.06.94zm10 10l.94 2.06.94-2.06 2.06-.94-2.06-.94-.94-2.06-.94 2.06-2.06.94z\"/><path d=\"M17.41 7.96l-1.37-1.37c-.4-.4-.92-.59-1.43-.59-.52 0-1.04.2-1.43.59L10.3 9.45l-7.72 7.72c-.78.78-.78 2.05 0 2.83L4 21.41c.39.39.9.59 1.41.59.51 0 1.02-.2 1.41-.59l7.78-7.78 2.81-2.81c.8-.78.8-2.07 0-2.86zM5.41 20L4 18.59l7.72-7.72 1.47 1.35L5.41 20z\"/>\n",
              "  </svg>\n",
              "      </button>\n",
              "      \n",
              "  <style>\n",
              "    .colab-df-container {\n",
              "      display:flex;\n",
              "      flex-wrap:wrap;\n",
              "      gap: 12px;\n",
              "    }\n",
              "\n",
              "    .colab-df-convert {\n",
              "      background-color: #E8F0FE;\n",
              "      border: none;\n",
              "      border-radius: 50%;\n",
              "      cursor: pointer;\n",
              "      display: none;\n",
              "      fill: #1967D2;\n",
              "      height: 32px;\n",
              "      padding: 0 0 0 0;\n",
              "      width: 32px;\n",
              "    }\n",
              "\n",
              "    .colab-df-convert:hover {\n",
              "      background-color: #E2EBFA;\n",
              "      box-shadow: 0px 1px 2px rgba(60, 64, 67, 0.3), 0px 1px 3px 1px rgba(60, 64, 67, 0.15);\n",
              "      fill: #174EA6;\n",
              "    }\n",
              "\n",
              "    [theme=dark] .colab-df-convert {\n",
              "      background-color: #3B4455;\n",
              "      fill: #D2E3FC;\n",
              "    }\n",
              "\n",
              "    [theme=dark] .colab-df-convert:hover {\n",
              "      background-color: #434B5C;\n",
              "      box-shadow: 0px 1px 3px 1px rgba(0, 0, 0, 0.15);\n",
              "      filter: drop-shadow(0px 1px 2px rgba(0, 0, 0, 0.3));\n",
              "      fill: #FFFFFF;\n",
              "    }\n",
              "  </style>\n",
              "\n",
              "      <script>\n",
              "        const buttonEl =\n",
              "          document.querySelector('#df-ceda8fc4-e23d-420f-a37c-91a14250a875 button.colab-df-convert');\n",
              "        buttonEl.style.display =\n",
              "          google.colab.kernel.accessAllowed ? 'block' : 'none';\n",
              "\n",
              "        async function convertToInteractive(key) {\n",
              "          const element = document.querySelector('#df-ceda8fc4-e23d-420f-a37c-91a14250a875');\n",
              "          const dataTable =\n",
              "            await google.colab.kernel.invokeFunction('convertToInteractive',\n",
              "                                                     [key], {});\n",
              "          if (!dataTable) return;\n",
              "\n",
              "          const docLinkHtml = 'Like what you see? Visit the ' +\n",
              "            '<a target=\"_blank\" href=https://colab.research.google.com/notebooks/data_table.ipynb>data table notebook</a>'\n",
              "            + ' to learn more about interactive tables.';\n",
              "          element.innerHTML = '';\n",
              "          dataTable['output_type'] = 'display_data';\n",
              "          await google.colab.output.renderOutput(dataTable, element);\n",
              "          const docLink = document.createElement('div');\n",
              "          docLink.innerHTML = docLinkHtml;\n",
              "          element.appendChild(docLink);\n",
              "        }\n",
              "      </script>\n",
              "    </div>\n",
              "  </div>\n",
              "  "
            ]
          },
          "metadata": {},
          "execution_count": 88
        }
      ]
    },
    {
      "cell_type": "markdown",
      "source": [
        "However, when we look at the typing of this data, we see that there are some columns that have type = 'object'"
      ],
      "metadata": {
        "id": "e0KsR7YgXIfw"
      }
    },
    {
      "cell_type": "code",
      "source": [
        "x.info( )"
      ],
      "metadata": {
        "colab": {
          "base_uri": "https://localhost:8080/"
        },
        "id": "HSSKwn0kXPKi",
        "outputId": "b5e5db70-2bf6-4c7e-8604-1945447704ae"
      },
      "execution_count": 89,
      "outputs": [
        {
          "output_type": "stream",
          "name": "stdout",
          "text": [
            "<class 'pandas.core.frame.DataFrame'>\n",
            "RangeIndex: 303 entries, 0 to 302\n",
            "Data columns (total 14 columns):\n",
            " #   Column                        Non-Null Count  Dtype  \n",
            "---  ------                        --------------  -----  \n",
            " 0   idade                         303 non-null    int64  \n",
            " 1   genero                        303 non-null    int64  \n",
            " 2   tipo_dor_peito                303 non-null    int64  \n",
            " 3   pressao_sanguinea_repouso     303 non-null    int64  \n",
            " 4   acucar_jejum                  303 non-null    int64  \n",
            " 5   resultado_eletrocardio        303 non-null    int64  \n",
            " 6   freq_cardio_max               303 non-null    int64  \n",
            " 7   angina_exercicio              303 non-null    int64  \n",
            " 8   depressao_induzida_exercicio  303 non-null    float64\n",
            " 9   inclinacao                    303 non-null    int64  \n",
            " 10  num_princ_vasos               303 non-null    object \n",
            " 11  thal                          303 non-null    object \n",
            " 12  diag_doenca_cardiaca          303 non-null    int64  \n",
            " 13  colesterol                    303 non-null    int64  \n",
            "dtypes: float64(1), int64(11), object(2)\n",
            "memory usage: 33.3+ KB\n"
          ]
        }
      ]
    },
    {
      "cell_type": "markdown",
      "source": [
        "That occurs because we have some values from these columns which is actually equal to a string: '?'"
      ],
      "metadata": {
        "id": "LHDBCovzXU9S"
      }
    },
    {
      "cell_type": "code",
      "source": [
        "x['num_princ_vasos'].unique( )"
      ],
      "metadata": {
        "colab": {
          "base_uri": "https://localhost:8080/"
        },
        "id": "one9NeGIXRk5",
        "outputId": "6d46ef20-462b-476e-a579-9146c11805fe"
      },
      "execution_count": 90,
      "outputs": [
        {
          "output_type": "execute_result",
          "data": {
            "text/plain": [
              "array(['0', '3', '2', '1', '?'], dtype=object)"
            ]
          },
          "metadata": {},
          "execution_count": 90
        }
      ]
    },
    {
      "cell_type": "code",
      "source": [
        "x['thal'].unique( )"
      ],
      "metadata": {
        "colab": {
          "base_uri": "https://localhost:8080/"
        },
        "id": "JaLbtLMJXb9U",
        "outputId": "a6509107-1d76-4502-cd02-3365ebbd3e00"
      },
      "execution_count": 91,
      "outputs": [
        {
          "output_type": "execute_result",
          "data": {
            "text/plain": [
              "array(['6', '3', '7', '?'], dtype=object)"
            ]
          },
          "metadata": {},
          "execution_count": 91
        }
      ]
    },
    {
      "cell_type": "markdown",
      "source": [
        "To avoid problems with such columns, we may simply ignore them by doing:"
      ],
      "metadata": {
        "id": "Z6T5dd5KXfxT"
      }
    },
    {
      "cell_type": "code",
      "source": [
        "x = colesterol_dataset.select_dtypes(include = ['int64', 'float64'])"
      ],
      "metadata": {
        "id": "c_3RJICUXffS"
      },
      "execution_count": 96,
      "outputs": []
    },
    {
      "cell_type": "code",
      "source": [
        "x.info( )"
      ],
      "metadata": {
        "colab": {
          "base_uri": "https://localhost:8080/"
        },
        "id": "1RIn_CctXtIq",
        "outputId": "69fca769-1b76-4cd0-b542-08c50cb59ae9"
      },
      "execution_count": 97,
      "outputs": [
        {
          "output_type": "stream",
          "name": "stdout",
          "text": [
            "<class 'pandas.core.frame.DataFrame'>\n",
            "RangeIndex: 303 entries, 0 to 302\n",
            "Data columns (total 12 columns):\n",
            " #   Column                        Non-Null Count  Dtype  \n",
            "---  ------                        --------------  -----  \n",
            " 0   idade                         303 non-null    int64  \n",
            " 1   genero                        303 non-null    int64  \n",
            " 2   tipo_dor_peito                303 non-null    int64  \n",
            " 3   pressao_sanguinea_repouso     303 non-null    int64  \n",
            " 4   acucar_jejum                  303 non-null    int64  \n",
            " 5   resultado_eletrocardio        303 non-null    int64  \n",
            " 6   freq_cardio_max               303 non-null    int64  \n",
            " 7   angina_exercicio              303 non-null    int64  \n",
            " 8   depressao_induzida_exercicio  303 non-null    float64\n",
            " 9   inclinacao                    303 non-null    int64  \n",
            " 10  diag_doenca_cardiaca          303 non-null    int64  \n",
            " 11  colesterol                    303 non-null    int64  \n",
            "dtypes: float64(1), int64(11)\n",
            "memory usage: 28.5 KB\n"
          ]
        }
      ]
    },
    {
      "cell_type": "markdown",
      "source": [
        "Finally, let's fit our KMeans model:"
      ],
      "metadata": {
        "id": "KsoCvlk3X9ly"
      }
    },
    {
      "cell_type": "code",
      "source": [
        "kmeans.fit(x)"
      ],
      "metadata": {
        "colab": {
          "base_uri": "https://localhost:8080/"
        },
        "id": "U-QmZYaqWkmX",
        "outputId": "009464c4-1f00-44c0-f4a9-55d9ca40db92"
      },
      "execution_count": 98,
      "outputs": [
        {
          "output_type": "execute_result",
          "data": {
            "text/plain": [
              "KMeans(n_clusters=2, random_state=9)"
            ]
          },
          "metadata": {},
          "execution_count": 98
        }
      ]
    },
    {
      "cell_type": "markdown",
      "source": [
        "To see our clusters, we can do:"
      ],
      "metadata": {
        "id": "bG3VYUV1YFL4"
      }
    },
    {
      "cell_type": "code",
      "source": [
        "kmeans.labels_"
      ],
      "metadata": {
        "colab": {
          "base_uri": "https://localhost:8080/"
        },
        "id": "ApIcWI3QX_iA",
        "outputId": "8e143376-4782-4696-bb88-772759e41742"
      },
      "execution_count": 99,
      "outputs": [
        {
          "output_type": "execute_result",
          "data": {
            "text/plain": [
              "array([1, 0, 1, 1, 1, 1, 0, 0, 1, 1, 1, 0, 1, 0, 1, 1, 1, 1, 0, 0, 1, 0,\n",
              "       0, 1, 1, 1, 0, 1, 1, 1, 1, 1, 0, 1, 1, 1, 1, 0, 0, 1, 1, 1, 0, 1,\n",
              "       0, 1, 1, 1, 0, 1, 1, 1, 0, 1, 1, 0, 1, 1, 0, 1, 0, 1, 1, 0, 1, 0,\n",
              "       1, 1, 0, 1, 0, 1, 0, 1, 1, 0, 0, 0, 1, 0, 1, 0, 0, 0, 0, 1, 1, 1,\n",
              "       1, 1, 0, 1, 1, 1, 1, 1, 1, 0, 1, 1, 1, 1, 0, 0, 1, 0, 1, 1, 0, 1,\n",
              "       0, 1, 1, 0, 0, 1, 1, 1, 0, 1, 1, 0, 1, 1, 0, 1, 0, 1, 1, 1, 1, 1,\n",
              "       1, 0, 1, 1, 1, 0, 1, 1, 1, 0, 1, 0, 1, 1, 0, 1, 0, 0, 0, 0, 0, 0,\n",
              "       1, 0, 0, 0, 0, 0, 1, 0, 1, 1, 1, 1, 1, 0, 0, 1, 0, 1, 1, 0, 1, 0,\n",
              "       1, 1, 0, 1, 0, 0, 1, 0, 0, 1, 1, 1, 0, 1, 1, 0, 1, 0, 1, 0, 1, 1,\n",
              "       1, 0, 1, 0, 1, 0, 1, 0, 0, 1, 0, 1, 1, 1, 1, 1, 1, 1, 1, 1, 0, 0,\n",
              "       0, 0, 1, 0, 0, 1, 1, 0, 1, 1, 1, 0, 1, 0, 1, 0, 0, 1, 0, 0, 1, 0,\n",
              "       0, 1, 1, 1, 1, 0, 1, 1, 1, 1, 0, 0, 0, 1, 1, 1, 1, 0, 1, 0, 1, 1,\n",
              "       1, 0, 1, 1, 1, 1, 1, 1, 0, 1, 1, 1, 0, 1, 1, 1, 0, 1, 1, 1, 1, 0,\n",
              "       1, 1, 1, 1, 1, 0, 1, 1, 1, 1, 1, 1, 0, 1, 1, 1, 1], dtype=int32)"
            ]
          },
          "metadata": {},
          "execution_count": 99
        }
      ]
    },
    {
      "cell_type": "markdown",
      "source": [
        "So, each of our data points have a labels related to it (0 or 1). We can visualize these clusters using a scatter plot:"
      ],
      "metadata": {
        "id": "m-7VL8hXYIOy"
      }
    },
    {
      "cell_type": "code",
      "source": [
        "sns.scatterplot(x = 'pressao_sanguinea_repouso', y = 'colesterol', data = colesterol_dataset, hue = kmeans.labels_)"
      ],
      "metadata": {
        "colab": {
          "base_uri": "https://localhost:8080/",
          "height": 297
        },
        "id": "qGXopPSrYD6X",
        "outputId": "841673cc-b8a0-4e37-b9b7-cc2751c74e88"
      },
      "execution_count": 106,
      "outputs": [
        {
          "output_type": "execute_result",
          "data": {
            "text/plain": [
              "<matplotlib.axes._subplots.AxesSubplot at 0x7fe80a0a1050>"
            ]
          },
          "metadata": {},
          "execution_count": 106
        },
        {
          "output_type": "display_data",
          "data": {
            "text/plain": [
              "<Figure size 432x288 with 1 Axes>"
            ],
            "image/png": "[encoded data removed]"
          },
          "metadata": {
            "needs_background": "light"
          }
        }
      ]
    },
    {
      "cell_type": "markdown",
      "source": [
        "Nice! Our algorithm was able to separe these two groups, and it basically depends on their cholesterol: If they have high cholesterol, they are clustered in cluster 0, and if they have low cholesterol they are clustered in cluster 1.\n",
        "\n",
        "We can also add our clusters as a new column in our dataframe:"
      ],
      "metadata": {
        "id": "ajNFep00YYfa"
      }
    },
    {
      "cell_type": "code",
      "source": [
        "colesterol_dataset['clusters'] = kmeans.labels_\n",
        "\n",
        "colesterol_dataset.head( )"
      ],
      "metadata": {
        "colab": {
          "base_uri": "https://localhost:8080/",
          "height": 270
        },
        "id": "weP1dOyPYXX_",
        "outputId": "56286532-f76c-4c02-d818-cb0571cd1442"
      },
      "execution_count": 108,
      "outputs": [
        {
          "output_type": "execute_result",
          "data": {
            "text/plain": [
              "   idade  genero  tipo_dor_peito  pressao_sanguinea_repouso  acucar_jejum  \\\n",
              "0     63       1               1                        145             1   \n",
              "1     67       1               4                        160             0   \n",
              "2     67       1               4                        120             0   \n",
              "3     37       1               3                        130             0   \n",
              "4     41       0               2                        130             0   \n",
              "\n",
              "   resultado_eletrocardio  freq_cardio_max  angina_exercicio  \\\n",
              "0                       2              150                 0   \n",
              "1                       2              108                 1   \n",
              "2                       2              129                 1   \n",
              "3                       0              187                 0   \n",
              "4                       2              172                 0   \n",
              "\n",
              "   depressao_induzida_exercicio  inclinacao num_princ_vasos thal  \\\n",
              "0                           2.3           3               0    6   \n",
              "1                           1.5           2               3    3   \n",
              "2                           2.6           2               2    7   \n",
              "3                           3.5           3               0    3   \n",
              "4                           1.4           1               0    3   \n",
              "\n",
              "   diag_doenca_cardiaca  colesterol  clusters  \n",
              "0                     0         233         1  \n",
              "1                     2         286         0  \n",
              "2                     1         229         1  \n",
              "3                     0         250         1  \n",
              "4                     0         204         1  "
            ],
            "text/html": [
              "\n",
              "  <div id=\"df-3d175f9a-0ab9-4f60-82b4-eb1cdb5a06b9\">\n",
              "    <div class=\"colab-df-container\">\n",
              "      <div>\n",
              "<style scoped>\n",
              "    .dataframe tbody tr th:only-of-type {\n",
              "        vertical-align: middle;\n",
              "    }\n",
              "\n",
              "    .dataframe tbody tr th {\n",
              "        vertical-align: top;\n",
              "    }\n",
              "\n",
              "    .dataframe thead th {\n",
              "        text-align: right;\n",
              "    }\n",
              "</style>\n",
              "<table border=\"1\" class=\"dataframe\">\n",
              "  <thead>\n",
              "    <tr style=\"text-align: right;\">\n",
              "      <th></th>\n",
              "      <th>idade</th>\n",
              "      <th>genero</th>\n",
              "      <th>tipo_dor_peito</th>\n",
              "      <th>pressao_sanguinea_repouso</th>\n",
              "      <th>acucar_jejum</th>\n",
              "      <th>resultado_eletrocardio</th>\n",
              "      <th>freq_cardio_max</th>\n",
              "      <th>angina_exercicio</th>\n",
              "      <th>depressao_induzida_exercicio</th>\n",
              "      <th>inclinacao</th>\n",
              "      <th>num_princ_vasos</th>\n",
              "      <th>thal</th>\n",
              "      <th>diag_doenca_cardiaca</th>\n",
              "      <th>colesterol</th>\n",
              "      <th>clusters</th>\n",
              "    </tr>\n",
              "  </thead>\n",
              "  <tbody>\n",
              "    <tr>\n",
              "      <th>0</th>\n",
              "      <td>63</td>\n",
              "      <td>1</td>\n",
              "      <td>1</td>\n",
              "      <td>145</td>\n",
              "      <td>1</td>\n",
              "      <td>2</td>\n",
              "      <td>150</td>\n",
              "      <td>0</td>\n",
              "      <td>2.3</td>\n",
              "      <td>3</td>\n",
              "      <td>0</td>\n",
              "      <td>6</td>\n",
              "      <td>0</td>\n",
              "      <td>233</td>\n",
              "      <td>1</td>\n",
              "    </tr>\n",
              "    <tr>\n",
              "      <th>1</th>\n",
              "      <td>67</td>\n",
              "      <td>1</td>\n",
              "      <td>4</td>\n",
              "      <td>160</td>\n",
              "      <td>0</td>\n",
              "      <td>2</td>\n",
              "      <td>108</td>\n",
              "      <td>1</td>\n",
              "      <td>1.5</td>\n",
              "      <td>2</td>\n",
              "      <td>3</td>\n",
              "      <td>3</td>\n",
              "      <td>2</td>\n",
              "      <td>286</td>\n",
              "      <td>0</td>\n",
              "    </tr>\n",
              "    <tr>\n",
              "      <th>2</th>\n",
              "      <td>67</td>\n",
              "      <td>1</td>\n",
              "      <td>4</td>\n",
              "      <td>120</td>\n",
              "      <td>0</td>\n",
              "      <td>2</td>\n",
              "      <td>129</td>\n",
              "      <td>1</td>\n",
              "      <td>2.6</td>\n",
              "      <td>2</td>\n",
              "      <td>2</td>\n",
              "      <td>7</td>\n",
              "      <td>1</td>\n",
              "      <td>229</td>\n",
              "      <td>1</td>\n",
              "    </tr>\n",
              "    <tr>\n",
              "      <th>3</th>\n",
              "      <td>37</td>\n",
              "      <td>1</td>\n",
              "      <td>3</td>\n",
              "      <td>130</td>\n",
              "      <td>0</td>\n",
              "      <td>0</td>\n",
              "      <td>187</td>\n",
              "      <td>0</td>\n",
              "      <td>3.5</td>\n",
              "      <td>3</td>\n",
              "      <td>0</td>\n",
              "      <td>3</td>\n",
              "      <td>0</td>\n",
              "      <td>250</td>\n",
              "      <td>1</td>\n",
              "    </tr>\n",
              "    <tr>\n",
              "      <th>4</th>\n",
              "      <td>41</td>\n",
              "      <td>0</td>\n",
              "      <td>2</td>\n",
              "      <td>130</td>\n",
              "      <td>0</td>\n",
              "      <td>2</td>\n",
              "      <td>172</td>\n",
              "      <td>0</td>\n",
              "      <td>1.4</td>\n",
              "      <td>1</td>\n",
              "      <td>0</td>\n",
              "      <td>3</td>\n",
              "      <td>0</td>\n",
              "      <td>204</td>\n",
              "      <td>1</td>\n",
              "    </tr>\n",
              "  </tbody>\n",
              "</table>\n",
              "</div>\n",
              "      <button class=\"colab-df-convert\" onclick=\"convertToInteractive('df-3d175f9a-0ab9-4f60-82b4-eb1cdb5a06b9')\"\n",
              "              title=\"Convert this dataframe to an interactive table.\"\n",
              "              style=\"display:none;\">\n",
              "        \n",
              "  <svg xmlns=\"http://www.w3.org/2000/svg\" height=\"24px\"viewBox=\"0 0 24 24\"\n",
              "       width=\"24px\">\n",
              "    <path d=\"M0 0h24v24H0V0z\" fill=\"none\"/>\n",
              "    <path d=\"M18.56 5.44l.94 2.06.94-2.06 2.06-.94-2.06-.94-.94-2.06-.94 2.06-2.06.94zm-11 1L8.5 8.5l.94-2.06 2.06-.94-2.06-.94L8.5 2.5l-.94 2.06-2.06.94zm10 10l.94 2.06.94-2.06 2.06-.94-2.06-.94-.94-2.06-.94 2.06-2.06.94z\"/><path d=\"M17.41 7.96l-1.37-1.37c-.4-.4-.92-.59-1.43-.59-.52 0-1.04.2-1.43.59L10.3 9.45l-7.72 7.72c-.78.78-.78 2.05 0 2.83L4 21.41c.39.39.9.59 1.41.59.51 0 1.02-.2 1.41-.59l7.78-7.78 2.81-2.81c.8-.78.8-2.07 0-2.86zM5.41 20L4 18.59l7.72-7.72 1.47 1.35L5.41 20z\"/>\n",
              "  </svg>\n",
              "      </button>\n",
              "      \n",
              "  <style>\n",
              "    .colab-df-container {\n",
              "      display:flex;\n",
              "      flex-wrap:wrap;\n",
              "      gap: 12px;\n",
              "    }\n",
              "\n",
              "    .colab-df-convert {\n",
              "      background-color: #E8F0FE;\n",
              "      border: none;\n",
              "      border-radius: 50%;\n",
              "      cursor: pointer;\n",
              "      display: none;\n",
              "      fill: #1967D2;\n",
              "      height: 32px;\n",
              "      padding: 0 0 0 0;\n",
              "      width: 32px;\n",
              "    }\n",
              "\n",
              "    .colab-df-convert:hover {\n",
              "      background-color: #E2EBFA;\n",
              "      box-shadow: 0px 1px 2px rgba(60, 64, 67, 0.3), 0px 1px 3px 1px rgba(60, 64, 67, 0.15);\n",
              "      fill: #174EA6;\n",
              "    }\n",
              "\n",
              "    [theme=dark] .colab-df-convert {\n",
              "      background-color: #3B4455;\n",
              "      fill: #D2E3FC;\n",
              "    }\n",
              "\n",
              "    [theme=dark] .colab-df-convert:hover {\n",
              "      background-color: #434B5C;\n",
              "      box-shadow: 0px 1px 3px 1px rgba(0, 0, 0, 0.15);\n",
              "      filter: drop-shadow(0px 1px 2px rgba(0, 0, 0, 0.3));\n",
              "      fill: #FFFFFF;\n",
              "    }\n",
              "  </style>\n",
              "\n",
              "      <script>\n",
              "        const buttonEl =\n",
              "          document.querySelector('#df-3d175f9a-0ab9-4f60-82b4-eb1cdb5a06b9 button.colab-df-convert');\n",
              "        buttonEl.style.display =\n",
              "          google.colab.kernel.accessAllowed ? 'block' : 'none';\n",
              "\n",
              "        async function convertToInteractive(key) {\n",
              "          const element = document.querySelector('#df-3d175f9a-0ab9-4f60-82b4-eb1cdb5a06b9');\n",
              "          const dataTable =\n",
              "            await google.colab.kernel.invokeFunction('convertToInteractive',\n",
              "                                                     [key], {});\n",
              "          if (!dataTable) return;\n",
              "\n",
              "          const docLinkHtml = 'Like what you see? Visit the ' +\n",
              "            '<a target=\"_blank\" href=https://colab.research.google.com/notebooks/data_table.ipynb>data table notebook</a>'\n",
              "            + ' to learn more about interactive tables.';\n",
              "          element.innerHTML = '';\n",
              "          dataTable['output_type'] = 'display_data';\n",
              "          await google.colab.output.renderOutput(dataTable, element);\n",
              "          const docLink = document.createElement('div');\n",
              "          docLink.innerHTML = docLinkHtml;\n",
              "          element.appendChild(docLink);\n",
              "        }\n",
              "      </script>\n",
              "    </div>\n",
              "  </div>\n",
              "  "
            ]
          },
          "metadata": {},
          "execution_count": 108
        }
      ]
    },
    {
      "cell_type": "markdown",
      "source": [
        "And then, we can get, for instance, information about the cholesterol of each group:"
      ],
      "metadata": {
        "id": "DdZBOOZgZMcb"
      }
    },
    {
      "cell_type": "code",
      "source": [
        "colesterol_grouped = colesterol_dataset.groupby(['clusters'])['colesterol']"
      ],
      "metadata": {
        "id": "t3LNhwtGZIUe"
      },
      "execution_count": 113,
      "outputs": []
    },
    {
      "cell_type": "code",
      "source": [
        "colesterol_grouped.describe( ).round(2)"
      ],
      "metadata": {
        "colab": {
          "base_uri": "https://localhost:8080/",
          "height": 143
        },
        "id": "TuysKcKYZVYf",
        "outputId": "b7433878-f2ab-4353-8aa6-3ffce876a635"
      },
      "execution_count": 115,
      "outputs": [
        {
          "output_type": "execute_result",
          "data": {
            "text/plain": [
              "          count    mean    std    min    25%    50%    75%    max\n",
              "clusters                                                         \n",
              "0         111.0  298.96  41.14  258.0  271.0  289.0  310.0  564.0\n",
              "1         192.0  216.47  27.53  126.0  199.0  220.0  239.0  260.0"
            ],
            "text/html": [
              "\n",
              "  <div id=\"df-5552d7ca-66b8-4454-9de6-4976c8875645\">\n",
              "    <div class=\"colab-df-container\">\n",
              "      <div>\n",
              "<style scoped>\n",
              "    .dataframe tbody tr th:only-of-type {\n",
              "        vertical-align: middle;\n",
              "    }\n",
              "\n",
              "    .dataframe tbody tr th {\n",
              "        vertical-align: top;\n",
              "    }\n",
              "\n",
              "    .dataframe thead th {\n",
              "        text-align: right;\n",
              "    }\n",
              "</style>\n",
              "<table border=\"1\" class=\"dataframe\">\n",
              "  <thead>\n",
              "    <tr style=\"text-align: right;\">\n",
              "      <th></th>\n",
              "      <th>count</th>\n",
              "      <th>mean</th>\n",
              "      <th>std</th>\n",
              "      <th>min</th>\n",
              "      <th>25%</th>\n",
              "      <th>50%</th>\n",
              "      <th>75%</th>\n",
              "      <th>max</th>\n",
              "    </tr>\n",
              "    <tr>\n",
              "      <th>clusters</th>\n",
              "      <th></th>\n",
              "      <th></th>\n",
              "      <th></th>\n",
              "      <th></th>\n",
              "      <th></th>\n",
              "      <th></th>\n",
              "      <th></th>\n",
              "      <th></th>\n",
              "    </tr>\n",
              "  </thead>\n",
              "  <tbody>\n",
              "    <tr>\n",
              "      <th>0</th>\n",
              "      <td>111.0</td>\n",
              "      <td>298.96</td>\n",
              "      <td>41.14</td>\n",
              "      <td>258.0</td>\n",
              "      <td>271.0</td>\n",
              "      <td>289.0</td>\n",
              "      <td>310.0</td>\n",
              "      <td>564.0</td>\n",
              "    </tr>\n",
              "    <tr>\n",
              "      <th>1</th>\n",
              "      <td>192.0</td>\n",
              "      <td>216.47</td>\n",
              "      <td>27.53</td>\n",
              "      <td>126.0</td>\n",
              "      <td>199.0</td>\n",
              "      <td>220.0</td>\n",
              "      <td>239.0</td>\n",
              "      <td>260.0</td>\n",
              "    </tr>\n",
              "  </tbody>\n",
              "</table>\n",
              "</div>\n",
              "      <button class=\"colab-df-convert\" onclick=\"convertToInteractive('df-5552d7ca-66b8-4454-9de6-4976c8875645')\"\n",
              "              title=\"Convert this dataframe to an interactive table.\"\n",
              "              style=\"display:none;\">\n",
              "        \n",
              "  <svg xmlns=\"http://www.w3.org/2000/svg\" height=\"24px\"viewBox=\"0 0 24 24\"\n",
              "       width=\"24px\">\n",
              "    <path d=\"M0 0h24v24H0V0z\" fill=\"none\"/>\n",
              "    <path d=\"M18.56 5.44l.94 2.06.94-2.06 2.06-.94-2.06-.94-.94-2.06-.94 2.06-2.06.94zm-11 1L8.5 8.5l.94-2.06 2.06-.94-2.06-.94L8.5 2.5l-.94 2.06-2.06.94zm10 10l.94 2.06.94-2.06 2.06-.94-2.06-.94-.94-2.06-.94 2.06-2.06.94z\"/><path d=\"M17.41 7.96l-1.37-1.37c-.4-.4-.92-.59-1.43-.59-.52 0-1.04.2-1.43.59L10.3 9.45l-7.72 7.72c-.78.78-.78 2.05 0 2.83L4 21.41c.39.39.9.59 1.41.59.51 0 1.02-.2 1.41-.59l7.78-7.78 2.81-2.81c.8-.78.8-2.07 0-2.86zM5.41 20L4 18.59l7.72-7.72 1.47 1.35L5.41 20z\"/>\n",
              "  </svg>\n",
              "      </button>\n",
              "      \n",
              "  <style>\n",
              "    .colab-df-container {\n",
              "      display:flex;\n",
              "      flex-wrap:wrap;\n",
              "      gap: 12px;\n",
              "    }\n",
              "\n",
              "    .colab-df-convert {\n",
              "      background-color: #E8F0FE;\n",
              "      border: none;\n",
              "      border-radius: 50%;\n",
              "      cursor: pointer;\n",
              "      display: none;\n",
              "      fill: #1967D2;\n",
              "      height: 32px;\n",
              "      padding: 0 0 0 0;\n",
              "      width: 32px;\n",
              "    }\n",
              "\n",
              "    .colab-df-convert:hover {\n",
              "      background-color: #E2EBFA;\n",
              "      box-shadow: 0px 1px 2px rgba(60, 64, 67, 0.3), 0px 1px 3px 1px rgba(60, 64, 67, 0.15);\n",
              "      fill: #174EA6;\n",
              "    }\n",
              "\n",
              "    [theme=dark] .colab-df-convert {\n",
              "      background-color: #3B4455;\n",
              "      fill: #D2E3FC;\n",
              "    }\n",
              "\n",
              "    [theme=dark] .colab-df-convert:hover {\n",
              "      background-color: #434B5C;\n",
              "      box-shadow: 0px 1px 3px 1px rgba(0, 0, 0, 0.15);\n",
              "      filter: drop-shadow(0px 1px 2px rgba(0, 0, 0, 0.3));\n",
              "      fill: #FFFFFF;\n",
              "    }\n",
              "  </style>\n",
              "\n",
              "      <script>\n",
              "        const buttonEl =\n",
              "          document.querySelector('#df-5552d7ca-66b8-4454-9de6-4976c8875645 button.colab-df-convert');\n",
              "        buttonEl.style.display =\n",
              "          google.colab.kernel.accessAllowed ? 'block' : 'none';\n",
              "\n",
              "        async function convertToInteractive(key) {\n",
              "          const element = document.querySelector('#df-5552d7ca-66b8-4454-9de6-4976c8875645');\n",
              "          const dataTable =\n",
              "            await google.colab.kernel.invokeFunction('convertToInteractive',\n",
              "                                                     [key], {});\n",
              "          if (!dataTable) return;\n",
              "\n",
              "          const docLinkHtml = 'Like what you see? Visit the ' +\n",
              "            '<a target=\"_blank\" href=https://colab.research.google.com/notebooks/data_table.ipynb>data table notebook</a>'\n",
              "            + ' to learn more about interactive tables.';\n",
              "          element.innerHTML = '';\n",
              "          dataTable['output_type'] = 'display_data';\n",
              "          await google.colab.output.renderOutput(dataTable, element);\n",
              "          const docLink = document.createElement('div');\n",
              "          docLink.innerHTML = docLinkHtml;\n",
              "          element.appendChild(docLink);\n",
              "        }\n",
              "      </script>\n",
              "    </div>\n",
              "  </div>\n",
              "  "
            ]
          },
          "metadata": {},
          "execution_count": 115
        }
      ]
    },
    {
      "cell_type": "markdown",
      "source": [
        "We see that the mean cholesterol is very different in both clusters!"
      ],
      "metadata": {
        "id": "Npp4m5T5ZyIg"
      }
    },
    {
      "cell_type": "markdown",
      "source": [
        "# How to choose the right estimator?\n",
        "\n",
        "Usually, it is not that hard to identify the type of problem we are dealing with (clustering, regression or classification). However, in each category, we have a **multitude** of possible algorithms. \n",
        "\n",
        "In sklearn documentation, we have a very interesting tree to help us to choose with algorithm to use, based on our dataset and what we want to do with data. This can be found in:\n",
        "\n",
        "https://scikit-learn.org/stable/tutorial/machine_learning_map/index.html\n",
        "\n"
      ],
      "metadata": {
        "id": "cT803I_6ahtd"
      }
    }
  ]
}