{
  "nbformat": 4,
  "nbformat_minor": 0,
  "metadata": {
    "colab": {
      "name": "01_CreditScore.ipynb",
      "provenance": [],
      "collapsed_sections": [],
      "toc_visible": true
    },
    "kernelspec": {
      "name": "python3",
      "display_name": "Python 3"
    },
    "language_info": {
      "name": "python"
    }
  },
  "cells": [
    {
      "cell_type": "markdown",
      "source": [
        "# Machine Learning: Credit Scoring\n",
        "\n",
        "In this course, we will understand how granting credit works from the point of view of a Data Scientist. We will understand the particularities of applying Machine Learning techniques in the financial market, and we will learn to analysis a dataset for credit concession. Then, we will develop and validate a credit scoring model."
      ],
      "metadata": {
        "id": "CPP5omsRhXuO"
      }
    },
    {
      "cell_type": "markdown",
      "source": [
        "The credit chain has four main pilars:\n",
        "\n",
        "*   Prospection\n",
        "*   Concession\n",
        "*   Risk management\n",
        "*   Recovering\n",
        "\n",
        "In this course, we will focus on the second pilar. Also, in the market, we have two different people: savers and takers. While the former saves more money, the latter tends to take more money. The financial institution should be able to recognize these people, and intermediate their relationship. Usually, a saver *saves* money in a financial institution, gets payed by this saving, and the financial institution *borrows* money for takers.  \n",
        "\n",
        "The financial institution sets *how much* the saver is going to make, as well as *how much* the taker has to pay, and *if the taker is able to receive more credit*. \n",
        "\n",
        "Usually, a taker will ask for credit on a financial institution. Then, this financial institution we use a decision model (**Credit Scoring**) to understand if credit should be *approved* or *not approved*.  "
      ],
      "metadata": {
        "id": "188ZXAxvjOBm"
      }
    },
    {
      "cell_type": "markdown",
      "source": [
        "## Credit scoring\n",
        "\n",
        "Credit scoring estimates the probability of a given event occuring in a given dataset. While grating credit, we should get the probability that a given takers **does not pay his debt**.\n",
        "\n",
        "Every credit granting is related to a risk of not getting paid. Also, the credit risk is related to the taxes used, and, the higher the risk of default, the higher the tax."
      ],
      "metadata": {
        "id": "mks30a9Tkm4P"
      }
    },
    {
      "cell_type": "markdown",
      "source": [
        "Credit scoring is a **multivariate model** to evaluate the probability of default. The variables of this model is the information given by the taker, which allows the financial institution to evaluate the risk of credit. Different classification models can be used to that end, such as logistic regression, random forest, naive bayes, support vector machines, and others.\n",
        "\n",
        "In this course, we will use the logistic regression to build our credit scoring model."
      ],
      "metadata": {
        "id": "6ZKS8MjupdR3"
      }
    },
    {
      "cell_type": "markdown",
      "source": [
        "# Importing our dataset\n",
        "\n",
        "Here, we will use a dataset from UCI:"
      ],
      "metadata": {
        "id": "9KBKAE2RiCvm"
      }
    },
    {
      "cell_type": "code",
      "execution_count": 337,
      "metadata": {
        "id": "Ugng_AFphUR3"
      },
      "outputs": [],
      "source": [
        "import pandas as pd\n",
        "\n",
        "df = pd.read_csv('https://raw.githubusercontent.com/alura-cursos/credit_scoring/main/base_dados_traduzida.csv')"
      ]
    },
    {
      "cell_type": "code",
      "source": [
        "df.head( )"
      ],
      "metadata": {
        "colab": {
          "base_uri": "https://localhost:8080/",
          "height": 508
        },
        "id": "ws_4CdPGiQdL",
        "outputId": "9198b321-dd83-417f-b7c1-c3bc9ac7123b"
      },
      "execution_count": 338,
      "outputs": [
        {
          "output_type": "execute_result",
          "data": {
            "text/plain": [
              "   default       conta_corrente  prazo_emprestimo_meses  \\\n",
              "0        0               < 0 DM                       6   \n",
              "1        1    0 <= ... < 200 DM                      48   \n",
              "2        0  no checking account                      12   \n",
              "3        0               < 0 DM                      42   \n",
              "4        1               < 0 DM                      24   \n",
              "\n",
              "                                   historico_credito  \\\n",
              "0  critical account/ other credits existing (not ...   \n",
              "1           existing credits paid back duly till now   \n",
              "2  critical account/ other credits existing (not ...   \n",
              "3           existing credits paid back duly till now   \n",
              "4                    delay in paying off in the past   \n",
              "\n",
              "           proposito_emprestimo  valor_emprestimo  \\\n",
              "0           domestic appliances              1169   \n",
              "1           domestic appliances              5951   \n",
              "2  (vacation - does not exist?)              2096   \n",
              "3              radio/television              7882   \n",
              "4                     car (new)              4870   \n",
              "\n",
              "                    reserva_cc tempo_emprego_atual  taxa_comp_salario  \\\n",
              "0  unknown/ no savings account       .. >= 7 years                  4   \n",
              "1                 ... < 100 DM  1 <= ... < 4 years                  2   \n",
              "2                 ... < 100 DM  4 <= ... < 7 years                  2   \n",
              "3                 ... < 100 DM  4 <= ... < 7 years                  2   \n",
              "4                 ... < 100 DM  1 <= ... < 4 years                  3   \n",
              "\n",
              "                        sexo_est_civil  ... anos_residencia_atual  \\\n",
              "0                        male : single  ...                     4   \n",
              "1  female : divorced/separated/married  ...                     2   \n",
              "2                        male : single  ...                     3   \n",
              "3                        male : single  ...                     4   \n",
              "4                        male : single  ...                     4   \n",
              "\n",
              "                                         propriedade idade  \\\n",
              "0                                        real estate    67   \n",
              "1                                        real estate    22   \n",
              "2                                        real estate    49   \n",
              "3  if not A121 : building society savings agreeme...    45   \n",
              "4                              unknown / no property    53   \n",
              "\n",
              "   outros_planos_financiamento tipo_residencia n_creditos_banco  \\\n",
              "0                         none             own                2   \n",
              "1                         none             own                1   \n",
              "2                         none             own                1   \n",
              "3                         none        for free                1   \n",
              "4                         none        for free                2   \n",
              "\n",
              "                status_emprego n_dependentes  \\\n",
              "0  skilled employee / official             1   \n",
              "1  skilled employee / official             1   \n",
              "2         unskilled - resident             2   \n",
              "3  skilled employee / official             2   \n",
              "4  skilled employee / official             2   \n",
              "\n",
              "                                    telefone trabalhador_estrangeiro  \n",
              "0  yes, registered under the customers name                      yes  \n",
              "1                                       none                     yes  \n",
              "2                                       none                     yes  \n",
              "3                                       none                     yes  \n",
              "4                                       none                     yes  \n",
              "\n",
              "[5 rows x 21 columns]"
            ],
            "text/html": [
              "\n",
              "  <div id=\"df-7aea018a-d691-4cb9-a2f8-5c1bbd161190\">\n",
              "    <div class=\"colab-df-container\">\n",
              "      <div>\n",
              "<style scoped>\n",
              "    .dataframe tbody tr th:only-of-type {\n",
              "        vertical-align: middle;\n",
              "    }\n",
              "\n",
              "    .dataframe tbody tr th {\n",
              "        vertical-align: top;\n",
              "    }\n",
              "\n",
              "    .dataframe thead th {\n",
              "        text-align: right;\n",
              "    }\n",
              "</style>\n",
              "<table border=\"1\" class=\"dataframe\">\n",
              "  <thead>\n",
              "    <tr style=\"text-align: right;\">\n",
              "      <th></th>\n",
              "      <th>default</th>\n",
              "      <th>conta_corrente</th>\n",
              "      <th>prazo_emprestimo_meses</th>\n",
              "      <th>historico_credito</th>\n",
              "      <th>proposito_emprestimo</th>\n",
              "      <th>valor_emprestimo</th>\n",
              "      <th>reserva_cc</th>\n",
              "      <th>tempo_emprego_atual</th>\n",
              "      <th>taxa_comp_salario</th>\n",
              "      <th>sexo_est_civil</th>\n",
              "      <th>...</th>\n",
              "      <th>anos_residencia_atual</th>\n",
              "      <th>propriedade</th>\n",
              "      <th>idade</th>\n",
              "      <th>outros_planos_financiamento</th>\n",
              "      <th>tipo_residencia</th>\n",
              "      <th>n_creditos_banco</th>\n",
              "      <th>status_emprego</th>\n",
              "      <th>n_dependentes</th>\n",
              "      <th>telefone</th>\n",
              "      <th>trabalhador_estrangeiro</th>\n",
              "    </tr>\n",
              "  </thead>\n",
              "  <tbody>\n",
              "    <tr>\n",
              "      <th>0</th>\n",
              "      <td>0</td>\n",
              "      <td>&lt; 0 DM</td>\n",
              "      <td>6</td>\n",
              "      <td>critical account/ other credits existing (not ...</td>\n",
              "      <td>domestic appliances</td>\n",
              "      <td>1169</td>\n",
              "      <td>unknown/ no savings account</td>\n",
              "      <td>.. &gt;= 7 years</td>\n",
              "      <td>4</td>\n",
              "      <td>male : single</td>\n",
              "      <td>...</td>\n",
              "      <td>4</td>\n",
              "      <td>real estate</td>\n",
              "      <td>67</td>\n",
              "      <td>none</td>\n",
              "      <td>own</td>\n",
              "      <td>2</td>\n",
              "      <td>skilled employee / official</td>\n",
              "      <td>1</td>\n",
              "      <td>yes, registered under the customers name</td>\n",
              "      <td>yes</td>\n",
              "    </tr>\n",
              "    <tr>\n",
              "      <th>1</th>\n",
              "      <td>1</td>\n",
              "      <td>0 &lt;= ... &lt; 200 DM</td>\n",
              "      <td>48</td>\n",
              "      <td>existing credits paid back duly till now</td>\n",
              "      <td>domestic appliances</td>\n",
              "      <td>5951</td>\n",
              "      <td>... &lt; 100 DM</td>\n",
              "      <td>1 &lt;= ... &lt; 4 years</td>\n",
              "      <td>2</td>\n",
              "      <td>female : divorced/separated/married</td>\n",
              "      <td>...</td>\n",
              "      <td>2</td>\n",
              "      <td>real estate</td>\n",
              "      <td>22</td>\n",
              "      <td>none</td>\n",
              "      <td>own</td>\n",
              "      <td>1</td>\n",
              "      <td>skilled employee / official</td>\n",
              "      <td>1</td>\n",
              "      <td>none</td>\n",
              "      <td>yes</td>\n",
              "    </tr>\n",
              "    <tr>\n",
              "      <th>2</th>\n",
              "      <td>0</td>\n",
              "      <td>no checking account</td>\n",
              "      <td>12</td>\n",
              "      <td>critical account/ other credits existing (not ...</td>\n",
              "      <td>(vacation - does not exist?)</td>\n",
              "      <td>2096</td>\n",
              "      <td>... &lt; 100 DM</td>\n",
              "      <td>4 &lt;= ... &lt; 7 years</td>\n",
              "      <td>2</td>\n",
              "      <td>male : single</td>\n",
              "      <td>...</td>\n",
              "      <td>3</td>\n",
              "      <td>real estate</td>\n",
              "      <td>49</td>\n",
              "      <td>none</td>\n",
              "      <td>own</td>\n",
              "      <td>1</td>\n",
              "      <td>unskilled - resident</td>\n",
              "      <td>2</td>\n",
              "      <td>none</td>\n",
              "      <td>yes</td>\n",
              "    </tr>\n",
              "    <tr>\n",
              "      <th>3</th>\n",
              "      <td>0</td>\n",
              "      <td>&lt; 0 DM</td>\n",
              "      <td>42</td>\n",
              "      <td>existing credits paid back duly till now</td>\n",
              "      <td>radio/television</td>\n",
              "      <td>7882</td>\n",
              "      <td>... &lt; 100 DM</td>\n",
              "      <td>4 &lt;= ... &lt; 7 years</td>\n",
              "      <td>2</td>\n",
              "      <td>male : single</td>\n",
              "      <td>...</td>\n",
              "      <td>4</td>\n",
              "      <td>if not A121 : building society savings agreeme...</td>\n",
              "      <td>45</td>\n",
              "      <td>none</td>\n",
              "      <td>for free</td>\n",
              "      <td>1</td>\n",
              "      <td>skilled employee / official</td>\n",
              "      <td>2</td>\n",
              "      <td>none</td>\n",
              "      <td>yes</td>\n",
              "    </tr>\n",
              "    <tr>\n",
              "      <th>4</th>\n",
              "      <td>1</td>\n",
              "      <td>&lt; 0 DM</td>\n",
              "      <td>24</td>\n",
              "      <td>delay in paying off in the past</td>\n",
              "      <td>car (new)</td>\n",
              "      <td>4870</td>\n",
              "      <td>... &lt; 100 DM</td>\n",
              "      <td>1 &lt;= ... &lt; 4 years</td>\n",
              "      <td>3</td>\n",
              "      <td>male : single</td>\n",
              "      <td>...</td>\n",
              "      <td>4</td>\n",
              "      <td>unknown / no property</td>\n",
              "      <td>53</td>\n",
              "      <td>none</td>\n",
              "      <td>for free</td>\n",
              "      <td>2</td>\n",
              "      <td>skilled employee / official</td>\n",
              "      <td>2</td>\n",
              "      <td>none</td>\n",
              "      <td>yes</td>\n",
              "    </tr>\n",
              "  </tbody>\n",
              "</table>\n",
              "<p>5 rows × 21 columns</p>\n",
              "</div>\n",
              "      <button class=\"colab-df-convert\" onclick=\"convertToInteractive('df-7aea018a-d691-4cb9-a2f8-5c1bbd161190')\"\n",
              "              title=\"Convert this dataframe to an interactive table.\"\n",
              "              style=\"display:none;\">\n",
              "        \n",
              "  <svg xmlns=\"http://www.w3.org/2000/svg\" height=\"24px\"viewBox=\"0 0 24 24\"\n",
              "       width=\"24px\">\n",
              "    <path d=\"M0 0h24v24H0V0z\" fill=\"none\"/>\n",
              "    <path d=\"M18.56 5.44l.94 2.06.94-2.06 2.06-.94-2.06-.94-.94-2.06-.94 2.06-2.06.94zm-11 1L8.5 8.5l.94-2.06 2.06-.94-2.06-.94L8.5 2.5l-.94 2.06-2.06.94zm10 10l.94 2.06.94-2.06 2.06-.94-2.06-.94-.94-2.06-.94 2.06-2.06.94z\"/><path d=\"M17.41 7.96l-1.37-1.37c-.4-.4-.92-.59-1.43-.59-.52 0-1.04.2-1.43.59L10.3 9.45l-7.72 7.72c-.78.78-.78 2.05 0 2.83L4 21.41c.39.39.9.59 1.41.59.51 0 1.02-.2 1.41-.59l7.78-7.78 2.81-2.81c.8-.78.8-2.07 0-2.86zM5.41 20L4 18.59l7.72-7.72 1.47 1.35L5.41 20z\"/>\n",
              "  </svg>\n",
              "      </button>\n",
              "      \n",
              "  <style>\n",
              "    .colab-df-container {\n",
              "      display:flex;\n",
              "      flex-wrap:wrap;\n",
              "      gap: 12px;\n",
              "    }\n",
              "\n",
              "    .colab-df-convert {\n",
              "      background-color: #E8F0FE;\n",
              "      border: none;\n",
              "      border-radius: 50%;\n",
              "      cursor: pointer;\n",
              "      display: none;\n",
              "      fill: #1967D2;\n",
              "      height: 32px;\n",
              "      padding: 0 0 0 0;\n",
              "      width: 32px;\n",
              "    }\n",
              "\n",
              "    .colab-df-convert:hover {\n",
              "      background-color: #E2EBFA;\n",
              "      box-shadow: 0px 1px 2px rgba(60, 64, 67, 0.3), 0px 1px 3px 1px rgba(60, 64, 67, 0.15);\n",
              "      fill: #174EA6;\n",
              "    }\n",
              "\n",
              "    [theme=dark] .colab-df-convert {\n",
              "      background-color: #3B4455;\n",
              "      fill: #D2E3FC;\n",
              "    }\n",
              "\n",
              "    [theme=dark] .colab-df-convert:hover {\n",
              "      background-color: #434B5C;\n",
              "      box-shadow: 0px 1px 3px 1px rgba(0, 0, 0, 0.15);\n",
              "      filter: drop-shadow(0px 1px 2px rgba(0, 0, 0, 0.3));\n",
              "      fill: #FFFFFF;\n",
              "    }\n",
              "  </style>\n",
              "\n",
              "      <script>\n",
              "        const buttonEl =\n",
              "          document.querySelector('#df-7aea018a-d691-4cb9-a2f8-5c1bbd161190 button.colab-df-convert');\n",
              "        buttonEl.style.display =\n",
              "          google.colab.kernel.accessAllowed ? 'block' : 'none';\n",
              "\n",
              "        async function convertToInteractive(key) {\n",
              "          const element = document.querySelector('#df-7aea018a-d691-4cb9-a2f8-5c1bbd161190');\n",
              "          const dataTable =\n",
              "            await google.colab.kernel.invokeFunction('convertToInteractive',\n",
              "                                                     [key], {});\n",
              "          if (!dataTable) return;\n",
              "\n",
              "          const docLinkHtml = 'Like what you see? Visit the ' +\n",
              "            '<a target=\"_blank\" href=https://colab.research.google.com/notebooks/data_table.ipynb>data table notebook</a>'\n",
              "            + ' to learn more about interactive tables.';\n",
              "          element.innerHTML = '';\n",
              "          dataTable['output_type'] = 'display_data';\n",
              "          await google.colab.output.renderOutput(dataTable, element);\n",
              "          const docLink = document.createElement('div');\n",
              "          docLink.innerHTML = docLinkHtml;\n",
              "          element.appendChild(docLink);\n",
              "        }\n",
              "      </script>\n",
              "    </div>\n",
              "  </div>\n",
              "  "
            ]
          },
          "metadata": {},
          "execution_count": 338
        }
      ]
    },
    {
      "cell_type": "markdown",
      "source": [
        "In our dataset, we have 21 features. The first (default) is the target value. The others:\n",
        "\n",
        "**Attribute 1: (qualitative) Status of existing checking account**\n",
        "\n",
        "**Attribute 2: (numerical) Duration in month**\n",
        "\n",
        "**Attribute 3: (qualitative) Credit history**\n",
        "\n",
        "**Attribute 4: (qualitative) Purpose**\n",
        "\n",
        "**Attribute 5: (numerical) Credit amount****\n",
        "\n",
        "**Attibute 6: (qualitative) Savings account/bonds**\n",
        "\n",
        "**Attribute 7: (qualitative) Present employment since**\n",
        "\n",
        "**Attribute 8: (numerical) Installment rate in percentage of disposable income**\n",
        "\n",
        "**Attribute 9: (qualitative) Personal status and sex**\n",
        "\n",
        "**Attribute 10: (qualitative) Other debtors / guarantors**\n",
        "\n",
        "**Attribute 11: (numerical) Present residence since**\n",
        "\n",
        "**Attribute 12: (qualitative) Property**\n",
        "\n",
        "**Attribute 13: (numerical) Age in years**\n",
        "\n",
        "**Attribute 14: (qualitative) Other installment plans**\n",
        "\n",
        "**Attribute 15: (qualitative) Housing**\n",
        "\n",
        "**Attribute 16: (numerical) Number of existing credits at this bank**\n",
        "\n",
        "**Attribute 17: (qualitative) Job**\n",
        "\n",
        "**Attribute 18: (numerical) Number of people being liable to provide maintenance for**\n",
        "\n",
        "**Attribute 19: (qualitative) Telephone**\n",
        "\n",
        "**Attribute 20: (qualitative) foreign worker**\n"
      ],
      "metadata": {
        "id": "fkIz0P3niVCf"
      }
    },
    {
      "cell_type": "markdown",
      "source": [
        "Let's see if we have any null values:"
      ],
      "metadata": {
        "id": "OmP2qsyYnbgZ"
      }
    },
    {
      "cell_type": "code",
      "source": [
        "df.info( )"
      ],
      "metadata": {
        "colab": {
          "base_uri": "https://localhost:8080/"
        },
        "id": "XQgdSfvdiRRh",
        "outputId": "ef7d2703-c3e4-4450-b1a4-f450c6da7e64"
      },
      "execution_count": 339,
      "outputs": [
        {
          "output_type": "stream",
          "name": "stdout",
          "text": [
            "<class 'pandas.core.frame.DataFrame'>\n",
            "RangeIndex: 1000 entries, 0 to 999\n",
            "Data columns (total 21 columns):\n",
            " #   Column                       Non-Null Count  Dtype \n",
            "---  ------                       --------------  ----- \n",
            " 0   default                      1000 non-null   int64 \n",
            " 1   conta_corrente               1000 non-null   object\n",
            " 2   prazo_emprestimo_meses       1000 non-null   int64 \n",
            " 3   historico_credito            1000 non-null   object\n",
            " 4   proposito_emprestimo         1000 non-null   object\n",
            " 5   valor_emprestimo             1000 non-null   int64 \n",
            " 6   reserva_cc                   1000 non-null   object\n",
            " 7   tempo_emprego_atual          1000 non-null   object\n",
            " 8   taxa_comp_salario            1000 non-null   int64 \n",
            " 9   sexo_est_civil               1000 non-null   object\n",
            " 10  outros_fiadores              1000 non-null   object\n",
            " 11  anos_residencia_atual        1000 non-null   int64 \n",
            " 12  propriedade                  1000 non-null   object\n",
            " 13  idade                        1000 non-null   int64 \n",
            " 14  outros_planos_financiamento  1000 non-null   object\n",
            " 15  tipo_residencia              1000 non-null   object\n",
            " 16  n_creditos_banco             1000 non-null   int64 \n",
            " 17  status_emprego               1000 non-null   object\n",
            " 18  n_dependentes                1000 non-null   int64 \n",
            " 19  telefone                     1000 non-null   object\n",
            " 20  trabalhador_estrangeiro      1000 non-null   object\n",
            "dtypes: int64(8), object(13)\n",
            "memory usage: 164.2+ KB\n"
          ]
        }
      ]
    },
    {
      "cell_type": "code",
      "source": [
        "df.isnull( ).sum( )"
      ],
      "metadata": {
        "colab": {
          "base_uri": "https://localhost:8080/"
        },
        "id": "sd3Ibm1ZpX6p",
        "outputId": "73eddee5-1ed6-4c49-864c-0e427289bc61"
      },
      "execution_count": 340,
      "outputs": [
        {
          "output_type": "execute_result",
          "data": {
            "text/plain": [
              "default                        0\n",
              "conta_corrente                 0\n",
              "prazo_emprestimo_meses         0\n",
              "historico_credito              0\n",
              "proposito_emprestimo           0\n",
              "valor_emprestimo               0\n",
              "reserva_cc                     0\n",
              "tempo_emprego_atual            0\n",
              "taxa_comp_salario              0\n",
              "sexo_est_civil                 0\n",
              "outros_fiadores                0\n",
              "anos_residencia_atual          0\n",
              "propriedade                    0\n",
              "idade                          0\n",
              "outros_planos_financiamento    0\n",
              "tipo_residencia                0\n",
              "n_creditos_banco               0\n",
              "status_emprego                 0\n",
              "n_dependentes                  0\n",
              "telefone                       0\n",
              "trabalhador_estrangeiro        0\n",
              "dtype: int64"
            ]
          },
          "metadata": {},
          "execution_count": 340
        }
      ]
    },
    {
      "cell_type": "markdown",
      "source": [
        "It seems that we have 1000 entries in our dataset, and there is no missing value. Let's see if we have any duplicated data:"
      ],
      "metadata": {
        "id": "L6bic3IFnfwP"
      }
    },
    {
      "cell_type": "code",
      "source": [
        "df.duplicated( ).sum( )"
      ],
      "metadata": {
        "colab": {
          "base_uri": "https://localhost:8080/"
        },
        "id": "HI14Ku0PneXp",
        "outputId": "caa7e091-b05a-4a26-ce04-d3197b4856d9"
      },
      "execution_count": 341,
      "outputs": [
        {
          "output_type": "execute_result",
          "data": {
            "text/plain": [
              "0"
            ]
          },
          "metadata": {},
          "execution_count": 341
        }
      ]
    },
    {
      "cell_type": "markdown",
      "source": [
        "# First credit score model\n",
        "\n",
        "Here, we will build our first credit score model: a logistic regression. One of its main premises is that we have a binary target feature (*default*), and independent features. First, let's use a label encoder to handle the categorical variables. We could automate the process using the LabelEncoder from sci-kit learn package. However, since most of our features have a hierarchy, that could make our model uncapable of performing good predictions. So, let's do these first by hand:"
      ],
      "metadata": {
        "id": "vAQUzYUu8Ocn"
      }
    },
    {
      "cell_type": "code",
      "source": [
        "map_list = {'no checking account' : 0, '< 0 DM' : 1, '0 <= ... < 200 DM' : 2, '>= 200 DM / salary assignments for at least 1 year' : 3}\n",
        "df['conta_corrente'] = df['conta_corrente'].map(map_list)"
      ],
      "metadata": {
        "id": "7oAWrMxpoymC"
      },
      "execution_count": 342,
      "outputs": []
    },
    {
      "cell_type": "code",
      "source": [
        "map_list = {'critical account/ other credits existing (not at this bank)' : 0, \n",
        "            'delay in paying off in the past' : 1,\n",
        "            'existing credits paid back duly till now' : 2,\n",
        "            'all credits at this bank paid back duly' : 3,\n",
        "            'no credits taken/ all credits paid back duly' : 4}\n",
        "df['historico_credito'] = df['historico_credito'].map(map_list)"
      ],
      "metadata": {
        "id": "QkRZMyRYpJ2I"
      },
      "execution_count": 343,
      "outputs": []
    },
    {
      "cell_type": "code",
      "source": [
        "map_list = {'unknown/ no savings account' : 0, \n",
        "            '... < 100 DM' : 1,\n",
        "            '100 <= ... < 500 DM' : 2,\n",
        "            '500 <= ... < 1000 DM ' : 3,\n",
        "            '.. >= 1000 DM ' : 4}\n",
        "df['reserva_cc'] = df['reserva_cc'].map(map_list)"
      ],
      "metadata": {
        "id": "tQ9wr9sEpQt8"
      },
      "execution_count": 344,
      "outputs": []
    },
    {
      "cell_type": "code",
      "source": [
        "map_list = {'unemployed' : 0, \n",
        "            '... < 1 year ' : 1,\n",
        "            '1 <= ... < 4 years' : 2,\n",
        "            '4 <= ... < 7 years' : 3,\n",
        "            '.. >= 7 years' : 4}\n",
        "df['tempo_emprego_atual'] = df['tempo_emprego_atual'].map(map_list)"
      ],
      "metadata": {
        "id": "7gN2ps1rpip5"
      },
      "execution_count": 345,
      "outputs": []
    },
    {
      "cell_type": "code",
      "source": [
        "map_list = {'none' : 0, \n",
        "            'co-applicant' : 1,\n",
        "            'guarantor' : 2}\n",
        "df['outros_fiadores'] = df['outros_fiadores'].map(map_list)"
      ],
      "metadata": {
        "id": "KQqaJNShpzhB"
      },
      "execution_count": 346,
      "outputs": []
    },
    {
      "cell_type": "code",
      "source": [
        "map_list = {'none' : 0, \n",
        "            'stores' : 1,\n",
        "            'bank' : 2}\n",
        "df['outros_planos_financiamento'] = df['outros_planos_financiamento'].map(map_list)"
      ],
      "metadata": {
        "id": "j_STIeo9qDMM"
      },
      "execution_count": 347,
      "outputs": []
    },
    {
      "cell_type": "code",
      "source": [
        "map_list = {'for free' : 0, \n",
        "            'rent' : 1,\n",
        "            'own' : 2}\n",
        "df['tipo_residencia'] = df['tipo_residencia'].map(map_list)"
      ],
      "metadata": {
        "id": "6v_CNsDlqQ0j"
      },
      "execution_count": 348,
      "outputs": []
    },
    {
      "cell_type": "code",
      "source": [
        "map_list = {'unemployed/ unskilled - non-resident' : 0, \n",
        "            'unskilled - resident' : 1,\n",
        "            'skilled employee / official' : 2,\n",
        "            'management/ self-employed/ highly qualified employee/ officer' : 3}\n",
        "df['status_emprego'] = df['status_emprego'].map(map_list)"
      ],
      "metadata": {
        "id": "qsHsH1YUqQoV"
      },
      "execution_count": 349,
      "outputs": []
    },
    {
      "cell_type": "markdown",
      "source": [
        "For the rest of the labels, since there is no hierarchy, let's use a LabelEncoder:"
      ],
      "metadata": {
        "id": "vjrzBBK9qh_N"
      }
    },
    {
      "cell_type": "code",
      "source": [
        "from sklearn.preprocessing import LabelEncoder\n",
        "\n",
        "LabEnc = LabelEncoder( )\n",
        "\n",
        "dict_map = {}\n",
        "\n",
        "for col in df.columns:\n",
        "  if df[col].dtype.name == 'object':\n",
        "    df[col] = LabEnc.fit_transform(df[col])\n",
        "    keys = LabEnc.classes_\n",
        "    values = LabEnc.transform(LabEnc.classes_)\n",
        "    tmp = dict(zip(keys, values))\n",
        "    dict_map[col] = tmp"
      ],
      "metadata": {
        "id": "LaUDyOiqCy3p"
      },
      "execution_count": 350,
      "outputs": []
    },
    {
      "cell_type": "markdown",
      "source": [
        "Nice! We can see how our label encoder encoded our values by looking at:"
      ],
      "metadata": {
        "id": "eJTqjB89Czip"
      }
    },
    {
      "cell_type": "code",
      "source": [
        "for key in dict_map:\n",
        "  print(key + \" : \")\n",
        "  print(dict_map[key])\n",
        "  print('-'*300)"
      ],
      "metadata": {
        "colab": {
          "base_uri": "https://localhost:8080/"
        },
        "id": "yTt0Ezw4C4j4",
        "outputId": "0b1d2227-cd32-4644-ad54-5d3d3fcd140e"
      },
      "execution_count": 351,
      "outputs": [
        {
          "output_type": "stream",
          "name": "stdout",
          "text": [
            "proposito_emprestimo : \n",
            "{'(vacation - does not exist?)': 0, 'business': 1, 'car (new)': 2, 'car (used)': 3, 'domestic appliances': 4, 'education': 5, 'furniture/equipment': 6, 'radio/television': 7, 'repairs': 8, 'retraining': 9}\n",
            "------------------------------------------------------------------------------------------------------------------------------------------------------------------------------------------------------------------------------------------------------------------------------------------------------------\n",
            "sexo_est_civil : \n",
            "{'female : divorced/separated/married': 0, 'male : divorced/separated': 1, 'male : married/widowed': 2, 'male : single': 3}\n",
            "------------------------------------------------------------------------------------------------------------------------------------------------------------------------------------------------------------------------------------------------------------------------------------------------------------\n",
            "propriedade : \n",
            "{'if not A121 : building society savings agreement/ life insurance': 0, 'if not A121/A122 : car or other, not in attribute 6': 1, 'real estate': 2, 'unknown / no property': 3}\n",
            "------------------------------------------------------------------------------------------------------------------------------------------------------------------------------------------------------------------------------------------------------------------------------------------------------------\n",
            "telefone : \n",
            "{'none': 0, 'yes, registered under the customers name ': 1}\n",
            "------------------------------------------------------------------------------------------------------------------------------------------------------------------------------------------------------------------------------------------------------------------------------------------------------------\n",
            "trabalhador_estrangeiro : \n",
            "{'no': 0, 'yes': 1}\n",
            "------------------------------------------------------------------------------------------------------------------------------------------------------------------------------------------------------------------------------------------------------------------------------------------------------------\n"
          ]
        }
      ]
    },
    {
      "cell_type": "markdown",
      "source": [
        "Nice! Now, let's separe our targets and our independent features:"
      ],
      "metadata": {
        "id": "E0ijipCiD9Nx"
      }
    },
    {
      "cell_type": "code",
      "source": [
        "y = df.default\n",
        "X = df.drop('default', axis = 1)"
      ],
      "metadata": {
        "id": "-7e2EZmL8up4"
      },
      "execution_count": 352,
      "outputs": []
    },
    {
      "cell_type": "markdown",
      "source": [
        "Now, let's perform our train test split:"
      ],
      "metadata": {
        "id": "c9t29Mm19CQC"
      }
    },
    {
      "cell_type": "code",
      "source": [
        "from sklearn.model_selection import train_test_split\n",
        "\n",
        "SEED = 77\n",
        "\n",
        "X_train, X_test, y_train, y_test = train_test_split(X, y, test_size = 0.30, random_state = SEED)"
      ],
      "metadata": {
        "id": "_00C14VT84Ni"
      },
      "execution_count": 353,
      "outputs": []
    },
    {
      "cell_type": "markdown",
      "source": [
        "So, 30% of our dataset went to the test set, and 70% wen to the training set. We can check this using:"
      ],
      "metadata": {
        "id": "IhBViach9cgu"
      }
    },
    {
      "cell_type": "code",
      "source": [
        "size_train = X_train.shape[0]\n",
        "size_test  = X_test.shape[0]\n",
        "\n",
        "print(f\"Train: %s samples\" %(size_train))\n",
        "print(f\"Test : %s samples\" %(size_test ))"
      ],
      "metadata": {
        "colab": {
          "base_uri": "https://localhost:8080/"
        },
        "id": "Dn9HIE1q9R3W",
        "outputId": "a296a53b-caf1-4093-d8c7-c1ae1dd3eaaa"
      },
      "execution_count": 354,
      "outputs": [
        {
          "output_type": "stream",
          "name": "stdout",
          "text": [
            "Train: 700 samples\n",
            "Test : 300 samples\n"
          ]
        }
      ]
    },
    {
      "cell_type": "markdown",
      "source": [
        "Nice! Everything seems to have worked out. Now, let's use a label encoder to transform our categorical features into numerical values:"
      ],
      "metadata": {
        "id": "dWqFyMWu9yEM"
      }
    },
    {
      "cell_type": "code",
      "source": [
        "df"
      ],
      "metadata": {
        "colab": {
          "base_uri": "https://localhost:8080/",
          "height": 488
        },
        "id": "TEPmXi_h_04Q",
        "outputId": "35b6127a-4a58-4758-e769-b484a4ca75ba"
      },
      "execution_count": 355,
      "outputs": [
        {
          "output_type": "execute_result",
          "data": {
            "text/plain": [
              "     default  conta_corrente  prazo_emprestimo_meses  historico_credito  \\\n",
              "0          0               1                       6                  0   \n",
              "1          1               2                      48                  2   \n",
              "2          0               0                      12                  0   \n",
              "3          0               1                      42                  2   \n",
              "4          1               1                      24                  1   \n",
              "..       ...             ...                     ...                ...   \n",
              "995        0               0                      12                  2   \n",
              "996        0               1                      30                  2   \n",
              "997        0               0                      12                  2   \n",
              "998        1               1                      45                  2   \n",
              "999        0               2                      45                  0   \n",
              "\n",
              "     proposito_emprestimo  valor_emprestimo  reserva_cc  tempo_emprego_atual  \\\n",
              "0                       4              1169           0                    4   \n",
              "1                       4              5951           1                    2   \n",
              "2                       0              2096           1                    3   \n",
              "3                       7              7882           1                    3   \n",
              "4                       2              4870           1                    2   \n",
              "..                    ...               ...         ...                  ...   \n",
              "995                     7              1736           1                    3   \n",
              "996                     3              3857           1                    2   \n",
              "997                     4               804           1                    4   \n",
              "998                     4              1845           1                    2   \n",
              "999                     3              4576           2                    0   \n",
              "\n",
              "     taxa_comp_salario  sexo_est_civil  ...  anos_residencia_atual  \\\n",
              "0                    4               3  ...                      4   \n",
              "1                    2               0  ...                      2   \n",
              "2                    2               3  ...                      3   \n",
              "3                    2               3  ...                      4   \n",
              "4                    3               3  ...                      4   \n",
              "..                 ...             ...  ...                    ...   \n",
              "995                  3               0  ...                      4   \n",
              "996                  4               1  ...                      4   \n",
              "997                  4               3  ...                      4   \n",
              "998                  4               3  ...                      4   \n",
              "999                  3               3  ...                      4   \n",
              "\n",
              "     propriedade  idade  outros_planos_financiamento  tipo_residencia  \\\n",
              "0              2     67                            0                2   \n",
              "1              2     22                            0                2   \n",
              "2              2     49                            0                2   \n",
              "3              0     45                            0                0   \n",
              "4              3     53                            0                0   \n",
              "..           ...    ...                          ...              ...   \n",
              "995            2     31                            0                2   \n",
              "996            0     40                            0                2   \n",
              "997            1     38                            0                2   \n",
              "998            3     23                            0                0   \n",
              "999            1     27                            0                2   \n",
              "\n",
              "     n_creditos_banco  status_emprego  n_dependentes  telefone  \\\n",
              "0                   2               2              1         1   \n",
              "1                   1               2              1         0   \n",
              "2                   1               1              2         0   \n",
              "3                   1               2              2         0   \n",
              "4                   2               2              2         0   \n",
              "..                ...             ...            ...       ...   \n",
              "995                 1               1              1         0   \n",
              "996                 1               3              1         1   \n",
              "997                 1               2              1         0   \n",
              "998                 1               2              1         1   \n",
              "999                 1               2              1         0   \n",
              "\n",
              "     trabalhador_estrangeiro  \n",
              "0                          1  \n",
              "1                          1  \n",
              "2                          1  \n",
              "3                          1  \n",
              "4                          1  \n",
              "..                       ...  \n",
              "995                        1  \n",
              "996                        1  \n",
              "997                        1  \n",
              "998                        1  \n",
              "999                        1  \n",
              "\n",
              "[1000 rows x 21 columns]"
            ],
            "text/html": [
              "\n",
              "  <div id=\"df-11ae5c45-0149-49c5-b976-b8fab97942d3\">\n",
              "    <div class=\"colab-df-container\">\n",
              "      <div>\n",
              "<style scoped>\n",
              "    .dataframe tbody tr th:only-of-type {\n",
              "        vertical-align: middle;\n",
              "    }\n",
              "\n",
              "    .dataframe tbody tr th {\n",
              "        vertical-align: top;\n",
              "    }\n",
              "\n",
              "    .dataframe thead th {\n",
              "        text-align: right;\n",
              "    }\n",
              "</style>\n",
              "<table border=\"1\" class=\"dataframe\">\n",
              "  <thead>\n",
              "    <tr style=\"text-align: right;\">\n",
              "      <th></th>\n",
              "      <th>default</th>\n",
              "      <th>conta_corrente</th>\n",
              "      <th>prazo_emprestimo_meses</th>\n",
              "      <th>historico_credito</th>\n",
              "      <th>proposito_emprestimo</th>\n",
              "      <th>valor_emprestimo</th>\n",
              "      <th>reserva_cc</th>\n",
              "      <th>tempo_emprego_atual</th>\n",
              "      <th>taxa_comp_salario</th>\n",
              "      <th>sexo_est_civil</th>\n",
              "      <th>...</th>\n",
              "      <th>anos_residencia_atual</th>\n",
              "      <th>propriedade</th>\n",
              "      <th>idade</th>\n",
              "      <th>outros_planos_financiamento</th>\n",
              "      <th>tipo_residencia</th>\n",
              "      <th>n_creditos_banco</th>\n",
              "      <th>status_emprego</th>\n",
              "      <th>n_dependentes</th>\n",
              "      <th>telefone</th>\n",
              "      <th>trabalhador_estrangeiro</th>\n",
              "    </tr>\n",
              "  </thead>\n",
              "  <tbody>\n",
              "    <tr>\n",
              "      <th>0</th>\n",
              "      <td>0</td>\n",
              "      <td>1</td>\n",
              "      <td>6</td>\n",
              "      <td>0</td>\n",
              "      <td>4</td>\n",
              "      <td>1169</td>\n",
              "      <td>0</td>\n",
              "      <td>4</td>\n",
              "      <td>4</td>\n",
              "      <td>3</td>\n",
              "      <td>...</td>\n",
              "      <td>4</td>\n",
              "      <td>2</td>\n",
              "      <td>67</td>\n",
              "      <td>0</td>\n",
              "      <td>2</td>\n",
              "      <td>2</td>\n",
              "      <td>2</td>\n",
              "      <td>1</td>\n",
              "      <td>1</td>\n",
              "      <td>1</td>\n",
              "    </tr>\n",
              "    <tr>\n",
              "      <th>1</th>\n",
              "      <td>1</td>\n",
              "      <td>2</td>\n",
              "      <td>48</td>\n",
              "      <td>2</td>\n",
              "      <td>4</td>\n",
              "      <td>5951</td>\n",
              "      <td>1</td>\n",
              "      <td>2</td>\n",
              "      <td>2</td>\n",
              "      <td>0</td>\n",
              "      <td>...</td>\n",
              "      <td>2</td>\n",
              "      <td>2</td>\n",
              "      <td>22</td>\n",
              "      <td>0</td>\n",
              "      <td>2</td>\n",
              "      <td>1</td>\n",
              "      <td>2</td>\n",
              "      <td>1</td>\n",
              "      <td>0</td>\n",
              "      <td>1</td>\n",
              "    </tr>\n",
              "    <tr>\n",
              "      <th>2</th>\n",
              "      <td>0</td>\n",
              "      <td>0</td>\n",
              "      <td>12</td>\n",
              "      <td>0</td>\n",
              "      <td>0</td>\n",
              "      <td>2096</td>\n",
              "      <td>1</td>\n",
              "      <td>3</td>\n",
              "      <td>2</td>\n",
              "      <td>3</td>\n",
              "      <td>...</td>\n",
              "      <td>3</td>\n",
              "      <td>2</td>\n",
              "      <td>49</td>\n",
              "      <td>0</td>\n",
              "      <td>2</td>\n",
              "      <td>1</td>\n",
              "      <td>1</td>\n",
              "      <td>2</td>\n",
              "      <td>0</td>\n",
              "      <td>1</td>\n",
              "    </tr>\n",
              "    <tr>\n",
              "      <th>3</th>\n",
              "      <td>0</td>\n",
              "      <td>1</td>\n",
              "      <td>42</td>\n",
              "      <td>2</td>\n",
              "      <td>7</td>\n",
              "      <td>7882</td>\n",
              "      <td>1</td>\n",
              "      <td>3</td>\n",
              "      <td>2</td>\n",
              "      <td>3</td>\n",
              "      <td>...</td>\n",
              "      <td>4</td>\n",
              "      <td>0</td>\n",
              "      <td>45</td>\n",
              "      <td>0</td>\n",
              "      <td>0</td>\n",
              "      <td>1</td>\n",
              "      <td>2</td>\n",
              "      <td>2</td>\n",
              "      <td>0</td>\n",
              "      <td>1</td>\n",
              "    </tr>\n",
              "    <tr>\n",
              "      <th>4</th>\n",
              "      <td>1</td>\n",
              "      <td>1</td>\n",
              "      <td>24</td>\n",
              "      <td>1</td>\n",
              "      <td>2</td>\n",
              "      <td>4870</td>\n",
              "      <td>1</td>\n",
              "      <td>2</td>\n",
              "      <td>3</td>\n",
              "      <td>3</td>\n",
              "      <td>...</td>\n",
              "      <td>4</td>\n",
              "      <td>3</td>\n",
              "      <td>53</td>\n",
              "      <td>0</td>\n",
              "      <td>0</td>\n",
              "      <td>2</td>\n",
              "      <td>2</td>\n",
              "      <td>2</td>\n",
              "      <td>0</td>\n",
              "      <td>1</td>\n",
              "    </tr>\n",
              "    <tr>\n",
              "      <th>...</th>\n",
              "      <td>...</td>\n",
              "      <td>...</td>\n",
              "      <td>...</td>\n",
              "      <td>...</td>\n",
              "      <td>...</td>\n",
              "      <td>...</td>\n",
              "      <td>...</td>\n",
              "      <td>...</td>\n",
              "      <td>...</td>\n",
              "      <td>...</td>\n",
              "      <td>...</td>\n",
              "      <td>...</td>\n",
              "      <td>...</td>\n",
              "      <td>...</td>\n",
              "      <td>...</td>\n",
              "      <td>...</td>\n",
              "      <td>...</td>\n",
              "      <td>...</td>\n",
              "      <td>...</td>\n",
              "      <td>...</td>\n",
              "      <td>...</td>\n",
              "    </tr>\n",
              "    <tr>\n",
              "      <th>995</th>\n",
              "      <td>0</td>\n",
              "      <td>0</td>\n",
              "      <td>12</td>\n",
              "      <td>2</td>\n",
              "      <td>7</td>\n",
              "      <td>1736</td>\n",
              "      <td>1</td>\n",
              "      <td>3</td>\n",
              "      <td>3</td>\n",
              "      <td>0</td>\n",
              "      <td>...</td>\n",
              "      <td>4</td>\n",
              "      <td>2</td>\n",
              "      <td>31</td>\n",
              "      <td>0</td>\n",
              "      <td>2</td>\n",
              "      <td>1</td>\n",
              "      <td>1</td>\n",
              "      <td>1</td>\n",
              "      <td>0</td>\n",
              "      <td>1</td>\n",
              "    </tr>\n",
              "    <tr>\n",
              "      <th>996</th>\n",
              "      <td>0</td>\n",
              "      <td>1</td>\n",
              "      <td>30</td>\n",
              "      <td>2</td>\n",
              "      <td>3</td>\n",
              "      <td>3857</td>\n",
              "      <td>1</td>\n",
              "      <td>2</td>\n",
              "      <td>4</td>\n",
              "      <td>1</td>\n",
              "      <td>...</td>\n",
              "      <td>4</td>\n",
              "      <td>0</td>\n",
              "      <td>40</td>\n",
              "      <td>0</td>\n",
              "      <td>2</td>\n",
              "      <td>1</td>\n",
              "      <td>3</td>\n",
              "      <td>1</td>\n",
              "      <td>1</td>\n",
              "      <td>1</td>\n",
              "    </tr>\n",
              "    <tr>\n",
              "      <th>997</th>\n",
              "      <td>0</td>\n",
              "      <td>0</td>\n",
              "      <td>12</td>\n",
              "      <td>2</td>\n",
              "      <td>4</td>\n",
              "      <td>804</td>\n",
              "      <td>1</td>\n",
              "      <td>4</td>\n",
              "      <td>4</td>\n",
              "      <td>3</td>\n",
              "      <td>...</td>\n",
              "      <td>4</td>\n",
              "      <td>1</td>\n",
              "      <td>38</td>\n",
              "      <td>0</td>\n",
              "      <td>2</td>\n",
              "      <td>1</td>\n",
              "      <td>2</td>\n",
              "      <td>1</td>\n",
              "      <td>0</td>\n",
              "      <td>1</td>\n",
              "    </tr>\n",
              "    <tr>\n",
              "      <th>998</th>\n",
              "      <td>1</td>\n",
              "      <td>1</td>\n",
              "      <td>45</td>\n",
              "      <td>2</td>\n",
              "      <td>4</td>\n",
              "      <td>1845</td>\n",
              "      <td>1</td>\n",
              "      <td>2</td>\n",
              "      <td>4</td>\n",
              "      <td>3</td>\n",
              "      <td>...</td>\n",
              "      <td>4</td>\n",
              "      <td>3</td>\n",
              "      <td>23</td>\n",
              "      <td>0</td>\n",
              "      <td>0</td>\n",
              "      <td>1</td>\n",
              "      <td>2</td>\n",
              "      <td>1</td>\n",
              "      <td>1</td>\n",
              "      <td>1</td>\n",
              "    </tr>\n",
              "    <tr>\n",
              "      <th>999</th>\n",
              "      <td>0</td>\n",
              "      <td>2</td>\n",
              "      <td>45</td>\n",
              "      <td>0</td>\n",
              "      <td>3</td>\n",
              "      <td>4576</td>\n",
              "      <td>2</td>\n",
              "      <td>0</td>\n",
              "      <td>3</td>\n",
              "      <td>3</td>\n",
              "      <td>...</td>\n",
              "      <td>4</td>\n",
              "      <td>1</td>\n",
              "      <td>27</td>\n",
              "      <td>0</td>\n",
              "      <td>2</td>\n",
              "      <td>1</td>\n",
              "      <td>2</td>\n",
              "      <td>1</td>\n",
              "      <td>0</td>\n",
              "      <td>1</td>\n",
              "    </tr>\n",
              "  </tbody>\n",
              "</table>\n",
              "<p>1000 rows × 21 columns</p>\n",
              "</div>\n",
              "      <button class=\"colab-df-convert\" onclick=\"convertToInteractive('df-11ae5c45-0149-49c5-b976-b8fab97942d3')\"\n",
              "              title=\"Convert this dataframe to an interactive table.\"\n",
              "              style=\"display:none;\">\n",
              "        \n",
              "  <svg xmlns=\"http://www.w3.org/2000/svg\" height=\"24px\"viewBox=\"0 0 24 24\"\n",
              "       width=\"24px\">\n",
              "    <path d=\"M0 0h24v24H0V0z\" fill=\"none\"/>\n",
              "    <path d=\"M18.56 5.44l.94 2.06.94-2.06 2.06-.94-2.06-.94-.94-2.06-.94 2.06-2.06.94zm-11 1L8.5 8.5l.94-2.06 2.06-.94-2.06-.94L8.5 2.5l-.94 2.06-2.06.94zm10 10l.94 2.06.94-2.06 2.06-.94-2.06-.94-.94-2.06-.94 2.06-2.06.94z\"/><path d=\"M17.41 7.96l-1.37-1.37c-.4-.4-.92-.59-1.43-.59-.52 0-1.04.2-1.43.59L10.3 9.45l-7.72 7.72c-.78.78-.78 2.05 0 2.83L4 21.41c.39.39.9.59 1.41.59.51 0 1.02-.2 1.41-.59l7.78-7.78 2.81-2.81c.8-.78.8-2.07 0-2.86zM5.41 20L4 18.59l7.72-7.72 1.47 1.35L5.41 20z\"/>\n",
              "  </svg>\n",
              "      </button>\n",
              "      \n",
              "  <style>\n",
              "    .colab-df-container {\n",
              "      display:flex;\n",
              "      flex-wrap:wrap;\n",
              "      gap: 12px;\n",
              "    }\n",
              "\n",
              "    .colab-df-convert {\n",
              "      background-color: #E8F0FE;\n",
              "      border: none;\n",
              "      border-radius: 50%;\n",
              "      cursor: pointer;\n",
              "      display: none;\n",
              "      fill: #1967D2;\n",
              "      height: 32px;\n",
              "      padding: 0 0 0 0;\n",
              "      width: 32px;\n",
              "    }\n",
              "\n",
              "    .colab-df-convert:hover {\n",
              "      background-color: #E2EBFA;\n",
              "      box-shadow: 0px 1px 2px rgba(60, 64, 67, 0.3), 0px 1px 3px 1px rgba(60, 64, 67, 0.15);\n",
              "      fill: #174EA6;\n",
              "    }\n",
              "\n",
              "    [theme=dark] .colab-df-convert {\n",
              "      background-color: #3B4455;\n",
              "      fill: #D2E3FC;\n",
              "    }\n",
              "\n",
              "    [theme=dark] .colab-df-convert:hover {\n",
              "      background-color: #434B5C;\n",
              "      box-shadow: 0px 1px 3px 1px rgba(0, 0, 0, 0.15);\n",
              "      filter: drop-shadow(0px 1px 2px rgba(0, 0, 0, 0.3));\n",
              "      fill: #FFFFFF;\n",
              "    }\n",
              "  </style>\n",
              "\n",
              "      <script>\n",
              "        const buttonEl =\n",
              "          document.querySelector('#df-11ae5c45-0149-49c5-b976-b8fab97942d3 button.colab-df-convert');\n",
              "        buttonEl.style.display =\n",
              "          google.colab.kernel.accessAllowed ? 'block' : 'none';\n",
              "\n",
              "        async function convertToInteractive(key) {\n",
              "          const element = document.querySelector('#df-11ae5c45-0149-49c5-b976-b8fab97942d3');\n",
              "          const dataTable =\n",
              "            await google.colab.kernel.invokeFunction('convertToInteractive',\n",
              "                                                     [key], {});\n",
              "          if (!dataTable) return;\n",
              "\n",
              "          const docLinkHtml = 'Like what you see? Visit the ' +\n",
              "            '<a target=\"_blank\" href=https://colab.research.google.com/notebooks/data_table.ipynb>data table notebook</a>'\n",
              "            + ' to learn more about interactive tables.';\n",
              "          element.innerHTML = '';\n",
              "          dataTable['output_type'] = 'display_data';\n",
              "          await google.colab.output.renderOutput(dataTable, element);\n",
              "          const docLink = document.createElement('div');\n",
              "          docLink.innerHTML = docLinkHtml;\n",
              "          element.appendChild(docLink);\n",
              "        }\n",
              "      </script>\n",
              "    </div>\n",
              "  </div>\n",
              "  "
            ]
          },
          "metadata": {},
          "execution_count": 355
        }
      ]
    },
    {
      "cell_type": "markdown",
      "source": [
        "Finally, let's fit our Logistic Regression model:"
      ],
      "metadata": {
        "id": "buOhX094-pxx"
      }
    },
    {
      "cell_type": "code",
      "source": [
        "from sklearn.linear_model import LogisticRegression\n",
        "\n",
        "model_LogReg = LogisticRegression(max_iter = 1000)\n",
        "model_LogReg.fit( X_train, y_train )"
      ],
      "metadata": {
        "colab": {
          "base_uri": "https://localhost:8080/"
        },
        "id": "ToI773Mt9w4z",
        "outputId": "66bd1851-0d23-4e66-93b0-190fb4c73628"
      },
      "execution_count": 356,
      "outputs": [
        {
          "output_type": "execute_result",
          "data": {
            "text/plain": [
              "LogisticRegression(max_iter=1000)"
            ]
          },
          "metadata": {},
          "execution_count": 356
        }
      ]
    },
    {
      "cell_type": "markdown",
      "source": [
        "Nice! We have built our first model. Let's get the mean accuracy of our model for our training and test sets:"
      ],
      "metadata": {
        "id": "Gqrso-vBGOta"
      }
    },
    {
      "cell_type": "code",
      "source": [
        "model_LogReg.score(X_train, y_train)"
      ],
      "metadata": {
        "colab": {
          "base_uri": "https://localhost:8080/"
        },
        "id": "qeADM2LlEIn9",
        "outputId": "1ac980ec-b792-47a2-a5e4-ea85058b4658"
      },
      "execution_count": 357,
      "outputs": [
        {
          "output_type": "execute_result",
          "data": {
            "text/plain": [
              "0.7242857142857143"
            ]
          },
          "metadata": {},
          "execution_count": 357
        }
      ]
    },
    {
      "cell_type": "code",
      "source": [
        "model_LogReg.score(X_test, y_test)"
      ],
      "metadata": {
        "colab": {
          "base_uri": "https://localhost:8080/"
        },
        "id": "qeM_nFhBGW0e",
        "outputId": "b91de919-89ae-4e9a-b50b-95014a8104a9"
      },
      "execution_count": 358,
      "outputs": [
        {
          "output_type": "execute_result",
          "data": {
            "text/plain": [
              "0.7233333333333334"
            ]
          },
          "metadata": {},
          "execution_count": 358
        }
      ]
    },
    {
      "cell_type": "markdown",
      "source": [
        "Our accuracy is $\\approx$ 0.72. Note that the accuracy is very similar in both models, which leads us to think that our model is not overfitted to the training data. Note that the accuracy score can also be evaluated using the metrics package from sklearn:"
      ],
      "metadata": {
        "id": "gji2xwufGaRU"
      }
    },
    {
      "cell_type": "code",
      "source": [
        "from sklearn.metrics import accuracy_score\n",
        "\n",
        "accuracy_score(y_test, model_LogReg.predict(X_test))"
      ],
      "metadata": {
        "colab": {
          "base_uri": "https://localhost:8080/"
        },
        "id": "FJMtBAPGINb8",
        "outputId": "e4898010-ff65-4ba4-a467-7369e589c2fc"
      },
      "execution_count": 359,
      "outputs": [
        {
          "output_type": "execute_result",
          "data": {
            "text/plain": [
              "0.7233333333333334"
            ]
          },
          "metadata": {},
          "execution_count": 359
        }
      ]
    },
    {
      "cell_type": "markdown",
      "source": [
        "## Evaluating important metrics\n",
        "\n",
        "The accuracy means that our model was able to hit 73% of our data. However, how much of this was from the defaulted customers? We can understand more on this using other metrics, such as the precision, recall, true positive rate, false positive rate, and others.\n",
        "\n",
        "These metrics are derived from the confusion matrix. Thus, let's plot the confusion matrix:"
      ],
      "metadata": {
        "id": "7kjmpPNVHCQH"
      }
    },
    {
      "cell_type": "code",
      "source": [
        "import matplotlib.pyplot as plt\n",
        "from sklearn.metrics import plot_confusion_matrix"
      ],
      "metadata": {
        "id": "QOMlK7Y4GZkY"
      },
      "execution_count": 360,
      "outputs": []
    },
    {
      "cell_type": "code",
      "source": [
        "cm = plot_confusion_matrix(model_LogReg, X_test, y_test, cmap = 'Blues', values_format = '.3g')\n",
        "cm"
      ],
      "metadata": {
        "colab": {
          "base_uri": "https://localhost:8080/",
          "height": 354
        },
        "id": "XbIacaCcJAGu",
        "outputId": "fce2e9ce-e39e-4c8a-cfa9-1873b4a805c1"
      },
      "execution_count": 361,
      "outputs": [
        {
          "output_type": "stream",
          "name": "stderr",
          "text": [
            "/usr/local/lib/python3.7/dist-packages/sklearn/utils/deprecation.py:87: FutureWarning: Function plot_confusion_matrix is deprecated; Function `plot_confusion_matrix` is deprecated in 1.0 and will be removed in 1.2. Use one of the class methods: ConfusionMatrixDisplay.from_predictions or ConfusionMatrixDisplay.from_estimator.\n",
            "  warnings.warn(msg, category=FutureWarning)\n"
          ]
        },
        {
          "output_type": "execute_result",
          "data": {
            "text/plain": [
              "<sklearn.metrics._plot.confusion_matrix.ConfusionMatrixDisplay at 0x7f6998ddf590>"
            ]
          },
          "metadata": {},
          "execution_count": 361
        },
        {
          "output_type": "display_data",
          "data": {
            "text/plain": [
              "<Figure size 432x288 with 2 Axes>"
            ],
            "image/png": "[encoded data removed]"
          },
          "metadata": {
            "needs_background": "light"
          }
        }
      ]
    },
    {
      "cell_type": "markdown",
      "source": [
        "Nice! So:\n",
        "\n",
        "*   We got 192 true negatives\n",
        "*   We got 28 true positives\n",
        "*   We got 58 false negatives\n",
        "*   We got 22 false positives\n",
        "\n"
      ],
      "metadata": {
        "id": "zrEEdm8GJSVy"
      }
    },
    {
      "cell_type": "markdown",
      "source": [
        "Note that our model is actually very bad at predicting defaulted customers. Most likely, its accuracy was only \"kind of\" high because most of our dataset is made of non-defaulted customers (non-balanced).\n",
        "\n",
        "From the confusion matrix, we can also evaluate other metrics. For that end, we can use the classification report:"
      ],
      "metadata": {
        "id": "gqFm8SyzJiRm"
      }
    },
    {
      "cell_type": "code",
      "source": [
        "from sklearn.metrics import classification_report\n",
        "\n",
        "print(classification_report(y_test, model_LogReg.predict(X_test)))"
      ],
      "metadata": {
        "colab": {
          "base_uri": "https://localhost:8080/"
        },
        "id": "Ko2UIdwmJKnJ",
        "outputId": "b6d201c4-9423-48fc-f169-ed4fbd85434f"
      },
      "execution_count": 362,
      "outputs": [
        {
          "output_type": "stream",
          "name": "stdout",
          "text": [
            "              precision    recall  f1-score   support\n",
            "\n",
            "           0       0.76      0.90      0.82       214\n",
            "           1       0.53      0.28      0.37        86\n",
            "\n",
            "    accuracy                           0.72       300\n",
            "   macro avg       0.65      0.59      0.59       300\n",
            "weighted avg       0.69      0.72      0.69       300\n",
            "\n"
          ]
        }
      ]
    },
    {
      "cell_type": "markdown",
      "source": [
        "Nice! We can understand these metrics as:\n",
        "\n",
        "\n",
        "\n",
        "* Precision: Precision evaluates the proportion of TP in  relation to the positive predictions from the model. If we have low precision, it means that there are a lot of non-frauds that our model is identifying as frauds.\n",
        "\n",
        "\\begin{equation}\n",
        "\\dfrac{TP}{TP + FP}\n",
        "\\end{equation}\n",
        "\n",
        "* Recall: Recall evaluates the proportion of TP and the number of positives from the test set. If we have a lower recall, it means that we are letting many frauds pass.\n",
        "\n",
        "\\begin{equation}\n",
        "\\dfrac{TP}{TP + FN}\n",
        "\\end{equation}\n",
        "\n",
        "* F1-score: Tries to balance precision and recall. It goes from 0 to 1, and the closest it is to 1, the better.\n",
        "\n",
        "\\begin{equation}\n",
        "2 \\, \\dfrac{P \\, R}{P + R}\n",
        "\\end{equation}\n",
        "\n",
        "* Support: Number of cases in each category."
      ],
      "metadata": {
        "id": "rcmxnpaGOHkO"
      }
    },
    {
      "cell_type": "markdown",
      "source": [
        "So, note that, considering our category 1 (customers who defaulted), our logistic regression model actually got a recall of 33%, which means that it only found 33% of the people who defaulted. Also, from the predicted defaults, only 56% were correct!"
      ],
      "metadata": {
        "id": "TzPXyyZpO9oU"
      }
    },
    {
      "cell_type": "markdown",
      "source": [
        "To evaluate our model, we can also plot the ROC curve and evaluate the AUC:"
      ],
      "metadata": {
        "id": "9TAOcnc6RXtJ"
      }
    },
    {
      "cell_type": "code",
      "source": [
        "from sklearn.metrics import roc_curve, roc_auc_score\n",
        "\n",
        "prob_pred = model_LogReg.predict_proba(X_test)[:, 1]\n",
        "\n",
        "fpr, tpr, threshold = roc_curve(y_test, prob_pred)\n",
        "print('Roc_AUC: ', round(roc_auc_score(y_test, prob_pred), 3))\n",
        "\n",
        "plt.subplots(1, figsize = (8, 6))\n",
        "plt.title('ROC Curve')\n",
        "\n",
        "plt.plot(fpr, tpr)\n",
        "plt.xlabel('False Positive Rate (Specificity)')\n",
        "plt.ylabel('True Positive Rate (Sensibility)')\n",
        "\n",
        "plt.plot([0, 1], ls = '--', c = 'r')\n",
        "plt.plot([0, 0], [1, 0], ls = '--', c = 'green')\n",
        "plt.plot([1, 1], ls = '--', c = 'green')"
      ],
      "metadata": {
        "colab": {
          "base_uri": "https://localhost:8080/",
          "height": 440
        },
        "id": "sJbmOGWtOCLa",
        "outputId": "731db3b4-1db4-4127-c5b1-a1c821d0e0cf"
      },
      "execution_count": 363,
      "outputs": [
        {
          "output_type": "stream",
          "name": "stdout",
          "text": [
            "Roc_AUC:  0.744\n"
          ]
        },
        {
          "output_type": "execute_result",
          "data": {
            "text/plain": [
              "[<matplotlib.lines.Line2D at 0x7f699791fa50>]"
            ]
          },
          "metadata": {},
          "execution_count": 363
        },
        {
          "output_type": "display_data",
          "data": {
            "text/plain": [
              "<Figure size 576x432 with 1 Axes>"
            ],
            "image/png": "[encoded data removed]"
          },
          "metadata": {
            "needs_background": "light"
          }
        }
      ]
    },
    {
      "cell_type": "markdown",
      "source": [
        "From the ROC curve, we see that our model is very close to the red dashed line, which is related to a dummy random model. Also, our Area Under Curve (AUC) is close to 0.50, related to the dummy random model. To understand the AUC, we can consider that:\n",
        "\n",
        "*   AUC $< 0.70$: Poor discrimination of our dataset\n",
        "*   $0.70 <$ AUC $< 0.80$: Acceptable discrimination of our dataset\n",
        "*   $0.80 <$ AUC $< 0.90$: Excellent discrimination of our dataset\n",
        "*   $0.90 <$ AUC: Perfect discrimination of our dataset\n",
        "\n"
      ],
      "metadata": {
        "id": "U8L4Xja4S8OV"
      }
    },
    {
      "cell_type": "markdown",
      "source": [
        "# Data visualization\n",
        "\n",
        "We created our first model. However, we noticed that our first model is actually very poor in predicting defaults. We are now going to try to improve upon this initial model. First, let's try to perform some feature engineering. Thus, let's understand more about our dataset.\n",
        "\n",
        "To get some descriptive statistics in our dataset, we can use:"
      ],
      "metadata": {
        "id": "0qSPCzXwUkgn"
      }
    },
    {
      "cell_type": "code",
      "source": [
        "vars = ['sexo_est_civil', 'idade', 'prazo_emprestimo_meses', 'valor_emprestimo', 'default']\n",
        "\n",
        "df[vars].describe( )"
      ],
      "metadata": {
        "colab": {
          "base_uri": "https://localhost:8080/",
          "height": 300
        },
        "id": "7wTD23d6Ro8s",
        "outputId": "6d588f5b-dd94-4625-9661-6fc9de07a429"
      },
      "execution_count": 364,
      "outputs": [
        {
          "output_type": "execute_result",
          "data": {
            "text/plain": [
              "       sexo_est_civil        idade  prazo_emprestimo_meses  valor_emprestimo  \\\n",
              "count     1000.000000  1000.000000             1000.000000       1000.000000   \n",
              "mean         1.878000    35.546000               20.903000       3271.258000   \n",
              "std          1.350904    11.375469               12.058814       2822.736876   \n",
              "min          0.000000    19.000000                4.000000        250.000000   \n",
              "25%          0.000000    27.000000               12.000000       1365.500000   \n",
              "50%          3.000000    33.000000               18.000000       2319.500000   \n",
              "75%          3.000000    42.000000               24.000000       3972.250000   \n",
              "max          3.000000    75.000000               72.000000      18424.000000   \n",
              "\n",
              "           default  \n",
              "count  1000.000000  \n",
              "mean      0.300000  \n",
              "std       0.458487  \n",
              "min       0.000000  \n",
              "25%       0.000000  \n",
              "50%       0.000000  \n",
              "75%       1.000000  \n",
              "max       1.000000  "
            ],
            "text/html": [
              "\n",
              "  <div id=\"df-3b13771a-4c18-4f3a-814a-4b63b9b34142\">\n",
              "    <div class=\"colab-df-container\">\n",
              "      <div>\n",
              "<style scoped>\n",
              "    .dataframe tbody tr th:only-of-type {\n",
              "        vertical-align: middle;\n",
              "    }\n",
              "\n",
              "    .dataframe tbody tr th {\n",
              "        vertical-align: top;\n",
              "    }\n",
              "\n",
              "    .dataframe thead th {\n",
              "        text-align: right;\n",
              "    }\n",
              "</style>\n",
              "<table border=\"1\" class=\"dataframe\">\n",
              "  <thead>\n",
              "    <tr style=\"text-align: right;\">\n",
              "      <th></th>\n",
              "      <th>sexo_est_civil</th>\n",
              "      <th>idade</th>\n",
              "      <th>prazo_emprestimo_meses</th>\n",
              "      <th>valor_emprestimo</th>\n",
              "      <th>default</th>\n",
              "    </tr>\n",
              "  </thead>\n",
              "  <tbody>\n",
              "    <tr>\n",
              "      <th>count</th>\n",
              "      <td>1000.000000</td>\n",
              "      <td>1000.000000</td>\n",
              "      <td>1000.000000</td>\n",
              "      <td>1000.000000</td>\n",
              "      <td>1000.000000</td>\n",
              "    </tr>\n",
              "    <tr>\n",
              "      <th>mean</th>\n",
              "      <td>1.878000</td>\n",
              "      <td>35.546000</td>\n",
              "      <td>20.903000</td>\n",
              "      <td>3271.258000</td>\n",
              "      <td>0.300000</td>\n",
              "    </tr>\n",
              "    <tr>\n",
              "      <th>std</th>\n",
              "      <td>1.350904</td>\n",
              "      <td>11.375469</td>\n",
              "      <td>12.058814</td>\n",
              "      <td>2822.736876</td>\n",
              "      <td>0.458487</td>\n",
              "    </tr>\n",
              "    <tr>\n",
              "      <th>min</th>\n",
              "      <td>0.000000</td>\n",
              "      <td>19.000000</td>\n",
              "      <td>4.000000</td>\n",
              "      <td>250.000000</td>\n",
              "      <td>0.000000</td>\n",
              "    </tr>\n",
              "    <tr>\n",
              "      <th>25%</th>\n",
              "      <td>0.000000</td>\n",
              "      <td>27.000000</td>\n",
              "      <td>12.000000</td>\n",
              "      <td>1365.500000</td>\n",
              "      <td>0.000000</td>\n",
              "    </tr>\n",
              "    <tr>\n",
              "      <th>50%</th>\n",
              "      <td>3.000000</td>\n",
              "      <td>33.000000</td>\n",
              "      <td>18.000000</td>\n",
              "      <td>2319.500000</td>\n",
              "      <td>0.000000</td>\n",
              "    </tr>\n",
              "    <tr>\n",
              "      <th>75%</th>\n",
              "      <td>3.000000</td>\n",
              "      <td>42.000000</td>\n",
              "      <td>24.000000</td>\n",
              "      <td>3972.250000</td>\n",
              "      <td>1.000000</td>\n",
              "    </tr>\n",
              "    <tr>\n",
              "      <th>max</th>\n",
              "      <td>3.000000</td>\n",
              "      <td>75.000000</td>\n",
              "      <td>72.000000</td>\n",
              "      <td>18424.000000</td>\n",
              "      <td>1.000000</td>\n",
              "    </tr>\n",
              "  </tbody>\n",
              "</table>\n",
              "</div>\n",
              "      <button class=\"colab-df-convert\" onclick=\"convertToInteractive('df-3b13771a-4c18-4f3a-814a-4b63b9b34142')\"\n",
              "              title=\"Convert this dataframe to an interactive table.\"\n",
              "              style=\"display:none;\">\n",
              "        \n",
              "  <svg xmlns=\"http://www.w3.org/2000/svg\" height=\"24px\"viewBox=\"0 0 24 24\"\n",
              "       width=\"24px\">\n",
              "    <path d=\"M0 0h24v24H0V0z\" fill=\"none\"/>\n",
              "    <path d=\"M18.56 5.44l.94 2.06.94-2.06 2.06-.94-2.06-.94-.94-2.06-.94 2.06-2.06.94zm-11 1L8.5 8.5l.94-2.06 2.06-.94-2.06-.94L8.5 2.5l-.94 2.06-2.06.94zm10 10l.94 2.06.94-2.06 2.06-.94-2.06-.94-.94-2.06-.94 2.06-2.06.94z\"/><path d=\"M17.41 7.96l-1.37-1.37c-.4-.4-.92-.59-1.43-.59-.52 0-1.04.2-1.43.59L10.3 9.45l-7.72 7.72c-.78.78-.78 2.05 0 2.83L4 21.41c.39.39.9.59 1.41.59.51 0 1.02-.2 1.41-.59l7.78-7.78 2.81-2.81c.8-.78.8-2.07 0-2.86zM5.41 20L4 18.59l7.72-7.72 1.47 1.35L5.41 20z\"/>\n",
              "  </svg>\n",
              "      </button>\n",
              "      \n",
              "  <style>\n",
              "    .colab-df-container {\n",
              "      display:flex;\n",
              "      flex-wrap:wrap;\n",
              "      gap: 12px;\n",
              "    }\n",
              "\n",
              "    .colab-df-convert {\n",
              "      background-color: #E8F0FE;\n",
              "      border: none;\n",
              "      border-radius: 50%;\n",
              "      cursor: pointer;\n",
              "      display: none;\n",
              "      fill: #1967D2;\n",
              "      height: 32px;\n",
              "      padding: 0 0 0 0;\n",
              "      width: 32px;\n",
              "    }\n",
              "\n",
              "    .colab-df-convert:hover {\n",
              "      background-color: #E2EBFA;\n",
              "      box-shadow: 0px 1px 2px rgba(60, 64, 67, 0.3), 0px 1px 3px 1px rgba(60, 64, 67, 0.15);\n",
              "      fill: #174EA6;\n",
              "    }\n",
              "\n",
              "    [theme=dark] .colab-df-convert {\n",
              "      background-color: #3B4455;\n",
              "      fill: #D2E3FC;\n",
              "    }\n",
              "\n",
              "    [theme=dark] .colab-df-convert:hover {\n",
              "      background-color: #434B5C;\n",
              "      box-shadow: 0px 1px 3px 1px rgba(0, 0, 0, 0.15);\n",
              "      filter: drop-shadow(0px 1px 2px rgba(0, 0, 0, 0.3));\n",
              "      fill: #FFFFFF;\n",
              "    }\n",
              "  </style>\n",
              "\n",
              "      <script>\n",
              "        const buttonEl =\n",
              "          document.querySelector('#df-3b13771a-4c18-4f3a-814a-4b63b9b34142 button.colab-df-convert');\n",
              "        buttonEl.style.display =\n",
              "          google.colab.kernel.accessAllowed ? 'block' : 'none';\n",
              "\n",
              "        async function convertToInteractive(key) {\n",
              "          const element = document.querySelector('#df-3b13771a-4c18-4f3a-814a-4b63b9b34142');\n",
              "          const dataTable =\n",
              "            await google.colab.kernel.invokeFunction('convertToInteractive',\n",
              "                                                     [key], {});\n",
              "          if (!dataTable) return;\n",
              "\n",
              "          const docLinkHtml = 'Like what you see? Visit the ' +\n",
              "            '<a target=\"_blank\" href=https://colab.research.google.com/notebooks/data_table.ipynb>data table notebook</a>'\n",
              "            + ' to learn more about interactive tables.';\n",
              "          element.innerHTML = '';\n",
              "          dataTable['output_type'] = 'display_data';\n",
              "          await google.colab.output.renderOutput(dataTable, element);\n",
              "          const docLink = document.createElement('div');\n",
              "          docLink.innerHTML = docLinkHtml;\n",
              "          element.appendChild(docLink);\n",
              "        }\n",
              "      </script>\n",
              "    </div>\n",
              "  </div>\n",
              "  "
            ]
          },
          "metadata": {},
          "execution_count": 364
        }
      ]
    },
    {
      "cell_type": "markdown",
      "source": [
        "So, on average, customers from our dataset have 35.5 years. The youngest person who asked for credit was 19 years old, and the oldest person was 75 years old. On average, the takers ask for 20.9 months of loan, where the maximum is 72 months. The average value is 3271.26.\n",
        "\n",
        "However, note that it is hard to understand 'sexo_est_civil' and 'default' because these are categorical variables. To understand these variables, we can do other stuff. For instance, let's count the values for 'sexo_est_civil':"
      ],
      "metadata": {
        "id": "gRhOdY0sWx6O"
      }
    },
    {
      "cell_type": "code",
      "source": [
        "df['sexo_est_civil'].value_counts( )"
      ],
      "metadata": {
        "colab": {
          "base_uri": "https://localhost:8080/"
        },
        "id": "Ejf0AckSXSCp",
        "outputId": "e268a01c-8047-4740-9cdd-66fcb2f7503a"
      },
      "execution_count": 365,
      "outputs": [
        {
          "output_type": "execute_result",
          "data": {
            "text/plain": [
              "3    548\n",
              "0    310\n",
              "2     92\n",
              "1     50\n",
              "Name: sexo_est_civil, dtype: int64"
            ]
          },
          "metadata": {},
          "execution_count": 365
        }
      ]
    },
    {
      "cell_type": "markdown",
      "source": [
        "where each categoric have the following meaning:"
      ],
      "metadata": {
        "id": "IbHFnCvcYNZA"
      }
    },
    {
      "cell_type": "code",
      "source": [
        "dict_map['sexo_est_civil']"
      ],
      "metadata": {
        "colab": {
          "base_uri": "https://localhost:8080/"
        },
        "id": "F5J-AQLkYFJw",
        "outputId": "d32d3550-c9a9-41a9-ffa2-ab5778acee29"
      },
      "execution_count": 366,
      "outputs": [
        {
          "output_type": "execute_result",
          "data": {
            "text/plain": [
              "{'female : divorced/separated/married': 0,\n",
              " 'male : divorced/separated': 1,\n",
              " 'male : married/widowed': 2,\n",
              " 'male : single': 3}"
            ]
          },
          "metadata": {},
          "execution_count": 366
        }
      ]
    },
    {
      "cell_type": "markdown",
      "source": [
        "Now, let's look at the number of defaults:"
      ],
      "metadata": {
        "id": "TCm_GgFEYXr1"
      }
    },
    {
      "cell_type": "code",
      "source": [
        "df['default'].value_counts( )"
      ],
      "metadata": {
        "colab": {
          "base_uri": "https://localhost:8080/"
        },
        "id": "RpAhsSqWYL53",
        "outputId": "259ef724-7338-4565-f2cd-d5593335e8d5"
      },
      "execution_count": 367,
      "outputs": [
        {
          "output_type": "execute_result",
          "data": {
            "text/plain": [
              "0    700\n",
              "1    300\n",
              "Name: default, dtype: int64"
            ]
          },
          "metadata": {},
          "execution_count": 367
        }
      ]
    },
    {
      "cell_type": "markdown",
      "source": [
        "So, we have 700 on 0, and 300 on 1. So, our dataset is not balanced!"
      ],
      "metadata": {
        "id": "r9Py9KS8YcQQ"
      }
    },
    {
      "cell_type": "markdown",
      "source": [
        "## Distribution of our data\n",
        "\n",
        "Let's start visualizing our data. First, let's build countplots for some of our features:"
      ],
      "metadata": {
        "id": "ikC74abUY06u"
      }
    },
    {
      "cell_type": "code",
      "source": [
        "import seaborn as sns\n",
        "\n",
        "counts = ['sexo_est_civil', 'prazo_emprestimo_meses', 'default']\n",
        "\n",
        "list_counts = list(enumerate(counts))\n",
        "\n",
        "plt.figure(figsize = (16, 12))\n",
        "\n",
        "for i in list_counts:\n",
        "  plt.subplot(3, 1, i[0] + 1)\n",
        "  sns.countplot(x = i[1], data = df)"
      ],
      "metadata": {
        "colab": {
          "base_uri": "https://localhost:8080/",
          "height": 714
        },
        "id": "XfbYqY92YblU",
        "outputId": "41ee4f4a-36c6-4e31-f00c-4397bbe66728"
      },
      "execution_count": 368,
      "outputs": [
        {
          "output_type": "display_data",
          "data": {
            "text/plain": [
              "<Figure size 1152x864 with 3 Axes>"
            ],
            "image/png": "[encoded data removed]"
          },
          "metadata": {
            "needs_background": "light"
          }
        }
      ]
    },
    {
      "cell_type": "markdown",
      "source": [
        "Nice! The countplot is more helpful to visualize categorical data, since numeric data may end up having too much categories. \n",
        "\n",
        "Let's now build boxplots for our dataset. First, let's draw a boxplot for the age, and let's separe in groups based on their 'sexo_est_civil':"
      ],
      "metadata": {
        "id": "bL8FbWS7af9v"
      }
    },
    {
      "cell_type": "code",
      "source": [
        "plt.figure(figsize = (12, 8))\n",
        "\n",
        "sns.boxplot(x = 'sexo_est_civil', y = 'idade', data = df)\n",
        "plt.title('Distribution of Age')"
      ],
      "metadata": {
        "colab": {
          "base_uri": "https://localhost:8080/",
          "height": 532
        },
        "id": "VasmYUxqZiLX",
        "outputId": "e7ee716e-fa22-4efc-e884-8cf3bf985cb6"
      },
      "execution_count": 369,
      "outputs": [
        {
          "output_type": "execute_result",
          "data": {
            "text/plain": [
              "Text(0.5, 1.0, 'Distribution of Age')"
            ]
          },
          "metadata": {},
          "execution_count": 369
        },
        {
          "output_type": "display_data",
          "data": {
            "text/plain": [
              "<Figure size 864x576 with 1 Axes>"
            ],
            "image/png": "[encoded data removed]"
          },
          "metadata": {
            "needs_background": "light"
          }
        }
      ]
    },
    {
      "cell_type": "markdown",
      "source": [
        "So, we see that, depending on 'sexo_est_civil', the distribution of the age differs!"
      ],
      "metadata": {
        "id": "Qj9Pq3wTbCRv"
      }
    },
    {
      "cell_type": "markdown",
      "source": [
        "Finally, let's understand how does the loan value differs when we increase the loan time:"
      ],
      "metadata": {
        "id": "-AP9grvbbkLx"
      }
    },
    {
      "cell_type": "code",
      "source": [
        "plt.figure(figsize = (20, 8))\n",
        "\n",
        "sns.barplot(x = 'prazo_emprestimo_meses', y = 'valor_emprestimo', data = df, ci = False)"
      ],
      "metadata": {
        "colab": {
          "base_uri": "https://localhost:8080/",
          "height": 516
        },
        "id": "uiB6fUeGa1m2",
        "outputId": "8bc21236-2e0c-41eb-96e2-75acc199cac5"
      },
      "execution_count": 370,
      "outputs": [
        {
          "output_type": "execute_result",
          "data": {
            "text/plain": [
              "<matplotlib.axes._subplots.AxesSubplot at 0x7f6997e639d0>"
            ]
          },
          "metadata": {},
          "execution_count": 370
        },
        {
          "output_type": "display_data",
          "data": {
            "text/plain": [
              "<Figure size 1440x576 with 1 Axes>"
            ],
            "image/png": "[encoded data removed]"
          },
          "metadata": {
            "needs_background": "light"
          }
        }
      ]
    },
    {
      "cell_type": "markdown",
      "source": [
        "Note that the value tends to increase (as expected)."
      ],
      "metadata": {
        "id": "Mi26PuRpbpMU"
      }
    },
    {
      "cell_type": "markdown",
      "source": [
        "## Important: Brazilian regulamentation\n",
        "\n",
        "According to the Brazilian Central Bank, there are some information that **can't be associated** with the credit scoring model. These are the sensitive information. These are mainly: \n",
        "\n",
        "*   Skin color and social origin.\n",
        "*   Health conditions.\n",
        "*   Genetic information.\n",
        "*   Sexual orientation.\n",
        "*   Political, religious, or philosophical convictions.\n",
        "\n",
        "Each company may have different credit policies. However, no company can consider these informations in their credit models. \n",
        "\n",
        "So, let's change our variable 'sexo_est_civil', and separate it in two other variables. Let's see how this variable was mapped:\n"
      ],
      "metadata": {
        "id": "QfMtthWacjkn"
      }
    },
    {
      "cell_type": "code",
      "source": [
        "dict_map['sexo_est_civil']"
      ],
      "metadata": {
        "colab": {
          "base_uri": "https://localhost:8080/"
        },
        "id": "cBOWOxVnbRlp",
        "outputId": "0bff2ec8-86c6-4adf-acc7-db9716a592c4"
      },
      "execution_count": 371,
      "outputs": [
        {
          "output_type": "execute_result",
          "data": {
            "text/plain": [
              "{'female : divorced/separated/married': 0,\n",
              " 'male : divorced/separated': 1,\n",
              " 'male : married/widowed': 2,\n",
              " 'male : single': 3}"
            ]
          },
          "metadata": {},
          "execution_count": 371
        }
      ]
    },
    {
      "cell_type": "markdown",
      "source": [
        "So, let's create a sex variable:\n",
        "\n",
        "*   0 : Woman\n",
        "*   1 : Man\n",
        "\n",
        "And a civil state:\n",
        "\n",
        "*   0 : Single\n",
        "*   1 : Other\n",
        "\n",
        "\n",
        "\n"
      ],
      "metadata": {
        "id": "x_4lWQVndidp"
      }
    },
    {
      "cell_type": "code",
      "source": [
        "df['sex']       = df['sexo_est_civil'].apply(lambda x : 0 if (x == 0) else 1)\n",
        "df['civ_state'] = df['sexo_est_civil'].apply(lambda x : 0 if (x == 3) else 1)\n",
        "df.drop('sexo_est_civil', axis = 1, inplace = True)"
      ],
      "metadata": {
        "id": "IPXFccRzdfXV"
      },
      "execution_count": 372,
      "outputs": []
    },
    {
      "cell_type": "markdown",
      "source": [
        "# Fitting other models\n",
        "\n",
        "Now, let's try to build other models and see which model better fits our data. First, let's remove some features from our dataset:"
      ],
      "metadata": {
        "id": "ZmcgAn6Ye53f"
      }
    },
    {
      "cell_type": "code",
      "source": [
        "dropped_cols = ['sex']\n",
        "\n",
        "df_att = df.drop(dropped_cols, axis = 1)"
      ],
      "metadata": {
        "id": "VBajYtvzeIar"
      },
      "execution_count": 373,
      "outputs": []
    },
    {
      "cell_type": "markdown",
      "source": [
        "Also, let's transform our numeric features into categorical features by considering different bins:"
      ],
      "metadata": {
        "id": "mGbtlriBix84"
      }
    },
    {
      "cell_type": "code",
      "source": [
        "import numpy as np\n",
        "\n",
        "age = [18, 30, 40, 50, 60, 70, 80]\n",
        "df_att['age_cat'] = pd.cut(x = df_att['idade'], bins = age, labels = [0, 1, 2, 3, 4, 5])\n",
        "\n",
        "loan_time = [1, 12, 24, 36, 48, 60, 72]\n",
        "df_att['loan_time_cat'] = pd.cut(x = df_att['prazo_emprestimo_meses'], bins = loan_time, labels = [0, 1, 2, 3, 4, 5])\n",
        "\n",
        "loan_value = np.linspace(0, 20000, 21)\n",
        "df_att['loan_value_cat'] = pd.cut(x = df_att['valor_emprestimo'], bins = loan_value, labels = list(range(20)))"
      ],
      "metadata": {
        "id": "-El7zlAdi8PH"
      },
      "execution_count": 374,
      "outputs": []
    },
    {
      "cell_type": "code",
      "source": [
        "dropped_cols = ['prazo_emprestimo_meses', 'valor_emprestimo', 'idade']\n",
        "\n",
        "df_att = df_att.drop(dropped_cols, axis = 1)"
      ],
      "metadata": {
        "id": "UZN_Tg8-kmvE"
      },
      "execution_count": 375,
      "outputs": []
    },
    {
      "cell_type": "markdown",
      "source": [
        "Ok! Let's separate our features, and create our train and test sets:"
      ],
      "metadata": {
        "id": "xdZltY2ugNYf"
      }
    },
    {
      "cell_type": "code",
      "source": [
        "y = df_att.default\n",
        "X = df_att.drop('default', axis = 1)\n",
        "\n",
        "X_train, X_test, y_train, y_test = train_test_split(X, y, test_size = 0.30, random_state = SEED)"
      ],
      "metadata": {
        "id": "HJGRUHYtfWYK"
      },
      "execution_count": 376,
      "outputs": []
    },
    {
      "cell_type": "markdown",
      "source": [
        "Now, let's create a user defined function to fit our models, draw the confusion matrix, and get some important metrics:"
      ],
      "metadata": {
        "id": "CWhHLVn-gR-o"
      }
    },
    {
      "cell_type": "code",
      "source": [
        "def eval_model(X_train, X_test, y_train, y_test, classifier):\n",
        "  model = classifier\n",
        "  model.fit(X_train, y_train)\n",
        "\n",
        "  y_pred = model.predict(X_test)\n",
        "\n",
        "  prob_pred = model.predict_proba(X_test)[:, 1]\n",
        "\n",
        "  print(100*'-')\n",
        "  print(model.__class__.__name__)\n",
        "  print(100*'-')\n",
        "\n",
        "  cm = plot_confusion_matrix(model, X_test, y_test, cmap = 'Blues', values_format = '.3g')\n",
        "  plt.show( );\n",
        "\n",
        "  print('\\nClassification Report:')\n",
        "  print(classification_report(y_test, y_pred))\n",
        "\n",
        "  fpr, tpr, threshold = roc_curve(y_test, prob_pred)\n",
        "  print('Roc_AUC: ', round(roc_auc_score(y_test, prob_pred), 3))\n",
        "\n",
        "  plt.subplots(1, figsize = (8, 6))\n",
        "  plt.title('ROC Curve')\n",
        "\n",
        "  plt.plot(fpr, tpr)\n",
        "  plt.xlabel('False Positive Rate (Specificity)')\n",
        "  plt.ylabel('True Positive Rate (Sensibility)')\n",
        "\n",
        "  plt.plot([0, 1], ls = '--', c = 'r')\n",
        "  plt.plot([0, 0], [1, 0], ls = '--', c = 'green')\n",
        "  plt.plot([1, 1], ls = '--', c = 'green')\n",
        "\n",
        "  return model, cm"
      ],
      "metadata": {
        "id": "HBOimoSegYe-"
      },
      "execution_count": 377,
      "outputs": []
    },
    {
      "cell_type": "markdown",
      "source": [
        "Nice! Now, let's define which models we are going to use:"
      ],
      "metadata": {
        "id": "KjBlkmzwimUS"
      }
    },
    {
      "cell_type": "code",
      "source": [
        "from sklearn.linear_model import LogisticRegression\n",
        "from sklearn.tree import DecisionTreeClassifier\n",
        "from sklearn.ensemble import RandomForestClassifier\n",
        "from sklearn.ensemble import GradientBoostingClassifier"
      ],
      "metadata": {
        "id": "gJk4jzSxiqd_"
      },
      "execution_count": 378,
      "outputs": []
    },
    {
      "cell_type": "markdown",
      "source": [
        "So, let's instance our models:"
      ],
      "metadata": {
        "id": "VAXddo8qlzsK"
      }
    },
    {
      "cell_type": "code",
      "source": [
        "model_LogRegr = LogisticRegression(max_iter = 1000)\n",
        "model_DecTree = DecisionTreeClassifier(max_depth = 5)\n",
        "model_RndFrst = RandomForestClassifier(max_depth = 5, n_estimators = 100)\n",
        "model_GrdBstg = GradientBoostingClassifier( )"
      ],
      "metadata": {
        "id": "r1bq_hWTh6c_"
      },
      "execution_count": 379,
      "outputs": []
    },
    {
      "cell_type": "markdown",
      "source": [
        "Now, let's run each model:"
      ],
      "metadata": {
        "id": "u1WhCYuymXb1"
      }
    },
    {
      "cell_type": "code",
      "source": [
        "eval_model(X_train, X_test, y_train, y_test, model_LogRegr)"
      ],
      "metadata": {
        "colab": {
          "base_uri": "https://localhost:8080/",
          "height": 1000
        },
        "id": "vPQR6Vu_mW7u",
        "outputId": "d81bc2fc-5638-4cb4-cc3c-60087eaaf4c5"
      },
      "execution_count": 380,
      "outputs": [
        {
          "output_type": "stream",
          "name": "stdout",
          "text": [
            "----------------------------------------------------------------------------------------------------\n",
            "LogisticRegression\n",
            "----------------------------------------------------------------------------------------------------\n"
          ]
        },
        {
          "output_type": "stream",
          "name": "stderr",
          "text": [
            "/usr/local/lib/python3.7/dist-packages/sklearn/utils/deprecation.py:87: FutureWarning: Function plot_confusion_matrix is deprecated; Function `plot_confusion_matrix` is deprecated in 1.0 and will be removed in 1.2. Use one of the class methods: ConfusionMatrixDisplay.from_predictions or ConfusionMatrixDisplay.from_estimator.\n",
            "  warnings.warn(msg, category=FutureWarning)\n"
          ]
        },
        {
          "output_type": "display_data",
          "data": {
            "text/plain": [
              "<Figure size 432x288 with 2 Axes>"
            ],
            "image/png": "[encoded data removed]"
          },
          "metadata": {
            "needs_background": "light"
          }
        },
        {
          "output_type": "stream",
          "name": "stdout",
          "text": [
            "\n",
            "Classification Report:\n",
            "              precision    recall  f1-score   support\n",
            "\n",
            "           0       0.76      0.90      0.82       214\n",
            "           1       0.53      0.28      0.37        86\n",
            "\n",
            "    accuracy                           0.72       300\n",
            "   macro avg       0.65      0.59      0.59       300\n",
            "weighted avg       0.69      0.72      0.69       300\n",
            "\n",
            "Roc_AUC:  0.723\n"
          ]
        },
        {
          "output_type": "execute_result",
          "data": {
            "text/plain": [
              "(LogisticRegression(max_iter=1000),\n",
              " <sklearn.metrics._plot.confusion_matrix.ConfusionMatrixDisplay at 0x7f69977bfb50>)"
            ]
          },
          "metadata": {},
          "execution_count": 380
        },
        {
          "output_type": "display_data",
          "data": {
            "text/plain": [
              "<Figure size 576x432 with 1 Axes>"
            ],
            "image/png": "[encoded data removed]"
          },
          "metadata": {
            "needs_background": "light"
          }
        }
      ]
    },
    {
      "cell_type": "code",
      "source": [
        "eval_model(X_train, X_test, y_train, y_test, model_DecTree)"
      ],
      "metadata": {
        "colab": {
          "base_uri": "https://localhost:8080/",
          "height": 1000
        },
        "id": "3VRoT7iFmdrW",
        "outputId": "b5d659e8-82e1-43bf-9d7f-68a711120021"
      },
      "execution_count": 381,
      "outputs": [
        {
          "output_type": "stream",
          "name": "stdout",
          "text": [
            "----------------------------------------------------------------------------------------------------\n",
            "DecisionTreeClassifier\n",
            "----------------------------------------------------------------------------------------------------\n"
          ]
        },
        {
          "output_type": "stream",
          "name": "stderr",
          "text": [
            "/usr/local/lib/python3.7/dist-packages/sklearn/utils/deprecation.py:87: FutureWarning: Function plot_confusion_matrix is deprecated; Function `plot_confusion_matrix` is deprecated in 1.0 and will be removed in 1.2. Use one of the class methods: ConfusionMatrixDisplay.from_predictions or ConfusionMatrixDisplay.from_estimator.\n",
            "  warnings.warn(msg, category=FutureWarning)\n"
          ]
        },
        {
          "output_type": "display_data",
          "data": {
            "text/plain": [
              "<Figure size 432x288 with 2 Axes>"
            ],
            "image/png": "[encoded data removed]"
          },
          "metadata": {
            "needs_background": "light"
          }
        },
        {
          "output_type": "stream",
          "name": "stdout",
          "text": [
            "\n",
            "Classification Report:\n",
            "              precision    recall  f1-score   support\n",
            "\n",
            "           0       0.77      0.89      0.83       214\n",
            "           1       0.55      0.33      0.41        86\n",
            "\n",
            "    accuracy                           0.73       300\n",
            "   macro avg       0.66      0.61      0.62       300\n",
            "weighted avg       0.70      0.73      0.71       300\n",
            "\n",
            "Roc_AUC:  0.721\n"
          ]
        },
        {
          "output_type": "execute_result",
          "data": {
            "text/plain": [
              "(DecisionTreeClassifier(max_depth=5),\n",
              " <sklearn.metrics._plot.confusion_matrix.ConfusionMatrixDisplay at 0x7f6999375410>)"
            ]
          },
          "metadata": {},
          "execution_count": 381
        },
        {
          "output_type": "display_data",
          "data": {
            "text/plain": [
              "<Figure size 576x432 with 1 Axes>"
            ],
            "image/png": "[encoded data removed]"
          },
          "metadata": {
            "needs_background": "light"
          }
        }
      ]
    },
    {
      "cell_type": "code",
      "source": [
        "eval_model(X_train, X_test, y_train, y_test, model_RndFrst)"
      ],
      "metadata": {
        "colab": {
          "base_uri": "https://localhost:8080/",
          "height": 1000
        },
        "id": "nkMPI2GImtzy",
        "outputId": "08e29e3d-f432-43b8-94f9-bb3f2088334a"
      },
      "execution_count": 382,
      "outputs": [
        {
          "output_type": "stream",
          "name": "stdout",
          "text": [
            "----------------------------------------------------------------------------------------------------\n",
            "RandomForestClassifier\n",
            "----------------------------------------------------------------------------------------------------\n"
          ]
        },
        {
          "output_type": "stream",
          "name": "stderr",
          "text": [
            "/usr/local/lib/python3.7/dist-packages/sklearn/utils/deprecation.py:87: FutureWarning: Function plot_confusion_matrix is deprecated; Function `plot_confusion_matrix` is deprecated in 1.0 and will be removed in 1.2. Use one of the class methods: ConfusionMatrixDisplay.from_predictions or ConfusionMatrixDisplay.from_estimator.\n",
            "  warnings.warn(msg, category=FutureWarning)\n"
          ]
        },
        {
          "output_type": "display_data",
          "data": {
            "text/plain": [
              "<Figure size 432x288 with 2 Axes>"
            ],
            "image/png": "[encoded data removed]"
          },
          "metadata": {
            "needs_background": "light"
          }
        },
        {
          "output_type": "stream",
          "name": "stdout",
          "text": [
            "\n",
            "Classification Report:\n",
            "              precision    recall  f1-score   support\n",
            "\n",
            "           0       0.75      0.96      0.84       214\n",
            "           1       0.69      0.21      0.32        86\n",
            "\n",
            "    accuracy                           0.75       300\n",
            "   macro avg       0.72      0.59      0.58       300\n",
            "weighted avg       0.73      0.75      0.69       300\n",
            "\n",
            "Roc_AUC:  0.792\n"
          ]
        },
        {
          "output_type": "execute_result",
          "data": {
            "text/plain": [
              "(RandomForestClassifier(max_depth=5),\n",
              " <sklearn.metrics._plot.confusion_matrix.ConfusionMatrixDisplay at 0x7f6997c59790>)"
            ]
          },
          "metadata": {},
          "execution_count": 382
        },
        {
          "output_type": "display_data",
          "data": {
            "text/plain": [
              "<Figure size 576x432 with 1 Axes>"
            ],
            "image/png": "[encoded data removed]"
          },
          "metadata": {
            "needs_background": "light"
          }
        }
      ]
    },
    {
      "cell_type": "code",
      "source": [
        "eval_model(X_train, X_test, y_train, y_test, model_GrdBstg)"
      ],
      "metadata": {
        "colab": {
          "base_uri": "https://localhost:8080/",
          "height": 1000
        },
        "id": "c6BcssBEmuFg",
        "outputId": "dec061af-d419-4842-e946-0e1a64b29fc4"
      },
      "execution_count": 383,
      "outputs": [
        {
          "output_type": "stream",
          "name": "stdout",
          "text": [
            "----------------------------------------------------------------------------------------------------\n",
            "GradientBoostingClassifier\n",
            "----------------------------------------------------------------------------------------------------\n"
          ]
        },
        {
          "output_type": "stream",
          "name": "stderr",
          "text": [
            "/usr/local/lib/python3.7/dist-packages/sklearn/utils/deprecation.py:87: FutureWarning: Function plot_confusion_matrix is deprecated; Function `plot_confusion_matrix` is deprecated in 1.0 and will be removed in 1.2. Use one of the class methods: ConfusionMatrixDisplay.from_predictions or ConfusionMatrixDisplay.from_estimator.\n",
            "  warnings.warn(msg, category=FutureWarning)\n"
          ]
        },
        {
          "output_type": "display_data",
          "data": {
            "text/plain": [
              "<Figure size 432x288 with 2 Axes>"
            ],
            "image/png": "[encoded data removed]"
          },
          "metadata": {
            "needs_background": "light"
          }
        },
        {
          "output_type": "stream",
          "name": "stdout",
          "text": [
            "\n",
            "Classification Report:\n",
            "              precision    recall  f1-score   support\n",
            "\n",
            "           0       0.80      0.88      0.84       214\n",
            "           1       0.61      0.45      0.52        86\n",
            "\n",
            "    accuracy                           0.76       300\n",
            "   macro avg       0.71      0.67      0.68       300\n",
            "weighted avg       0.75      0.76      0.75       300\n",
            "\n",
            "Roc_AUC:  0.776\n"
          ]
        },
        {
          "output_type": "execute_result",
          "data": {
            "text/plain": [
              "(GradientBoostingClassifier(),\n",
              " <sklearn.metrics._plot.confusion_matrix.ConfusionMatrixDisplay at 0x7f6997d4b7d0>)"
            ]
          },
          "metadata": {},
          "execution_count": 383
        },
        {
          "output_type": "display_data",
          "data": {
            "text/plain": [
              "<Figure size 576x432 with 1 Axes>"
            ],
            "image/png": "[encoded data removed]"
          },
          "metadata": {
            "needs_background": "light"
          }
        }
      ]
    },
    {
      "cell_type": "markdown",
      "source": [
        "Note that the change in the models is very minor, and there are trade-offs between each model. "
      ],
      "metadata": {
        "id": "AqcaLPkas6FO"
      }
    }
  ]
}